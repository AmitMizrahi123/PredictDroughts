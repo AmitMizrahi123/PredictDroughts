{
 "cells": [
  {
   "cell_type": "code",
   "execution_count": 15,
   "metadata": {},
   "outputs": [],
   "source": [
    "import pandas as pd\n",
    "from sklearn.model_selection import GridSearchCV\n",
    "from sklearn.metrics import make_scorer\n",
    "from sklearn.model_selection import train_test_split\n",
    "from sklearn.ensemble import RandomForestClassifier\n",
    "from sklearn.linear_model import LogisticRegression\n",
    "from sklearn.neighbors import KNeighborsClassifier\n",
    "from sklearn.tree import DecisionTreeClassifier\n",
    "from sklearn.naive_bayes import GaussianNB\n",
    "from sklearn import metrics\n",
    "from sklearn.model_selection import cross_val_score\n",
    "import seaborn as sns \n",
    "\n",
    "base_url = r'/home/amit/DataScienceProject/PredictDroughts/'"
   ]
  },
  {
   "cell_type": "markdown",
   "metadata": {},
   "source": [
    "Preparation to Machine Learning"
   ]
  },
  {
   "cell_type": "code",
   "execution_count": 3,
   "metadata": {},
   "outputs": [
    {
     "data": {
      "text/html": "<div>\n<style scoped>\n    .dataframe tbody tr th:only-of-type {\n        vertical-align: middle;\n    }\n\n    .dataframe tbody tr th {\n        vertical-align: top;\n    }\n\n    .dataframe thead th {\n        text-align: right;\n    }\n</style>\n<table border=\"1\" class=\"dataframe\">\n  <thead>\n    <tr style=\"text-align: right;\">\n      <th></th>\n      <th>Week</th>\n      <th>State</th>\n      <th>Postal Code</th>\n      <th>Fips</th>\n      <th>Longitude</th>\n      <th>Latitude</th>\n      <th>PRECTOT</th>\n      <th>WS10M_MIN</th>\n      <th>QV2M</th>\n      <th>T2M_RANGE</th>\n      <th>...</th>\n      <th>WS50M_RANGE</th>\n      <th>WS50M_MAX</th>\n      <th>WS10M_MAX</th>\n      <th>WS10M_RANGE</th>\n      <th>PS</th>\n      <th>T2MDEW</th>\n      <th>T2M_MIN</th>\n      <th>T2MWET</th>\n      <th>Aland_SQMI</th>\n      <th>LEVEL</th>\n    </tr>\n  </thead>\n  <tbody>\n    <tr>\n      <th>0</th>\n      <td>2000-01-04</td>\n      <td>Alabama</td>\n      <td>AL</td>\n      <td>1</td>\n      <td>-86.902298</td>\n      <td>32.318231</td>\n      <td>12.35</td>\n      <td>2.14</td>\n      <td>6.84</td>\n      <td>15.39</td>\n      <td>...</td>\n      <td>5.24</td>\n      <td>8.80</td>\n      <td>5.44</td>\n      <td>3.30</td>\n      <td>100.72</td>\n      <td>6.95</td>\n      <td>2.85</td>\n      <td>6.97</td>\n      <td>31400.1046</td>\n      <td>1</td>\n    </tr>\n    <tr>\n      <th>1</th>\n      <td>2000-01-11</td>\n      <td>Alabama</td>\n      <td>AL</td>\n      <td>1</td>\n      <td>-86.902298</td>\n      <td>32.318231</td>\n      <td>0.97</td>\n      <td>1.18</td>\n      <td>7.09</td>\n      <td>13.70</td>\n      <td>...</td>\n      <td>4.09</td>\n      <td>6.18</td>\n      <td>2.51</td>\n      <td>1.33</td>\n      <td>100.83</td>\n      <td>8.89</td>\n      <td>5.91</td>\n      <td>8.89</td>\n      <td>31400.1046</td>\n      <td>1</td>\n    </tr>\n    <tr>\n      <th>2</th>\n      <td>2000-01-18</td>\n      <td>Alabama</td>\n      <td>AL</td>\n      <td>1</td>\n      <td>-86.902298</td>\n      <td>32.318231</td>\n      <td>1.80</td>\n      <td>1.59</td>\n      <td>9.91</td>\n      <td>6.50</td>\n      <td>...</td>\n      <td>2.75</td>\n      <td>6.29</td>\n      <td>3.87</td>\n      <td>2.28</td>\n      <td>100.82</td>\n      <td>13.94</td>\n      <td>11.96</td>\n      <td>13.94</td>\n      <td>31400.1046</td>\n      <td>1</td>\n    </tr>\n    <tr>\n      <th>3</th>\n      <td>2000-01-25</td>\n      <td>Alabama</td>\n      <td>AL</td>\n      <td>1</td>\n      <td>-86.902298</td>\n      <td>32.318231</td>\n      <td>0.00</td>\n      <td>2.20</td>\n      <td>2.15</td>\n      <td>10.89</td>\n      <td>...</td>\n      <td>3.71</td>\n      <td>7.61</td>\n      <td>4.35</td>\n      <td>2.16</td>\n      <td>100.53</td>\n      <td>-7.34</td>\n      <td>-4.39</td>\n      <td>-7.14</td>\n      <td>31400.1046</td>\n      <td>1</td>\n    </tr>\n    <tr>\n      <th>4</th>\n      <td>2000-02-01</td>\n      <td>Alabama</td>\n      <td>AL</td>\n      <td>1</td>\n      <td>-86.902298</td>\n      <td>32.318231</td>\n      <td>0.01</td>\n      <td>0.73</td>\n      <td>3.38</td>\n      <td>15.38</td>\n      <td>...</td>\n      <td>5.12</td>\n      <td>6.04</td>\n      <td>2.41</td>\n      <td>1.69</td>\n      <td>101.43</td>\n      <td>-1.58</td>\n      <td>-3.99</td>\n      <td>-1.55</td>\n      <td>31400.1046</td>\n      <td>1</td>\n    </tr>\n    <tr>\n      <th>...</th>\n      <td>...</td>\n      <td>...</td>\n      <td>...</td>\n      <td>...</td>\n      <td>...</td>\n      <td>...</td>\n      <td>...</td>\n      <td>...</td>\n      <td>...</td>\n      <td>...</td>\n      <td>...</td>\n      <td>...</td>\n      <td>...</td>\n      <td>...</td>\n      <td>...</td>\n      <td>...</td>\n      <td>...</td>\n      <td>...</td>\n      <td>...</td>\n      <td>...</td>\n      <td>...</td>\n    </tr>\n    <tr>\n      <th>56787</th>\n      <td>2021-05-11</td>\n      <td>Wyoming</td>\n      <td>WY</td>\n      <td>56</td>\n      <td>-107.290284</td>\n      <td>43.075968</td>\n      <td>0.70</td>\n      <td>2.00</td>\n      <td>3.90</td>\n      <td>10.46</td>\n      <td>...</td>\n      <td>4.09</td>\n      <td>7.08</td>\n      <td>6.11</td>\n      <td>4.11</td>\n      <td>81.57</td>\n      <td>-2.45</td>\n      <td>-2.92</td>\n      <td>0.02</td>\n      <td>60197.7468</td>\n      <td>2</td>\n    </tr>\n    <tr>\n      <th>56788</th>\n      <td>2021-05-18</td>\n      <td>Wyoming</td>\n      <td>WY</td>\n      <td>56</td>\n      <td>-107.290284</td>\n      <td>43.075968</td>\n      <td>0.00</td>\n      <td>0.47</td>\n      <td>6.54</td>\n      <td>17.38</td>\n      <td>...</td>\n      <td>6.01</td>\n      <td>6.73</td>\n      <td>3.36</td>\n      <td>2.89</td>\n      <td>80.75</td>\n      <td>4.49</td>\n      <td>6.61</td>\n      <td>10.45</td>\n      <td>60197.7468</td>\n      <td>1</td>\n    </tr>\n    <tr>\n      <th>56789</th>\n      <td>2021-05-25</td>\n      <td>Wyoming</td>\n      <td>WY</td>\n      <td>56</td>\n      <td>-107.290284</td>\n      <td>43.075968</td>\n      <td>0.11</td>\n      <td>0.95</td>\n      <td>5.07</td>\n      <td>16.60</td>\n      <td>...</td>\n      <td>7.49</td>\n      <td>9.18</td>\n      <td>6.45</td>\n      <td>5.50</td>\n      <td>81.35</td>\n      <td>1.03</td>\n      <td>3.02</td>\n      <td>6.50</td>\n      <td>60197.7468</td>\n      <td>1</td>\n    </tr>\n    <tr>\n      <th>56790</th>\n      <td>2021-06-01</td>\n      <td>Wyoming</td>\n      <td>WY</td>\n      <td>56</td>\n      <td>-107.290284</td>\n      <td>43.075968</td>\n      <td>1.19</td>\n      <td>1.75</td>\n      <td>7.33</td>\n      <td>12.02</td>\n      <td>...</td>\n      <td>3.61</td>\n      <td>6.54</td>\n      <td>4.33</td>\n      <td>2.58</td>\n      <td>81.70</td>\n      <td>6.35</td>\n      <td>9.74</td>\n      <td>11.27</td>\n      <td>60197.7468</td>\n      <td>1</td>\n    </tr>\n    <tr>\n      <th>56791</th>\n      <td>2021-06-15</td>\n      <td>Wyoming</td>\n      <td>WY</td>\n      <td>56</td>\n      <td>-107.290284</td>\n      <td>43.075968</td>\n      <td>0.00</td>\n      <td>2.45</td>\n      <td>5.70</td>\n      <td>20.28</td>\n      <td>...</td>\n      <td>5.38</td>\n      <td>9.27</td>\n      <td>7.68</td>\n      <td>5.22</td>\n      <td>81.58</td>\n      <td>2.68</td>\n      <td>14.46</td>\n      <td>13.91</td>\n      <td>60197.7468</td>\n      <td>2</td>\n    </tr>\n  </tbody>\n</table>\n<p>56792 rows × 26 columns</p>\n</div>",
      "text/plain": "             Week    State Postal Code  Fips   Longitude   Latitude  PRECTOT  \\\n0      2000-01-04  Alabama          AL     1  -86.902298  32.318231    12.35   \n1      2000-01-11  Alabama          AL     1  -86.902298  32.318231     0.97   \n2      2000-01-18  Alabama          AL     1  -86.902298  32.318231     1.80   \n3      2000-01-25  Alabama          AL     1  -86.902298  32.318231     0.00   \n4      2000-02-01  Alabama          AL     1  -86.902298  32.318231     0.01   \n...           ...      ...         ...   ...         ...        ...      ...   \n56787  2021-05-11  Wyoming          WY    56 -107.290284  43.075968     0.70   \n56788  2021-05-18  Wyoming          WY    56 -107.290284  43.075968     0.00   \n56789  2021-05-25  Wyoming          WY    56 -107.290284  43.075968     0.11   \n56790  2021-06-01  Wyoming          WY    56 -107.290284  43.075968     1.19   \n56791  2021-06-15  Wyoming          WY    56 -107.290284  43.075968     0.00   \n\n       WS10M_MIN  QV2M  T2M_RANGE  ...  WS50M_RANGE  WS50M_MAX  WS10M_MAX  \\\n0           2.14  6.84      15.39  ...         5.24       8.80       5.44   \n1           1.18  7.09      13.70  ...         4.09       6.18       2.51   \n2           1.59  9.91       6.50  ...         2.75       6.29       3.87   \n3           2.20  2.15      10.89  ...         3.71       7.61       4.35   \n4           0.73  3.38      15.38  ...         5.12       6.04       2.41   \n...          ...   ...        ...  ...          ...        ...        ...   \n56787       2.00  3.90      10.46  ...         4.09       7.08       6.11   \n56788       0.47  6.54      17.38  ...         6.01       6.73       3.36   \n56789       0.95  5.07      16.60  ...         7.49       9.18       6.45   \n56790       1.75  7.33      12.02  ...         3.61       6.54       4.33   \n56791       2.45  5.70      20.28  ...         5.38       9.27       7.68   \n\n       WS10M_RANGE      PS  T2MDEW  T2M_MIN  T2MWET  Aland_SQMI  LEVEL  \n0             3.30  100.72    6.95     2.85    6.97  31400.1046      1  \n1             1.33  100.83    8.89     5.91    8.89  31400.1046      1  \n2             2.28  100.82   13.94    11.96   13.94  31400.1046      1  \n3             2.16  100.53   -7.34    -4.39   -7.14  31400.1046      1  \n4             1.69  101.43   -1.58    -3.99   -1.55  31400.1046      1  \n...            ...     ...     ...      ...     ...         ...    ...  \n56787         4.11   81.57   -2.45    -2.92    0.02  60197.7468      2  \n56788         2.89   80.75    4.49     6.61   10.45  60197.7468      1  \n56789         5.50   81.35    1.03     3.02    6.50  60197.7468      1  \n56790         2.58   81.70    6.35     9.74   11.27  60197.7468      1  \n56791         5.22   81.58    2.68    14.46   13.91  60197.7468      2  \n\n[56792 rows x 26 columns]"
     },
     "execution_count": 3,
     "metadata": {},
     "output_type": "execute_result"
    }
   ],
   "source": [
    "df = pd.read_csv(base_url + 'files/merge.csv', index_col=0)\n",
    "df"
   ]
  },
  {
   "cell_type": "code",
   "execution_count": 4,
   "metadata": {},
   "outputs": [
    {
     "data": {
      "text/html": "<div>\n<style scoped>\n    .dataframe tbody tr th:only-of-type {\n        vertical-align: middle;\n    }\n\n    .dataframe tbody tr th {\n        vertical-align: top;\n    }\n\n    .dataframe thead th {\n        text-align: right;\n    }\n</style>\n<table border=\"1\" class=\"dataframe\">\n  <thead>\n    <tr style=\"text-align: right;\">\n      <th></th>\n      <th>Year</th>\n      <th>Month</th>\n      <th>Day</th>\n      <th>State</th>\n      <th>Postal Code</th>\n      <th>Fips</th>\n      <th>Longitude</th>\n      <th>Latitude</th>\n      <th>PRECTOT</th>\n      <th>WS10M_MIN</th>\n      <th>...</th>\n      <th>WS50M_RANGE</th>\n      <th>WS50M_MAX</th>\n      <th>WS10M_MAX</th>\n      <th>WS10M_RANGE</th>\n      <th>PS</th>\n      <th>T2MDEW</th>\n      <th>T2M_MIN</th>\n      <th>T2MWET</th>\n      <th>Aland_SQMI</th>\n      <th>LEVEL</th>\n    </tr>\n  </thead>\n  <tbody>\n    <tr>\n      <th>0</th>\n      <td>2000</td>\n      <td>1</td>\n      <td>4</td>\n      <td>Alabama</td>\n      <td>AL</td>\n      <td>1</td>\n      <td>-86.902298</td>\n      <td>32.318231</td>\n      <td>12.35</td>\n      <td>2.14</td>\n      <td>...</td>\n      <td>5.24</td>\n      <td>8.80</td>\n      <td>5.44</td>\n      <td>3.30</td>\n      <td>100.72</td>\n      <td>6.95</td>\n      <td>2.85</td>\n      <td>6.97</td>\n      <td>31400.1046</td>\n      <td>1</td>\n    </tr>\n    <tr>\n      <th>1</th>\n      <td>2000</td>\n      <td>1</td>\n      <td>11</td>\n      <td>Alabama</td>\n      <td>AL</td>\n      <td>1</td>\n      <td>-86.902298</td>\n      <td>32.318231</td>\n      <td>0.97</td>\n      <td>1.18</td>\n      <td>...</td>\n      <td>4.09</td>\n      <td>6.18</td>\n      <td>2.51</td>\n      <td>1.33</td>\n      <td>100.83</td>\n      <td>8.89</td>\n      <td>5.91</td>\n      <td>8.89</td>\n      <td>31400.1046</td>\n      <td>1</td>\n    </tr>\n    <tr>\n      <th>2</th>\n      <td>2000</td>\n      <td>1</td>\n      <td>18</td>\n      <td>Alabama</td>\n      <td>AL</td>\n      <td>1</td>\n      <td>-86.902298</td>\n      <td>32.318231</td>\n      <td>1.80</td>\n      <td>1.59</td>\n      <td>...</td>\n      <td>2.75</td>\n      <td>6.29</td>\n      <td>3.87</td>\n      <td>2.28</td>\n      <td>100.82</td>\n      <td>13.94</td>\n      <td>11.96</td>\n      <td>13.94</td>\n      <td>31400.1046</td>\n      <td>1</td>\n    </tr>\n    <tr>\n      <th>3</th>\n      <td>2000</td>\n      <td>1</td>\n      <td>25</td>\n      <td>Alabama</td>\n      <td>AL</td>\n      <td>1</td>\n      <td>-86.902298</td>\n      <td>32.318231</td>\n      <td>0.00</td>\n      <td>2.20</td>\n      <td>...</td>\n      <td>3.71</td>\n      <td>7.61</td>\n      <td>4.35</td>\n      <td>2.16</td>\n      <td>100.53</td>\n      <td>-7.34</td>\n      <td>-4.39</td>\n      <td>-7.14</td>\n      <td>31400.1046</td>\n      <td>1</td>\n    </tr>\n    <tr>\n      <th>4</th>\n      <td>2000</td>\n      <td>2</td>\n      <td>1</td>\n      <td>Alabama</td>\n      <td>AL</td>\n      <td>1</td>\n      <td>-86.902298</td>\n      <td>32.318231</td>\n      <td>0.01</td>\n      <td>0.73</td>\n      <td>...</td>\n      <td>5.12</td>\n      <td>6.04</td>\n      <td>2.41</td>\n      <td>1.69</td>\n      <td>101.43</td>\n      <td>-1.58</td>\n      <td>-3.99</td>\n      <td>-1.55</td>\n      <td>31400.1046</td>\n      <td>1</td>\n    </tr>\n    <tr>\n      <th>...</th>\n      <td>...</td>\n      <td>...</td>\n      <td>...</td>\n      <td>...</td>\n      <td>...</td>\n      <td>...</td>\n      <td>...</td>\n      <td>...</td>\n      <td>...</td>\n      <td>...</td>\n      <td>...</td>\n      <td>...</td>\n      <td>...</td>\n      <td>...</td>\n      <td>...</td>\n      <td>...</td>\n      <td>...</td>\n      <td>...</td>\n      <td>...</td>\n      <td>...</td>\n      <td>...</td>\n    </tr>\n    <tr>\n      <th>56787</th>\n      <td>2021</td>\n      <td>5</td>\n      <td>11</td>\n      <td>Wyoming</td>\n      <td>WY</td>\n      <td>56</td>\n      <td>-107.290284</td>\n      <td>43.075968</td>\n      <td>0.70</td>\n      <td>2.00</td>\n      <td>...</td>\n      <td>4.09</td>\n      <td>7.08</td>\n      <td>6.11</td>\n      <td>4.11</td>\n      <td>81.57</td>\n      <td>-2.45</td>\n      <td>-2.92</td>\n      <td>0.02</td>\n      <td>60197.7468</td>\n      <td>2</td>\n    </tr>\n    <tr>\n      <th>56788</th>\n      <td>2021</td>\n      <td>5</td>\n      <td>18</td>\n      <td>Wyoming</td>\n      <td>WY</td>\n      <td>56</td>\n      <td>-107.290284</td>\n      <td>43.075968</td>\n      <td>0.00</td>\n      <td>0.47</td>\n      <td>...</td>\n      <td>6.01</td>\n      <td>6.73</td>\n      <td>3.36</td>\n      <td>2.89</td>\n      <td>80.75</td>\n      <td>4.49</td>\n      <td>6.61</td>\n      <td>10.45</td>\n      <td>60197.7468</td>\n      <td>1</td>\n    </tr>\n    <tr>\n      <th>56789</th>\n      <td>2021</td>\n      <td>5</td>\n      <td>25</td>\n      <td>Wyoming</td>\n      <td>WY</td>\n      <td>56</td>\n      <td>-107.290284</td>\n      <td>43.075968</td>\n      <td>0.11</td>\n      <td>0.95</td>\n      <td>...</td>\n      <td>7.49</td>\n      <td>9.18</td>\n      <td>6.45</td>\n      <td>5.50</td>\n      <td>81.35</td>\n      <td>1.03</td>\n      <td>3.02</td>\n      <td>6.50</td>\n      <td>60197.7468</td>\n      <td>1</td>\n    </tr>\n    <tr>\n      <th>56790</th>\n      <td>2021</td>\n      <td>6</td>\n      <td>1</td>\n      <td>Wyoming</td>\n      <td>WY</td>\n      <td>56</td>\n      <td>-107.290284</td>\n      <td>43.075968</td>\n      <td>1.19</td>\n      <td>1.75</td>\n      <td>...</td>\n      <td>3.61</td>\n      <td>6.54</td>\n      <td>4.33</td>\n      <td>2.58</td>\n      <td>81.70</td>\n      <td>6.35</td>\n      <td>9.74</td>\n      <td>11.27</td>\n      <td>60197.7468</td>\n      <td>1</td>\n    </tr>\n    <tr>\n      <th>56791</th>\n      <td>2021</td>\n      <td>6</td>\n      <td>15</td>\n      <td>Wyoming</td>\n      <td>WY</td>\n      <td>56</td>\n      <td>-107.290284</td>\n      <td>43.075968</td>\n      <td>0.00</td>\n      <td>2.45</td>\n      <td>...</td>\n      <td>5.38</td>\n      <td>9.27</td>\n      <td>7.68</td>\n      <td>5.22</td>\n      <td>81.58</td>\n      <td>2.68</td>\n      <td>14.46</td>\n      <td>13.91</td>\n      <td>60197.7468</td>\n      <td>2</td>\n    </tr>\n  </tbody>\n</table>\n<p>56792 rows × 28 columns</p>\n</div>",
      "text/plain": "       Year  Month  Day    State Postal Code  Fips   Longitude   Latitude  \\\n0      2000      1    4  Alabama          AL     1  -86.902298  32.318231   \n1      2000      1   11  Alabama          AL     1  -86.902298  32.318231   \n2      2000      1   18  Alabama          AL     1  -86.902298  32.318231   \n3      2000      1   25  Alabama          AL     1  -86.902298  32.318231   \n4      2000      2    1  Alabama          AL     1  -86.902298  32.318231   \n...     ...    ...  ...      ...         ...   ...         ...        ...   \n56787  2021      5   11  Wyoming          WY    56 -107.290284  43.075968   \n56788  2021      5   18  Wyoming          WY    56 -107.290284  43.075968   \n56789  2021      5   25  Wyoming          WY    56 -107.290284  43.075968   \n56790  2021      6    1  Wyoming          WY    56 -107.290284  43.075968   \n56791  2021      6   15  Wyoming          WY    56 -107.290284  43.075968   \n\n       PRECTOT  WS10M_MIN  ...  WS50M_RANGE  WS50M_MAX  WS10M_MAX  \\\n0        12.35       2.14  ...         5.24       8.80       5.44   \n1         0.97       1.18  ...         4.09       6.18       2.51   \n2         1.80       1.59  ...         2.75       6.29       3.87   \n3         0.00       2.20  ...         3.71       7.61       4.35   \n4         0.01       0.73  ...         5.12       6.04       2.41   \n...        ...        ...  ...          ...        ...        ...   \n56787     0.70       2.00  ...         4.09       7.08       6.11   \n56788     0.00       0.47  ...         6.01       6.73       3.36   \n56789     0.11       0.95  ...         7.49       9.18       6.45   \n56790     1.19       1.75  ...         3.61       6.54       4.33   \n56791     0.00       2.45  ...         5.38       9.27       7.68   \n\n       WS10M_RANGE      PS  T2MDEW  T2M_MIN  T2MWET  Aland_SQMI  LEVEL  \n0             3.30  100.72    6.95     2.85    6.97  31400.1046      1  \n1             1.33  100.83    8.89     5.91    8.89  31400.1046      1  \n2             2.28  100.82   13.94    11.96   13.94  31400.1046      1  \n3             2.16  100.53   -7.34    -4.39   -7.14  31400.1046      1  \n4             1.69  101.43   -1.58    -3.99   -1.55  31400.1046      1  \n...            ...     ...     ...      ...     ...         ...    ...  \n56787         4.11   81.57   -2.45    -2.92    0.02  60197.7468      2  \n56788         2.89   80.75    4.49     6.61   10.45  60197.7468      1  \n56789         5.50   81.35    1.03     3.02    6.50  60197.7468      1  \n56790         2.58   81.70    6.35     9.74   11.27  60197.7468      1  \n56791         5.22   81.58    2.68    14.46   13.91  60197.7468      2  \n\n[56792 rows x 28 columns]"
     },
     "execution_count": 4,
     "metadata": {},
     "output_type": "execute_result"
    }
   ],
   "source": [
    "# Seperate date to year, month and day\n",
    "\n",
    "df['Week'] = pd.to_datetime(df['Week'])\n",
    "set_year = df['Week'].dt.year.to_list()\n",
    "set_month = df['Week'].dt.month.to_list()\n",
    "set_day = df['Week'].dt.day.to_list()\n",
    "df.insert(0, \"Year\", set_year, None)\n",
    "df.insert(1, \"Month\", set_month, None)\n",
    "df.insert(2, \"Day\", set_day, None)\n",
    "df = df.drop(columns='Week', axis=1)\n",
    "df"
   ]
  },
  {
   "cell_type": "code",
   "execution_count": 5,
   "metadata": {},
   "outputs": [
    {
     "data": {
      "text/html": "<div>\n<style scoped>\n    .dataframe tbody tr th:only-of-type {\n        vertical-align: middle;\n    }\n\n    .dataframe tbody tr th {\n        vertical-align: top;\n    }\n\n    .dataframe thead th {\n        text-align: right;\n    }\n</style>\n<table border=\"1\" class=\"dataframe\">\n  <thead>\n    <tr style=\"text-align: right;\">\n      <th></th>\n      <th>Year</th>\n      <th>Month</th>\n      <th>Day</th>\n      <th>State</th>\n      <th>Postal Code</th>\n      <th>Fips</th>\n      <th>Longitude</th>\n      <th>Latitude</th>\n      <th>PRECTOT</th>\n      <th>WS10M_MIN</th>\n      <th>...</th>\n      <th>T2MDEW</th>\n      <th>T2M_MIN</th>\n      <th>T2MWET</th>\n      <th>Aland_SQMI</th>\n      <th>LEVEL</th>\n      <th>level_0</th>\n      <th>level_1</th>\n      <th>level_2</th>\n      <th>level_3</th>\n      <th>level_4</th>\n    </tr>\n  </thead>\n  <tbody>\n    <tr>\n      <th>0</th>\n      <td>2000</td>\n      <td>1</td>\n      <td>4</td>\n      <td>Alabama</td>\n      <td>AL</td>\n      <td>1</td>\n      <td>-86.902298</td>\n      <td>32.318231</td>\n      <td>12.35</td>\n      <td>2.14</td>\n      <td>...</td>\n      <td>6.95</td>\n      <td>2.85</td>\n      <td>6.97</td>\n      <td>31400.1046</td>\n      <td>1</td>\n      <td>0</td>\n      <td>1</td>\n      <td>0</td>\n      <td>0</td>\n      <td>0</td>\n    </tr>\n    <tr>\n      <th>1</th>\n      <td>2000</td>\n      <td>1</td>\n      <td>11</td>\n      <td>Alabama</td>\n      <td>AL</td>\n      <td>1</td>\n      <td>-86.902298</td>\n      <td>32.318231</td>\n      <td>0.97</td>\n      <td>1.18</td>\n      <td>...</td>\n      <td>8.89</td>\n      <td>5.91</td>\n      <td>8.89</td>\n      <td>31400.1046</td>\n      <td>1</td>\n      <td>0</td>\n      <td>1</td>\n      <td>0</td>\n      <td>0</td>\n      <td>0</td>\n    </tr>\n    <tr>\n      <th>2</th>\n      <td>2000</td>\n      <td>1</td>\n      <td>18</td>\n      <td>Alabama</td>\n      <td>AL</td>\n      <td>1</td>\n      <td>-86.902298</td>\n      <td>32.318231</td>\n      <td>1.80</td>\n      <td>1.59</td>\n      <td>...</td>\n      <td>13.94</td>\n      <td>11.96</td>\n      <td>13.94</td>\n      <td>31400.1046</td>\n      <td>1</td>\n      <td>0</td>\n      <td>1</td>\n      <td>0</td>\n      <td>0</td>\n      <td>0</td>\n    </tr>\n    <tr>\n      <th>3</th>\n      <td>2000</td>\n      <td>1</td>\n      <td>25</td>\n      <td>Alabama</td>\n      <td>AL</td>\n      <td>1</td>\n      <td>-86.902298</td>\n      <td>32.318231</td>\n      <td>0.00</td>\n      <td>2.20</td>\n      <td>...</td>\n      <td>-7.34</td>\n      <td>-4.39</td>\n      <td>-7.14</td>\n      <td>31400.1046</td>\n      <td>1</td>\n      <td>0</td>\n      <td>1</td>\n      <td>0</td>\n      <td>0</td>\n      <td>0</td>\n    </tr>\n    <tr>\n      <th>4</th>\n      <td>2000</td>\n      <td>2</td>\n      <td>1</td>\n      <td>Alabama</td>\n      <td>AL</td>\n      <td>1</td>\n      <td>-86.902298</td>\n      <td>32.318231</td>\n      <td>0.01</td>\n      <td>0.73</td>\n      <td>...</td>\n      <td>-1.58</td>\n      <td>-3.99</td>\n      <td>-1.55</td>\n      <td>31400.1046</td>\n      <td>1</td>\n      <td>0</td>\n      <td>1</td>\n      <td>0</td>\n      <td>0</td>\n      <td>0</td>\n    </tr>\n    <tr>\n      <th>...</th>\n      <td>...</td>\n      <td>...</td>\n      <td>...</td>\n      <td>...</td>\n      <td>...</td>\n      <td>...</td>\n      <td>...</td>\n      <td>...</td>\n      <td>...</td>\n      <td>...</td>\n      <td>...</td>\n      <td>...</td>\n      <td>...</td>\n      <td>...</td>\n      <td>...</td>\n      <td>...</td>\n      <td>...</td>\n      <td>...</td>\n      <td>...</td>\n      <td>...</td>\n      <td>...</td>\n    </tr>\n    <tr>\n      <th>56787</th>\n      <td>2021</td>\n      <td>5</td>\n      <td>11</td>\n      <td>Wyoming</td>\n      <td>WY</td>\n      <td>56</td>\n      <td>-107.290284</td>\n      <td>43.075968</td>\n      <td>0.70</td>\n      <td>2.00</td>\n      <td>...</td>\n      <td>-2.45</td>\n      <td>-2.92</td>\n      <td>0.02</td>\n      <td>60197.7468</td>\n      <td>2</td>\n      <td>0</td>\n      <td>0</td>\n      <td>1</td>\n      <td>0</td>\n      <td>0</td>\n    </tr>\n    <tr>\n      <th>56788</th>\n      <td>2021</td>\n      <td>5</td>\n      <td>18</td>\n      <td>Wyoming</td>\n      <td>WY</td>\n      <td>56</td>\n      <td>-107.290284</td>\n      <td>43.075968</td>\n      <td>0.00</td>\n      <td>0.47</td>\n      <td>...</td>\n      <td>4.49</td>\n      <td>6.61</td>\n      <td>10.45</td>\n      <td>60197.7468</td>\n      <td>1</td>\n      <td>0</td>\n      <td>1</td>\n      <td>0</td>\n      <td>0</td>\n      <td>0</td>\n    </tr>\n    <tr>\n      <th>56789</th>\n      <td>2021</td>\n      <td>5</td>\n      <td>25</td>\n      <td>Wyoming</td>\n      <td>WY</td>\n      <td>56</td>\n      <td>-107.290284</td>\n      <td>43.075968</td>\n      <td>0.11</td>\n      <td>0.95</td>\n      <td>...</td>\n      <td>1.03</td>\n      <td>3.02</td>\n      <td>6.50</td>\n      <td>60197.7468</td>\n      <td>1</td>\n      <td>0</td>\n      <td>1</td>\n      <td>0</td>\n      <td>0</td>\n      <td>0</td>\n    </tr>\n    <tr>\n      <th>56790</th>\n      <td>2021</td>\n      <td>6</td>\n      <td>1</td>\n      <td>Wyoming</td>\n      <td>WY</td>\n      <td>56</td>\n      <td>-107.290284</td>\n      <td>43.075968</td>\n      <td>1.19</td>\n      <td>1.75</td>\n      <td>...</td>\n      <td>6.35</td>\n      <td>9.74</td>\n      <td>11.27</td>\n      <td>60197.7468</td>\n      <td>1</td>\n      <td>0</td>\n      <td>1</td>\n      <td>0</td>\n      <td>0</td>\n      <td>0</td>\n    </tr>\n    <tr>\n      <th>56791</th>\n      <td>2021</td>\n      <td>6</td>\n      <td>15</td>\n      <td>Wyoming</td>\n      <td>WY</td>\n      <td>56</td>\n      <td>-107.290284</td>\n      <td>43.075968</td>\n      <td>0.00</td>\n      <td>2.45</td>\n      <td>...</td>\n      <td>2.68</td>\n      <td>14.46</td>\n      <td>13.91</td>\n      <td>60197.7468</td>\n      <td>2</td>\n      <td>0</td>\n      <td>0</td>\n      <td>1</td>\n      <td>0</td>\n      <td>0</td>\n    </tr>\n  </tbody>\n</table>\n<p>56792 rows × 33 columns</p>\n</div>",
      "text/plain": "       Year  Month  Day    State Postal Code  Fips   Longitude   Latitude  \\\n0      2000      1    4  Alabama          AL     1  -86.902298  32.318231   \n1      2000      1   11  Alabama          AL     1  -86.902298  32.318231   \n2      2000      1   18  Alabama          AL     1  -86.902298  32.318231   \n3      2000      1   25  Alabama          AL     1  -86.902298  32.318231   \n4      2000      2    1  Alabama          AL     1  -86.902298  32.318231   \n...     ...    ...  ...      ...         ...   ...         ...        ...   \n56787  2021      5   11  Wyoming          WY    56 -107.290284  43.075968   \n56788  2021      5   18  Wyoming          WY    56 -107.290284  43.075968   \n56789  2021      5   25  Wyoming          WY    56 -107.290284  43.075968   \n56790  2021      6    1  Wyoming          WY    56 -107.290284  43.075968   \n56791  2021      6   15  Wyoming          WY    56 -107.290284  43.075968   \n\n       PRECTOT  WS10M_MIN  ...  T2MDEW  T2M_MIN  T2MWET  Aland_SQMI  LEVEL  \\\n0        12.35       2.14  ...    6.95     2.85    6.97  31400.1046      1   \n1         0.97       1.18  ...    8.89     5.91    8.89  31400.1046      1   \n2         1.80       1.59  ...   13.94    11.96   13.94  31400.1046      1   \n3         0.00       2.20  ...   -7.34    -4.39   -7.14  31400.1046      1   \n4         0.01       0.73  ...   -1.58    -3.99   -1.55  31400.1046      1   \n...        ...        ...  ...     ...      ...     ...         ...    ...   \n56787     0.70       2.00  ...   -2.45    -2.92    0.02  60197.7468      2   \n56788     0.00       0.47  ...    4.49     6.61   10.45  60197.7468      1   \n56789     0.11       0.95  ...    1.03     3.02    6.50  60197.7468      1   \n56790     1.19       1.75  ...    6.35     9.74   11.27  60197.7468      1   \n56791     0.00       2.45  ...    2.68    14.46   13.91  60197.7468      2   \n\n       level_0  level_1  level_2  level_3  level_4  \n0            0        1        0        0        0  \n1            0        1        0        0        0  \n2            0        1        0        0        0  \n3            0        1        0        0        0  \n4            0        1        0        0        0  \n...        ...      ...      ...      ...      ...  \n56787        0        0        1        0        0  \n56788        0        1        0        0        0  \n56789        0        1        0        0        0  \n56790        0        1        0        0        0  \n56791        0        0        1        0        0  \n\n[56792 rows x 33 columns]"
     },
     "execution_count": 5,
     "metadata": {},
     "output_type": "execute_result"
    }
   ],
   "source": [
    "# One hot encoding on level column\n",
    "\n",
    "encoding_columns = pd.get_dummies(df['LEVEL'], prefix=\"level\")\n",
    "df = df.join(encoding_columns)\n",
    "df"
   ]
  },
  {
   "cell_type": "code",
   "execution_count": 6,
   "metadata": {},
   "outputs": [
    {
     "data": {
      "text/html": "<div>\n<style scoped>\n    .dataframe tbody tr th:only-of-type {\n        vertical-align: middle;\n    }\n\n    .dataframe tbody tr th {\n        vertical-align: top;\n    }\n\n    .dataframe thead th {\n        text-align: right;\n    }\n</style>\n<table border=\"1\" class=\"dataframe\">\n  <thead>\n    <tr style=\"text-align: right;\">\n      <th></th>\n      <th>Year</th>\n      <th>Month</th>\n      <th>Day</th>\n      <th>Fips</th>\n      <th>Longitude</th>\n      <th>Latitude</th>\n      <th>PRECTOT</th>\n      <th>WS10M_MIN</th>\n      <th>QV2M</th>\n      <th>T2M_RANGE</th>\n      <th>...</th>\n      <th>WS10M_RANGE</th>\n      <th>PS</th>\n      <th>T2MDEW</th>\n      <th>T2M_MIN</th>\n      <th>T2MWET</th>\n      <th>level_0</th>\n      <th>level_1</th>\n      <th>level_2</th>\n      <th>level_3</th>\n      <th>level_4</th>\n    </tr>\n  </thead>\n  <tbody>\n    <tr>\n      <th>0</th>\n      <td>2000</td>\n      <td>1</td>\n      <td>4</td>\n      <td>1</td>\n      <td>-86.902298</td>\n      <td>32.318231</td>\n      <td>12.35</td>\n      <td>2.14</td>\n      <td>6.84</td>\n      <td>15.39</td>\n      <td>...</td>\n      <td>3.30</td>\n      <td>100.72</td>\n      <td>6.95</td>\n      <td>2.85</td>\n      <td>6.97</td>\n      <td>0</td>\n      <td>1</td>\n      <td>0</td>\n      <td>0</td>\n      <td>0</td>\n    </tr>\n    <tr>\n      <th>1</th>\n      <td>2000</td>\n      <td>1</td>\n      <td>11</td>\n      <td>1</td>\n      <td>-86.902298</td>\n      <td>32.318231</td>\n      <td>0.97</td>\n      <td>1.18</td>\n      <td>7.09</td>\n      <td>13.70</td>\n      <td>...</td>\n      <td>1.33</td>\n      <td>100.83</td>\n      <td>8.89</td>\n      <td>5.91</td>\n      <td>8.89</td>\n      <td>0</td>\n      <td>1</td>\n      <td>0</td>\n      <td>0</td>\n      <td>0</td>\n    </tr>\n    <tr>\n      <th>2</th>\n      <td>2000</td>\n      <td>1</td>\n      <td>18</td>\n      <td>1</td>\n      <td>-86.902298</td>\n      <td>32.318231</td>\n      <td>1.80</td>\n      <td>1.59</td>\n      <td>9.91</td>\n      <td>6.50</td>\n      <td>...</td>\n      <td>2.28</td>\n      <td>100.82</td>\n      <td>13.94</td>\n      <td>11.96</td>\n      <td>13.94</td>\n      <td>0</td>\n      <td>1</td>\n      <td>0</td>\n      <td>0</td>\n      <td>0</td>\n    </tr>\n    <tr>\n      <th>3</th>\n      <td>2000</td>\n      <td>1</td>\n      <td>25</td>\n      <td>1</td>\n      <td>-86.902298</td>\n      <td>32.318231</td>\n      <td>0.00</td>\n      <td>2.20</td>\n      <td>2.15</td>\n      <td>10.89</td>\n      <td>...</td>\n      <td>2.16</td>\n      <td>100.53</td>\n      <td>-7.34</td>\n      <td>-4.39</td>\n      <td>-7.14</td>\n      <td>0</td>\n      <td>1</td>\n      <td>0</td>\n      <td>0</td>\n      <td>0</td>\n    </tr>\n    <tr>\n      <th>4</th>\n      <td>2000</td>\n      <td>2</td>\n      <td>1</td>\n      <td>1</td>\n      <td>-86.902298</td>\n      <td>32.318231</td>\n      <td>0.01</td>\n      <td>0.73</td>\n      <td>3.38</td>\n      <td>15.38</td>\n      <td>...</td>\n      <td>1.69</td>\n      <td>101.43</td>\n      <td>-1.58</td>\n      <td>-3.99</td>\n      <td>-1.55</td>\n      <td>0</td>\n      <td>1</td>\n      <td>0</td>\n      <td>0</td>\n      <td>0</td>\n    </tr>\n    <tr>\n      <th>...</th>\n      <td>...</td>\n      <td>...</td>\n      <td>...</td>\n      <td>...</td>\n      <td>...</td>\n      <td>...</td>\n      <td>...</td>\n      <td>...</td>\n      <td>...</td>\n      <td>...</td>\n      <td>...</td>\n      <td>...</td>\n      <td>...</td>\n      <td>...</td>\n      <td>...</td>\n      <td>...</td>\n      <td>...</td>\n      <td>...</td>\n      <td>...</td>\n      <td>...</td>\n      <td>...</td>\n    </tr>\n    <tr>\n      <th>56787</th>\n      <td>2021</td>\n      <td>5</td>\n      <td>11</td>\n      <td>56</td>\n      <td>-107.290284</td>\n      <td>43.075968</td>\n      <td>0.70</td>\n      <td>2.00</td>\n      <td>3.90</td>\n      <td>10.46</td>\n      <td>...</td>\n      <td>4.11</td>\n      <td>81.57</td>\n      <td>-2.45</td>\n      <td>-2.92</td>\n      <td>0.02</td>\n      <td>0</td>\n      <td>0</td>\n      <td>1</td>\n      <td>0</td>\n      <td>0</td>\n    </tr>\n    <tr>\n      <th>56788</th>\n      <td>2021</td>\n      <td>5</td>\n      <td>18</td>\n      <td>56</td>\n      <td>-107.290284</td>\n      <td>43.075968</td>\n      <td>0.00</td>\n      <td>0.47</td>\n      <td>6.54</td>\n      <td>17.38</td>\n      <td>...</td>\n      <td>2.89</td>\n      <td>80.75</td>\n      <td>4.49</td>\n      <td>6.61</td>\n      <td>10.45</td>\n      <td>0</td>\n      <td>1</td>\n      <td>0</td>\n      <td>0</td>\n      <td>0</td>\n    </tr>\n    <tr>\n      <th>56789</th>\n      <td>2021</td>\n      <td>5</td>\n      <td>25</td>\n      <td>56</td>\n      <td>-107.290284</td>\n      <td>43.075968</td>\n      <td>0.11</td>\n      <td>0.95</td>\n      <td>5.07</td>\n      <td>16.60</td>\n      <td>...</td>\n      <td>5.50</td>\n      <td>81.35</td>\n      <td>1.03</td>\n      <td>3.02</td>\n      <td>6.50</td>\n      <td>0</td>\n      <td>1</td>\n      <td>0</td>\n      <td>0</td>\n      <td>0</td>\n    </tr>\n    <tr>\n      <th>56790</th>\n      <td>2021</td>\n      <td>6</td>\n      <td>1</td>\n      <td>56</td>\n      <td>-107.290284</td>\n      <td>43.075968</td>\n      <td>1.19</td>\n      <td>1.75</td>\n      <td>7.33</td>\n      <td>12.02</td>\n      <td>...</td>\n      <td>2.58</td>\n      <td>81.70</td>\n      <td>6.35</td>\n      <td>9.74</td>\n      <td>11.27</td>\n      <td>0</td>\n      <td>1</td>\n      <td>0</td>\n      <td>0</td>\n      <td>0</td>\n    </tr>\n    <tr>\n      <th>56791</th>\n      <td>2021</td>\n      <td>6</td>\n      <td>15</td>\n      <td>56</td>\n      <td>-107.290284</td>\n      <td>43.075968</td>\n      <td>0.00</td>\n      <td>2.45</td>\n      <td>5.70</td>\n      <td>20.28</td>\n      <td>...</td>\n      <td>5.22</td>\n      <td>81.58</td>\n      <td>2.68</td>\n      <td>14.46</td>\n      <td>13.91</td>\n      <td>0</td>\n      <td>0</td>\n      <td>1</td>\n      <td>0</td>\n      <td>0</td>\n    </tr>\n  </tbody>\n</table>\n<p>56792 rows × 29 columns</p>\n</div>",
      "text/plain": "       Year  Month  Day  Fips   Longitude   Latitude  PRECTOT  WS10M_MIN  \\\n0      2000      1    4     1  -86.902298  32.318231    12.35       2.14   \n1      2000      1   11     1  -86.902298  32.318231     0.97       1.18   \n2      2000      1   18     1  -86.902298  32.318231     1.80       1.59   \n3      2000      1   25     1  -86.902298  32.318231     0.00       2.20   \n4      2000      2    1     1  -86.902298  32.318231     0.01       0.73   \n...     ...    ...  ...   ...         ...        ...      ...        ...   \n56787  2021      5   11    56 -107.290284  43.075968     0.70       2.00   \n56788  2021      5   18    56 -107.290284  43.075968     0.00       0.47   \n56789  2021      5   25    56 -107.290284  43.075968     0.11       0.95   \n56790  2021      6    1    56 -107.290284  43.075968     1.19       1.75   \n56791  2021      6   15    56 -107.290284  43.075968     0.00       2.45   \n\n       QV2M  T2M_RANGE  ...  WS10M_RANGE      PS  T2MDEW  T2M_MIN  T2MWET  \\\n0      6.84      15.39  ...         3.30  100.72    6.95     2.85    6.97   \n1      7.09      13.70  ...         1.33  100.83    8.89     5.91    8.89   \n2      9.91       6.50  ...         2.28  100.82   13.94    11.96   13.94   \n3      2.15      10.89  ...         2.16  100.53   -7.34    -4.39   -7.14   \n4      3.38      15.38  ...         1.69  101.43   -1.58    -3.99   -1.55   \n...     ...        ...  ...          ...     ...     ...      ...     ...   \n56787  3.90      10.46  ...         4.11   81.57   -2.45    -2.92    0.02   \n56788  6.54      17.38  ...         2.89   80.75    4.49     6.61   10.45   \n56789  5.07      16.60  ...         5.50   81.35    1.03     3.02    6.50   \n56790  7.33      12.02  ...         2.58   81.70    6.35     9.74   11.27   \n56791  5.70      20.28  ...         5.22   81.58    2.68    14.46   13.91   \n\n       level_0  level_1  level_2  level_3  level_4  \n0            0        1        0        0        0  \n1            0        1        0        0        0  \n2            0        1        0        0        0  \n3            0        1        0        0        0  \n4            0        1        0        0        0  \n...        ...      ...      ...      ...      ...  \n56787        0        0        1        0        0  \n56788        0        1        0        0        0  \n56789        0        1        0        0        0  \n56790        0        1        0        0        0  \n56791        0        0        1        0        0  \n\n[56792 rows x 29 columns]"
     },
     "execution_count": 6,
     "metadata": {},
     "output_type": "execute_result"
    }
   ],
   "source": [
    "# Drop all the objects (string) type and Train X\n",
    "\n",
    "X = df[df.columns[(df.columns != 'LEVEL') & (df.columns != 'State') & (df.columns != 'Postal Code') & (df.columns != 'Aland_SQMI')]]\n",
    "X"
   ]
  },
  {
   "cell_type": "code",
   "execution_count": 7,
   "metadata": {},
   "outputs": [
    {
     "data": {
      "text/html": "<div>\n<style scoped>\n    .dataframe tbody tr th:only-of-type {\n        vertical-align: middle;\n    }\n\n    .dataframe tbody tr th {\n        vertical-align: top;\n    }\n\n    .dataframe thead th {\n        text-align: right;\n    }\n</style>\n<table border=\"1\" class=\"dataframe\">\n  <thead>\n    <tr style=\"text-align: right;\">\n      <th></th>\n      <th>LEVEL</th>\n    </tr>\n  </thead>\n  <tbody>\n    <tr>\n      <th>0</th>\n      <td>1</td>\n    </tr>\n    <tr>\n      <th>1</th>\n      <td>1</td>\n    </tr>\n    <tr>\n      <th>2</th>\n      <td>1</td>\n    </tr>\n    <tr>\n      <th>3</th>\n      <td>1</td>\n    </tr>\n    <tr>\n      <th>4</th>\n      <td>1</td>\n    </tr>\n    <tr>\n      <th>...</th>\n      <td>...</td>\n    </tr>\n    <tr>\n      <th>56787</th>\n      <td>2</td>\n    </tr>\n    <tr>\n      <th>56788</th>\n      <td>1</td>\n    </tr>\n    <tr>\n      <th>56789</th>\n      <td>1</td>\n    </tr>\n    <tr>\n      <th>56790</th>\n      <td>1</td>\n    </tr>\n    <tr>\n      <th>56791</th>\n      <td>2</td>\n    </tr>\n  </tbody>\n</table>\n<p>56792 rows × 1 columns</p>\n</div>",
      "text/plain": "       LEVEL\n0          1\n1          1\n2          1\n3          1\n4          1\n...      ...\n56787      2\n56788      1\n56789      1\n56790      1\n56791      2\n\n[56792 rows x 1 columns]"
     },
     "execution_count": 7,
     "metadata": {},
     "output_type": "execute_result"
    }
   ],
   "source": [
    "y = df[['LEVEL']]\n",
    "y"
   ]
  },
  {
   "cell_type": "code",
   "execution_count": 8,
   "metadata": {},
   "outputs": [],
   "source": [
    "X_train, X_test, y_train, y_test = train_test_split(X, y, test_size=0.3) # 70% train, 30% test"
   ]
  },
  {
   "cell_type": "code",
   "execution_count": 10,
   "metadata": {},
   "outputs": [],
   "source": [
    "score_list = []\n",
    "models = [\"KNeighborsClassifier\", \"LogisticRegression\", \"DecisionTreeClassifier\"]"
   ]
  },
  {
   "cell_type": "markdown",
   "metadata": {},
   "source": [
    "Knn Model"
   ]
  },
  {
   "cell_type": "code",
   "execution_count": 14,
   "metadata": {},
   "outputs": [
    {
     "name": "stderr",
     "output_type": "stream",
     "text": [
      "<ipython-input-14-792013332a86>:6: DataConversionWarning: A column-vector y was passed when a 1d array was expected. Please change the shape of y to (n_samples, ), for example using ravel().\n",
      "  clf.fit(X_train, y_train)\n",
      "<ipython-input-14-792013332a86>:6: DataConversionWarning: A column-vector y was passed when a 1d array was expected. Please change the shape of y to (n_samples, ), for example using ravel().\n",
      "  clf.fit(X_train, y_train)\n",
      "<ipython-input-14-792013332a86>:6: DataConversionWarning: A column-vector y was passed when a 1d array was expected. Please change the shape of y to (n_samples, ), for example using ravel().\n",
      "  clf.fit(X_train, y_train)\n",
      "<ipython-input-14-792013332a86>:6: DataConversionWarning: A column-vector y was passed when a 1d array was expected. Please change the shape of y to (n_samples, ), for example using ravel().\n",
      "  clf.fit(X_train, y_train)\n",
      "<ipython-input-14-792013332a86>:6: DataConversionWarning: A column-vector y was passed when a 1d array was expected. Please change the shape of y to (n_samples, ), for example using ravel().\n",
      "  clf.fit(X_train, y_train)\n",
      "<ipython-input-14-792013332a86>:6: DataConversionWarning: A column-vector y was passed when a 1d array was expected. Please change the shape of y to (n_samples, ), for example using ravel().\n",
      "  clf.fit(X_train, y_train)\n",
      "<ipython-input-14-792013332a86>:6: DataConversionWarning: A column-vector y was passed when a 1d array was expected. Please change the shape of y to (n_samples, ), for example using ravel().\n",
      "  clf.fit(X_train, y_train)\n",
      "<ipython-input-14-792013332a86>:6: DataConversionWarning: A column-vector y was passed when a 1d array was expected. Please change the shape of y to (n_samples, ), for example using ravel().\n",
      "  clf.fit(X_train, y_train)\n",
      "<ipython-input-14-792013332a86>:6: DataConversionWarning: A column-vector y was passed when a 1d array was expected. Please change the shape of y to (n_samples, ), for example using ravel().\n",
      "  clf.fit(X_train, y_train)\n",
      "<ipython-input-14-792013332a86>:6: DataConversionWarning: A column-vector y was passed when a 1d array was expected. Please change the shape of y to (n_samples, ), for example using ravel().\n",
      "  clf.fit(X_train, y_train)\n",
      "<ipython-input-14-792013332a86>:6: DataConversionWarning: A column-vector y was passed when a 1d array was expected. Please change the shape of y to (n_samples, ), for example using ravel().\n",
      "  clf.fit(X_train, y_train)\n",
      "<ipython-input-14-792013332a86>:6: DataConversionWarning: A column-vector y was passed when a 1d array was expected. Please change the shape of y to (n_samples, ), for example using ravel().\n",
      "  clf.fit(X_train, y_train)\n",
      "<ipython-input-14-792013332a86>:6: DataConversionWarning: A column-vector y was passed when a 1d array was expected. Please change the shape of y to (n_samples, ), for example using ravel().\n",
      "  clf.fit(X_train, y_train)\n",
      "<ipython-input-14-792013332a86>:6: DataConversionWarning: A column-vector y was passed when a 1d array was expected. Please change the shape of y to (n_samples, ), for example using ravel().\n",
      "  clf.fit(X_train, y_train)\n",
      "<ipython-input-14-792013332a86>:6: DataConversionWarning: A column-vector y was passed when a 1d array was expected. Please change the shape of y to (n_samples, ), for example using ravel().\n",
      "  clf.fit(X_train, y_train)\n",
      "<ipython-input-14-792013332a86>:6: DataConversionWarning: A column-vector y was passed when a 1d array was expected. Please change the shape of y to (n_samples, ), for example using ravel().\n",
      "  clf.fit(X_train, y_train)\n",
      "<ipython-input-14-792013332a86>:6: DataConversionWarning: A column-vector y was passed when a 1d array was expected. Please change the shape of y to (n_samples, ), for example using ravel().\n",
      "  clf.fit(X_train, y_train)\n",
      "<ipython-input-14-792013332a86>:6: DataConversionWarning: A column-vector y was passed when a 1d array was expected. Please change the shape of y to (n_samples, ), for example using ravel().\n",
      "  clf.fit(X_train, y_train)\n",
      "<ipython-input-14-792013332a86>:6: DataConversionWarning: A column-vector y was passed when a 1d array was expected. Please change the shape of y to (n_samples, ), for example using ravel().\n",
      "  clf.fit(X_train, y_train)\n",
      "<ipython-input-14-792013332a86>:6: DataConversionWarning: A column-vector y was passed when a 1d array was expected. Please change the shape of y to (n_samples, ), for example using ravel().\n",
      "  clf.fit(X_train, y_train)\n"
     ]
    },
    {
     "data": {
      "text/html": "<div>\n<style scoped>\n    .dataframe tbody tr th:only-of-type {\n        vertical-align: middle;\n    }\n\n    .dataframe tbody tr th {\n        vertical-align: top;\n    }\n\n    .dataframe thead th {\n        text-align: right;\n    }\n</style>\n<table border=\"1\" class=\"dataframe\">\n  <thead>\n    <tr style=\"text-align: right;\">\n      <th></th>\n      <th>k</th>\n      <th>train_accuracy</th>\n      <th>test_accuracy</th>\n    </tr>\n  </thead>\n  <tbody>\n    <tr>\n      <th>0</th>\n      <td>1</td>\n      <td>1.000000</td>\n      <td>0.643444</td>\n    </tr>\n    <tr>\n      <th>1</th>\n      <td>2</td>\n      <td>0.814534</td>\n      <td>0.701843</td>\n    </tr>\n    <tr>\n      <th>2</th>\n      <td>3</td>\n      <td>0.806460</td>\n      <td>0.696619</td>\n    </tr>\n    <tr>\n      <th>3</th>\n      <td>4</td>\n      <td>0.786990</td>\n      <td>0.706949</td>\n    </tr>\n    <tr>\n      <th>4</th>\n      <td>5</td>\n      <td>0.775293</td>\n      <td>0.707830</td>\n    </tr>\n    <tr>\n      <th>5</th>\n      <td>6</td>\n      <td>0.764653</td>\n      <td>0.709003</td>\n    </tr>\n    <tr>\n      <th>6</th>\n      <td>7</td>\n      <td>0.760728</td>\n      <td>0.711234</td>\n    </tr>\n    <tr>\n      <th>7</th>\n      <td>8</td>\n      <td>0.755622</td>\n      <td>0.713581</td>\n    </tr>\n    <tr>\n      <th>8</th>\n      <td>9</td>\n      <td>0.751170</td>\n      <td>0.712408</td>\n    </tr>\n    <tr>\n      <th>9</th>\n      <td>10</td>\n      <td>0.748126</td>\n      <td>0.713699</td>\n    </tr>\n    <tr>\n      <th>10</th>\n      <td>11</td>\n      <td>0.745585</td>\n      <td>0.712408</td>\n    </tr>\n    <tr>\n      <th>11</th>\n      <td>12</td>\n      <td>0.744906</td>\n      <td>0.712994</td>\n    </tr>\n    <tr>\n      <th>12</th>\n      <td>13</td>\n      <td>0.742969</td>\n      <td>0.713581</td>\n    </tr>\n    <tr>\n      <th>13</th>\n      <td>14</td>\n      <td>0.741284</td>\n      <td>0.714168</td>\n    </tr>\n    <tr>\n      <th>14</th>\n      <td>15</td>\n      <td>0.740253</td>\n      <td>0.713464</td>\n    </tr>\n    <tr>\n      <th>15</th>\n      <td>16</td>\n      <td>0.738592</td>\n      <td>0.712877</td>\n    </tr>\n    <tr>\n      <th>16</th>\n      <td>17</td>\n      <td>0.738114</td>\n      <td>0.713288</td>\n    </tr>\n    <tr>\n      <th>17</th>\n      <td>18</td>\n      <td>0.737687</td>\n      <td>0.713581</td>\n    </tr>\n    <tr>\n      <th>18</th>\n      <td>19</td>\n      <td>0.736655</td>\n      <td>0.712408</td>\n    </tr>\n    <tr>\n      <th>19</th>\n      <td>20</td>\n      <td>0.736731</td>\n      <td>0.712114</td>\n    </tr>\n  </tbody>\n</table>\n</div>",
      "text/plain": "     k  train_accuracy  test_accuracy\n0    1        1.000000       0.643444\n1    2        0.814534       0.701843\n2    3        0.806460       0.696619\n3    4        0.786990       0.706949\n4    5        0.775293       0.707830\n5    6        0.764653       0.709003\n6    7        0.760728       0.711234\n7    8        0.755622       0.713581\n8    9        0.751170       0.712408\n9   10        0.748126       0.713699\n10  11        0.745585       0.712408\n11  12        0.744906       0.712994\n12  13        0.742969       0.713581\n13  14        0.741284       0.714168\n14  15        0.740253       0.713464\n15  16        0.738592       0.712877\n16  17        0.738114       0.713288\n17  18        0.737687       0.713581\n18  19        0.736655       0.712408\n19  20        0.736731       0.712114"
     },
     "execution_count": 14,
     "metadata": {},
     "output_type": "execute_result"
    }
   ],
   "source": [
    "# Check the accuracy on train and test set\n",
    "\n",
    "k_s=[]\n",
    "train_accuracies=[]\n",
    "test_accuracies=[]\n",
    "for k in range(1,21):\n",
    "    clf = KNeighborsClassifier(n_neighbors=k)\n",
    "    clf.fit(X_train, y_train)\n",
    "    y_pred_train=clf.predict(X_train)\n",
    "    y_pred=clf.predict(X_test)\n",
    "    k_s.append(k)\n",
    "    train_accuracies.append(metrics.accuracy_score(y_true = y_train, y_pred = y_pred_train))\n",
    "    test_accuracies.append(metrics.accuracy_score(y_true = y_test, y_pred = y_pred))\n",
    "\n",
    "df=pd.DataFrame({\"k\":k_s,\"train_accuracy\":train_accuracies,\"test_accuracy\":test_accuracies})\n",
    "df"
   ]
  },
  {
   "cell_type": "code",
   "execution_count": 16,
   "metadata": {},
   "outputs": [
    {
     "name": "stderr",
     "output_type": "stream",
     "text": [
      "/home/amit/projects/regstrtion_form/env/lib/python3.8/site-packages/sklearn/model_selection/_validation.py:531: DataConversionWarning: A column-vector y was passed when a 1d array was expected. Please change the shape of y to (n_samples, ), for example using ravel().\n",
      "  estimator.fit(X_train, y_train, **fit_params)\n",
      "/home/amit/projects/regstrtion_form/env/lib/python3.8/site-packages/sklearn/model_selection/_validation.py:531: DataConversionWarning: A column-vector y was passed when a 1d array was expected. Please change the shape of y to (n_samples, ), for example using ravel().\n",
      "  estimator.fit(X_train, y_train, **fit_params)\n",
      "/home/amit/projects/regstrtion_form/env/lib/python3.8/site-packages/sklearn/model_selection/_validation.py:531: DataConversionWarning: A column-vector y was passed when a 1d array was expected. Please change the shape of y to (n_samples, ), for example using ravel().\n",
      "  estimator.fit(X_train, y_train, **fit_params)\n",
      "/home/amit/projects/regstrtion_form/env/lib/python3.8/site-packages/sklearn/model_selection/_validation.py:531: DataConversionWarning: A column-vector y was passed when a 1d array was expected. Please change the shape of y to (n_samples, ), for example using ravel().\n",
      "  estimator.fit(X_train, y_train, **fit_params)\n",
      "/home/amit/projects/regstrtion_form/env/lib/python3.8/site-packages/sklearn/model_selection/_validation.py:531: DataConversionWarning: A column-vector y was passed when a 1d array was expected. Please change the shape of y to (n_samples, ), for example using ravel().\n",
      "  estimator.fit(X_train, y_train, **fit_params)\n",
      "/home/amit/projects/regstrtion_form/env/lib/python3.8/site-packages/sklearn/model_selection/_validation.py:531: DataConversionWarning: A column-vector y was passed when a 1d array was expected. Please change the shape of y to (n_samples, ), for example using ravel().\n",
      "  estimator.fit(X_train, y_train, **fit_params)\n",
      "/home/amit/projects/regstrtion_form/env/lib/python3.8/site-packages/sklearn/model_selection/_validation.py:531: DataConversionWarning: A column-vector y was passed when a 1d array was expected. Please change the shape of y to (n_samples, ), for example using ravel().\n",
      "  estimator.fit(X_train, y_train, **fit_params)\n",
      "/home/amit/projects/regstrtion_form/env/lib/python3.8/site-packages/sklearn/model_selection/_validation.py:531: DataConversionWarning: A column-vector y was passed when a 1d array was expected. Please change the shape of y to (n_samples, ), for example using ravel().\n",
      "  estimator.fit(X_train, y_train, **fit_params)\n",
      "/home/amit/projects/regstrtion_form/env/lib/python3.8/site-packages/sklearn/model_selection/_validation.py:531: DataConversionWarning: A column-vector y was passed when a 1d array was expected. Please change the shape of y to (n_samples, ), for example using ravel().\n",
      "  estimator.fit(X_train, y_train, **fit_params)\n",
      "/home/amit/projects/regstrtion_form/env/lib/python3.8/site-packages/sklearn/model_selection/_validation.py:531: DataConversionWarning: A column-vector y was passed when a 1d array was expected. Please change the shape of y to (n_samples, ), for example using ravel().\n",
      "  estimator.fit(X_train, y_train, **fit_params)\n",
      "/home/amit/projects/regstrtion_form/env/lib/python3.8/site-packages/sklearn/model_selection/_validation.py:531: DataConversionWarning: A column-vector y was passed when a 1d array was expected. Please change the shape of y to (n_samples, ), for example using ravel().\n",
      "  estimator.fit(X_train, y_train, **fit_params)\n",
      "/home/amit/projects/regstrtion_form/env/lib/python3.8/site-packages/sklearn/model_selection/_validation.py:531: DataConversionWarning: A column-vector y was passed when a 1d array was expected. Please change the shape of y to (n_samples, ), for example using ravel().\n",
      "  estimator.fit(X_train, y_train, **fit_params)\n",
      "/home/amit/projects/regstrtion_form/env/lib/python3.8/site-packages/sklearn/model_selection/_validation.py:531: DataConversionWarning: A column-vector y was passed when a 1d array was expected. Please change the shape of y to (n_samples, ), for example using ravel().\n",
      "  estimator.fit(X_train, y_train, **fit_params)\n",
      "/home/amit/projects/regstrtion_form/env/lib/python3.8/site-packages/sklearn/model_selection/_validation.py:531: DataConversionWarning: A column-vector y was passed when a 1d array was expected. Please change the shape of y to (n_samples, ), for example using ravel().\n",
      "  estimator.fit(X_train, y_train, **fit_params)\n",
      "/home/amit/projects/regstrtion_form/env/lib/python3.8/site-packages/sklearn/model_selection/_validation.py:531: DataConversionWarning: A column-vector y was passed when a 1d array was expected. Please change the shape of y to (n_samples, ), for example using ravel().\n",
      "  estimator.fit(X_train, y_train, **fit_params)\n",
      "/home/amit/projects/regstrtion_form/env/lib/python3.8/site-packages/sklearn/model_selection/_validation.py:531: DataConversionWarning: A column-vector y was passed when a 1d array was expected. Please change the shape of y to (n_samples, ), for example using ravel().\n",
      "  estimator.fit(X_train, y_train, **fit_params)\n",
      "/home/amit/projects/regstrtion_form/env/lib/python3.8/site-packages/sklearn/model_selection/_validation.py:531: DataConversionWarning: A column-vector y was passed when a 1d array was expected. Please change the shape of y to (n_samples, ), for example using ravel().\n",
      "  estimator.fit(X_train, y_train, **fit_params)\n",
      "/home/amit/projects/regstrtion_form/env/lib/python3.8/site-packages/sklearn/model_selection/_validation.py:531: DataConversionWarning: A column-vector y was passed when a 1d array was expected. Please change the shape of y to (n_samples, ), for example using ravel().\n",
      "  estimator.fit(X_train, y_train, **fit_params)\n",
      "/home/amit/projects/regstrtion_form/env/lib/python3.8/site-packages/sklearn/model_selection/_validation.py:531: DataConversionWarning: A column-vector y was passed when a 1d array was expected. Please change the shape of y to (n_samples, ), for example using ravel().\n",
      "  estimator.fit(X_train, y_train, **fit_params)\n",
      "/home/amit/projects/regstrtion_form/env/lib/python3.8/site-packages/sklearn/model_selection/_validation.py:531: DataConversionWarning: A column-vector y was passed when a 1d array was expected. Please change the shape of y to (n_samples, ), for example using ravel().\n",
      "  estimator.fit(X_train, y_train, **fit_params)\n",
      "/home/amit/projects/regstrtion_form/env/lib/python3.8/site-packages/sklearn/model_selection/_validation.py:531: DataConversionWarning: A column-vector y was passed when a 1d array was expected. Please change the shape of y to (n_samples, ), for example using ravel().\n",
      "  estimator.fit(X_train, y_train, **fit_params)\n",
      "/home/amit/projects/regstrtion_form/env/lib/python3.8/site-packages/sklearn/model_selection/_validation.py:531: DataConversionWarning: A column-vector y was passed when a 1d array was expected. Please change the shape of y to (n_samples, ), for example using ravel().\n",
      "  estimator.fit(X_train, y_train, **fit_params)\n",
      "/home/amit/projects/regstrtion_form/env/lib/python3.8/site-packages/sklearn/model_selection/_validation.py:531: DataConversionWarning: A column-vector y was passed when a 1d array was expected. Please change the shape of y to (n_samples, ), for example using ravel().\n",
      "  estimator.fit(X_train, y_train, **fit_params)\n",
      "/home/amit/projects/regstrtion_form/env/lib/python3.8/site-packages/sklearn/model_selection/_validation.py:531: DataConversionWarning: A column-vector y was passed when a 1d array was expected. Please change the shape of y to (n_samples, ), for example using ravel().\n",
      "  estimator.fit(X_train, y_train, **fit_params)\n",
      "/home/amit/projects/regstrtion_form/env/lib/python3.8/site-packages/sklearn/model_selection/_validation.py:531: DataConversionWarning: A column-vector y was passed when a 1d array was expected. Please change the shape of y to (n_samples, ), for example using ravel().\n",
      "  estimator.fit(X_train, y_train, **fit_params)\n",
      "/home/amit/projects/regstrtion_form/env/lib/python3.8/site-packages/sklearn/model_selection/_validation.py:531: DataConversionWarning: A column-vector y was passed when a 1d array was expected. Please change the shape of y to (n_samples, ), for example using ravel().\n",
      "  estimator.fit(X_train, y_train, **fit_params)\n",
      "/home/amit/projects/regstrtion_form/env/lib/python3.8/site-packages/sklearn/model_selection/_validation.py:531: DataConversionWarning: A column-vector y was passed when a 1d array was expected. Please change the shape of y to (n_samples, ), for example using ravel().\n",
      "  estimator.fit(X_train, y_train, **fit_params)\n",
      "/home/amit/projects/regstrtion_form/env/lib/python3.8/site-packages/sklearn/model_selection/_validation.py:531: DataConversionWarning: A column-vector y was passed when a 1d array was expected. Please change the shape of y to (n_samples, ), for example using ravel().\n",
      "  estimator.fit(X_train, y_train, **fit_params)\n",
      "/home/amit/projects/regstrtion_form/env/lib/python3.8/site-packages/sklearn/model_selection/_validation.py:531: DataConversionWarning: A column-vector y was passed when a 1d array was expected. Please change the shape of y to (n_samples, ), for example using ravel().\n",
      "  estimator.fit(X_train, y_train, **fit_params)\n",
      "/home/amit/projects/regstrtion_form/env/lib/python3.8/site-packages/sklearn/model_selection/_validation.py:531: DataConversionWarning: A column-vector y was passed when a 1d array was expected. Please change the shape of y to (n_samples, ), for example using ravel().\n",
      "  estimator.fit(X_train, y_train, **fit_params)\n",
      "/home/amit/projects/regstrtion_form/env/lib/python3.8/site-packages/sklearn/model_selection/_validation.py:531: DataConversionWarning: A column-vector y was passed when a 1d array was expected. Please change the shape of y to (n_samples, ), for example using ravel().\n",
      "  estimator.fit(X_train, y_train, **fit_params)\n",
      "/home/amit/projects/regstrtion_form/env/lib/python3.8/site-packages/sklearn/model_selection/_validation.py:531: DataConversionWarning: A column-vector y was passed when a 1d array was expected. Please change the shape of y to (n_samples, ), for example using ravel().\n",
      "  estimator.fit(X_train, y_train, **fit_params)\n",
      "/home/amit/projects/regstrtion_form/env/lib/python3.8/site-packages/sklearn/model_selection/_validation.py:531: DataConversionWarning: A column-vector y was passed when a 1d array was expected. Please change the shape of y to (n_samples, ), for example using ravel().\n",
      "  estimator.fit(X_train, y_train, **fit_params)\n",
      "/home/amit/projects/regstrtion_form/env/lib/python3.8/site-packages/sklearn/model_selection/_validation.py:531: DataConversionWarning: A column-vector y was passed when a 1d array was expected. Please change the shape of y to (n_samples, ), for example using ravel().\n",
      "  estimator.fit(X_train, y_train, **fit_params)\n",
      "/home/amit/projects/regstrtion_form/env/lib/python3.8/site-packages/sklearn/model_selection/_validation.py:531: DataConversionWarning: A column-vector y was passed when a 1d array was expected. Please change the shape of y to (n_samples, ), for example using ravel().\n",
      "  estimator.fit(X_train, y_train, **fit_params)\n",
      "/home/amit/projects/regstrtion_form/env/lib/python3.8/site-packages/sklearn/model_selection/_validation.py:531: DataConversionWarning: A column-vector y was passed when a 1d array was expected. Please change the shape of y to (n_samples, ), for example using ravel().\n",
      "  estimator.fit(X_train, y_train, **fit_params)\n",
      "/home/amit/projects/regstrtion_form/env/lib/python3.8/site-packages/sklearn/model_selection/_validation.py:531: DataConversionWarning: A column-vector y was passed when a 1d array was expected. Please change the shape of y to (n_samples, ), for example using ravel().\n",
      "  estimator.fit(X_train, y_train, **fit_params)\n",
      "/home/amit/projects/regstrtion_form/env/lib/python3.8/site-packages/sklearn/model_selection/_validation.py:531: DataConversionWarning: A column-vector y was passed when a 1d array was expected. Please change the shape of y to (n_samples, ), for example using ravel().\n",
      "  estimator.fit(X_train, y_train, **fit_params)\n",
      "/home/amit/projects/regstrtion_form/env/lib/python3.8/site-packages/sklearn/model_selection/_validation.py:531: DataConversionWarning: A column-vector y was passed when a 1d array was expected. Please change the shape of y to (n_samples, ), for example using ravel().\n",
      "  estimator.fit(X_train, y_train, **fit_params)\n",
      "/home/amit/projects/regstrtion_form/env/lib/python3.8/site-packages/sklearn/model_selection/_validation.py:531: DataConversionWarning: A column-vector y was passed when a 1d array was expected. Please change the shape of y to (n_samples, ), for example using ravel().\n",
      "  estimator.fit(X_train, y_train, **fit_params)\n",
      "/home/amit/projects/regstrtion_form/env/lib/python3.8/site-packages/sklearn/model_selection/_validation.py:531: DataConversionWarning: A column-vector y was passed when a 1d array was expected. Please change the shape of y to (n_samples, ), for example using ravel().\n",
      "  estimator.fit(X_train, y_train, **fit_params)\n",
      "/home/amit/projects/regstrtion_form/env/lib/python3.8/site-packages/sklearn/model_selection/_validation.py:531: DataConversionWarning: A column-vector y was passed when a 1d array was expected. Please change the shape of y to (n_samples, ), for example using ravel().\n",
      "  estimator.fit(X_train, y_train, **fit_params)\n",
      "/home/amit/projects/regstrtion_form/env/lib/python3.8/site-packages/sklearn/model_selection/_validation.py:531: DataConversionWarning: A column-vector y was passed when a 1d array was expected. Please change the shape of y to (n_samples, ), for example using ravel().\n",
      "  estimator.fit(X_train, y_train, **fit_params)\n",
      "/home/amit/projects/regstrtion_form/env/lib/python3.8/site-packages/sklearn/model_selection/_validation.py:531: DataConversionWarning: A column-vector y was passed when a 1d array was expected. Please change the shape of y to (n_samples, ), for example using ravel().\n",
      "  estimator.fit(X_train, y_train, **fit_params)\n",
      "/home/amit/projects/regstrtion_form/env/lib/python3.8/site-packages/sklearn/model_selection/_validation.py:531: DataConversionWarning: A column-vector y was passed when a 1d array was expected. Please change the shape of y to (n_samples, ), for example using ravel().\n",
      "  estimator.fit(X_train, y_train, **fit_params)\n",
      "/home/amit/projects/regstrtion_form/env/lib/python3.8/site-packages/sklearn/model_selection/_validation.py:531: DataConversionWarning: A column-vector y was passed when a 1d array was expected. Please change the shape of y to (n_samples, ), for example using ravel().\n",
      "  estimator.fit(X_train, y_train, **fit_params)\n",
      "/home/amit/projects/regstrtion_form/env/lib/python3.8/site-packages/sklearn/model_selection/_validation.py:531: DataConversionWarning: A column-vector y was passed when a 1d array was expected. Please change the shape of y to (n_samples, ), for example using ravel().\n",
      "  estimator.fit(X_train, y_train, **fit_params)\n",
      "/home/amit/projects/regstrtion_form/env/lib/python3.8/site-packages/sklearn/model_selection/_validation.py:531: DataConversionWarning: A column-vector y was passed when a 1d array was expected. Please change the shape of y to (n_samples, ), for example using ravel().\n",
      "  estimator.fit(X_train, y_train, **fit_params)\n",
      "/home/amit/projects/regstrtion_form/env/lib/python3.8/site-packages/sklearn/model_selection/_validation.py:531: DataConversionWarning: A column-vector y was passed when a 1d array was expected. Please change the shape of y to (n_samples, ), for example using ravel().\n",
      "  estimator.fit(X_train, y_train, **fit_params)\n",
      "/home/amit/projects/regstrtion_form/env/lib/python3.8/site-packages/sklearn/model_selection/_validation.py:531: DataConversionWarning: A column-vector y was passed when a 1d array was expected. Please change the shape of y to (n_samples, ), for example using ravel().\n",
      "  estimator.fit(X_train, y_train, **fit_params)\n",
      "/home/amit/projects/regstrtion_form/env/lib/python3.8/site-packages/sklearn/model_selection/_validation.py:531: DataConversionWarning: A column-vector y was passed when a 1d array was expected. Please change the shape of y to (n_samples, ), for example using ravel().\n",
      "  estimator.fit(X_train, y_train, **fit_params)\n",
      "/home/amit/projects/regstrtion_form/env/lib/python3.8/site-packages/sklearn/model_selection/_validation.py:531: DataConversionWarning: A column-vector y was passed when a 1d array was expected. Please change the shape of y to (n_samples, ), for example using ravel().\n",
      "  estimator.fit(X_train, y_train, **fit_params)\n",
      "/home/amit/projects/regstrtion_form/env/lib/python3.8/site-packages/sklearn/model_selection/_validation.py:531: DataConversionWarning: A column-vector y was passed when a 1d array was expected. Please change the shape of y to (n_samples, ), for example using ravel().\n",
      "  estimator.fit(X_train, y_train, **fit_params)\n",
      "/home/amit/projects/regstrtion_form/env/lib/python3.8/site-packages/sklearn/model_selection/_validation.py:531: DataConversionWarning: A column-vector y was passed when a 1d array was expected. Please change the shape of y to (n_samples, ), for example using ravel().\n",
      "  estimator.fit(X_train, y_train, **fit_params)\n",
      "/home/amit/projects/regstrtion_form/env/lib/python3.8/site-packages/sklearn/model_selection/_validation.py:531: DataConversionWarning: A column-vector y was passed when a 1d array was expected. Please change the shape of y to (n_samples, ), for example using ravel().\n",
      "  estimator.fit(X_train, y_train, **fit_params)\n",
      "/home/amit/projects/regstrtion_form/env/lib/python3.8/site-packages/sklearn/model_selection/_validation.py:531: DataConversionWarning: A column-vector y was passed when a 1d array was expected. Please change the shape of y to (n_samples, ), for example using ravel().\n",
      "  estimator.fit(X_train, y_train, **fit_params)\n",
      "/home/amit/projects/regstrtion_form/env/lib/python3.8/site-packages/sklearn/model_selection/_validation.py:531: DataConversionWarning: A column-vector y was passed when a 1d array was expected. Please change the shape of y to (n_samples, ), for example using ravel().\n",
      "  estimator.fit(X_train, y_train, **fit_params)\n",
      "/home/amit/projects/regstrtion_form/env/lib/python3.8/site-packages/sklearn/model_selection/_validation.py:531: DataConversionWarning: A column-vector y was passed when a 1d array was expected. Please change the shape of y to (n_samples, ), for example using ravel().\n",
      "  estimator.fit(X_train, y_train, **fit_params)\n",
      "/home/amit/projects/regstrtion_form/env/lib/python3.8/site-packages/sklearn/model_selection/_validation.py:531: DataConversionWarning: A column-vector y was passed when a 1d array was expected. Please change the shape of y to (n_samples, ), for example using ravel().\n",
      "  estimator.fit(X_train, y_train, **fit_params)\n",
      "/home/amit/projects/regstrtion_form/env/lib/python3.8/site-packages/sklearn/model_selection/_validation.py:531: DataConversionWarning: A column-vector y was passed when a 1d array was expected. Please change the shape of y to (n_samples, ), for example using ravel().\n",
      "  estimator.fit(X_train, y_train, **fit_params)\n",
      "/home/amit/projects/regstrtion_form/env/lib/python3.8/site-packages/sklearn/model_selection/_search.py:765: DataConversionWarning: A column-vector y was passed when a 1d array was expected. Please change the shape of y to (n_samples, ), for example using ravel().\n",
      "  self.best_estimator_.fit(X, y, **fit_params)\n"
     ]
    },
    {
     "name": "stdout",
     "output_type": "stream",
     "text": [
      "best parameter set is: {'n_neighbors': 15}  and its score was 0.7198772259966508\n"
     ]
    }
   ],
   "source": [
    "# cross validation - get the best score\n",
    "\n",
    "parameters = {'n_neighbors':range(1,25,2) }\n",
    "knn = KNeighborsClassifier()\n",
    "clf = GridSearchCV(knn, parameters,scoring=make_scorer(metrics.accuracy_score, greater_is_better=True))\n",
    "clf.fit(X_train, y_train)\n",
    "\n",
    "print(\"best parameter set is:\", clf.best_params_, \" and its score was\", clf.best_score_)\n",
    "score_list.append(clf.best_score_ * 100)"
   ]
  },
  {
   "cell_type": "markdown",
   "metadata": {},
   "source": [
    "Logistic Regression Model"
   ]
  },
  {
   "cell_type": "code",
   "execution_count": 26,
   "metadata": {},
   "outputs": [
    {
     "name": "stderr",
     "output_type": "stream",
     "text": [
      "/home/amit/projects/regstrtion_form/env/lib/python3.8/site-packages/sklearn/utils/validation.py:73: DataConversionWarning: A column-vector y was passed when a 1d array was expected. Please change the shape of y to (n_samples, ), for example using ravel().\n",
      "  return f(**kwargs)\n"
     ]
    },
    {
     "name": "stdout",
     "output_type": "stream",
     "text": [
      "70.48362483859609\n"
     ]
    },
    {
     "name": "stderr",
     "output_type": "stream",
     "text": [
      "/home/amit/projects/regstrtion_form/env/lib/python3.8/site-packages/sklearn/linear_model/_logistic.py:762: ConvergenceWarning: lbfgs failed to converge (status=1):\n",
      "STOP: TOTAL NO. of ITERATIONS REACHED LIMIT.\n",
      "\n",
      "Increase the number of iterations (max_iter) or scale the data as shown in:\n",
      "    https://scikit-learn.org/stable/modules/preprocessing.html\n",
      "Please also refer to the documentation for alternative solver options:\n",
      "    https://scikit-learn.org/stable/modules/linear_model.html#logistic-regression\n",
      "  n_iter_i = _check_optimize_result(\n"
     ]
    }
   ],
   "source": [
    "lg = LogisticRegression().fit(X_train, y_train)\n",
    "score = lg.score(X_test, y_test) * 100\n",
    "print(score)\n",
    "score_list.append(score)"
   ]
  },
  {
   "cell_type": "markdown",
   "metadata": {},
   "source": [
    "Decision Tree Classifier Model"
   ]
  },
  {
   "cell_type": "code",
   "execution_count": 27,
   "metadata": {},
   "outputs": [
    {
     "name": "stderr",
     "output_type": "stream",
     "text": [
      "<ipython-input-27-1d4b04498c22>:3: DataConversionWarning: A column-vector y was passed when a 1d array was expected. Please change the shape of y to (n_samples,), for example using ravel().\n",
      "  trained_forest = forest.fit(X_train, y_train)\n"
     ]
    },
    {
     "name": "stdout",
     "output_type": "stream",
     "text": [
      "Accuracy on training data=  1.0\n",
      "Accuracy on test data=  1.0\n"
     ]
    }
   ],
   "source": [
    "# Check the accuracy on train and test set\n",
    "\n",
    "forest =  RandomForestClassifier(bootstrap=True, n_estimators=300, random_state=0)\n",
    "trained_forest = forest.fit(X_train, y_train) \n",
    "\n",
    "y_pred_train = trained_forest.predict(X_train)\n",
    "print('Accuracy on training data = ', metrics.accuracy_score(y_true=y_train, y_pred=y_pred_train))\n",
    "y_pred = trained_forest.predict(X_test)\n",
    "print('Accuracy on test data = ', metrics.accuracy_score(y_true=y_test, y_pred=y_pred))"
   ]
  },
  {
   "cell_type": "code",
   "execution_count": 38,
   "metadata": {},
   "outputs": [
    {
     "name": "stderr",
     "output_type": "stream",
     "text": [
      "/home/amit/projects/regstrtion_form/env/lib/python3.8/site-packages/sklearn/model_selection/_validation.py:531: DataConversionWarning: A column-vector y was passed when a 1d array was expected. Please change the shape of y to (n_samples,), for example using ravel().\n",
      "  estimator.fit(X_train, y_train, **fit_params)\n",
      "/home/amit/projects/regstrtion_form/env/lib/python3.8/site-packages/sklearn/model_selection/_validation.py:531: DataConversionWarning: A column-vector y was passed when a 1d array was expected. Please change the shape of y to (n_samples,), for example using ravel().\n",
      "  estimator.fit(X_train, y_train, **fit_params)\n",
      "/home/amit/projects/regstrtion_form/env/lib/python3.8/site-packages/sklearn/model_selection/_validation.py:531: DataConversionWarning: A column-vector y was passed when a 1d array was expected. Please change the shape of y to (n_samples,), for example using ravel().\n",
      "  estimator.fit(X_train, y_train, **fit_params)\n",
      "/home/amit/projects/regstrtion_form/env/lib/python3.8/site-packages/sklearn/model_selection/_validation.py:531: DataConversionWarning: A column-vector y was passed when a 1d array was expected. Please change the shape of y to (n_samples,), for example using ravel().\n",
      "  estimator.fit(X_train, y_train, **fit_params)\n",
      "/home/amit/projects/regstrtion_form/env/lib/python3.8/site-packages/sklearn/model_selection/_validation.py:531: DataConversionWarning: A column-vector y was passed when a 1d array was expected. Please change the shape of y to (n_samples,), for example using ravel().\n",
      "  estimator.fit(X_train, y_train, **fit_params)\n",
      "/home/amit/projects/regstrtion_form/env/lib/python3.8/site-packages/sklearn/model_selection/_search.py:765: DataConversionWarning: A column-vector y was passed when a 1d array was expected. Please change the shape of y to (n_samples,), for example using ravel().\n",
      "  self.best_estimator_.fit(X, y, **fit_params)\n"
     ]
    },
    {
     "name": "stdout",
     "output_type": "stream",
     "text": [
      "best parameter set is:  {'max_depth': 2, 'min_samples_split': 20}  and its score was  0.9176183526616247\n"
     ]
    }
   ],
   "source": [
    "# Get the best score\n",
    "\n",
    "parameters = {'max_depth':[2], \"min_samples_split\":[20]}\n",
    "clf = GridSearchCV(forest, parameters,scoring=make_scorer(metrics.accuracy_score, greater_is_better=True))\n",
    "clf.fit(X_train, y_train)\n",
    "print(\"best parameter set is: \",clf.best_params_,\" and its score was \",clf.best_score_)\n",
    "score_list.append(clf.best_score_ * 100)"
   ]
  },
  {
   "cell_type": "markdown",
   "metadata": {},
   "source": [
    "GaussianNB - Model"
   ]
  },
  {
   "cell_type": "code",
   "execution_count": null,
   "metadata": {},
   "outputs": [],
   "source": [
    "gnb = GaussianNB()\n",
    "gnb.fit(X_train,y_train)\n",
    "y_pred = gnb.predict(X_test)\n",
    "y_pred_train = gnb.predict(X_train)\n",
    "print(\"Accuracy:\",metrics.accuracy_score(y_test, y_pred))\n",
    "print('Accuracy on Train data= ', metrics.accuracy_score(y_true=y_train, y_pred=y_pred_train))\n",
    "print('Accuracy on test data= ', metrics.accuracy_score(y_true=y_test, y_pred=y_pred))  "
   ]
  },
  {
   "cell_type": "code",
   "execution_count": 81,
   "metadata": {},
   "outputs": [],
   "source": [
    "data = {\n",
    "    \"Model\": models,\n",
    "    \"Score\": score_list\n",
    "}"
   ]
  },
  {
   "cell_type": "code",
   "execution_count": 82,
   "metadata": {},
   "outputs": [
    {
     "data": {
      "text/html": "<div>\n<style scoped>\n    .dataframe tbody tr th:only-of-type {\n        vertical-align: middle;\n    }\n\n    .dataframe tbody tr th {\n        vertical-align: top;\n    }\n\n    .dataframe thead th {\n        text-align: right;\n    }\n</style>\n<table border=\"1\" class=\"dataframe\">\n  <thead>\n    <tr style=\"text-align: right;\">\n      <th></th>\n      <th>Model</th>\n      <th>Score</th>\n    </tr>\n  </thead>\n  <tbody>\n    <tr>\n      <th>0</th>\n      <td>LogisticRegression</td>\n      <td>70.724263</td>\n    </tr>\n    <tr>\n      <th>1</th>\n      <td>KNeighborsClassifier</td>\n      <td>71.011856</td>\n    </tr>\n    <tr>\n      <th>2</th>\n      <td>DecisionTreeClassifier</td>\n      <td>100.000000</td>\n    </tr>\n    <tr>\n      <th>3</th>\n      <td>RandomForestClassifier</td>\n      <td>100.000000</td>\n    </tr>\n  </tbody>\n</table>\n</div>",
      "text/plain": "                    Model       Score\n0      LogisticRegression   70.724263\n1    KNeighborsClassifier   71.011856\n2  DecisionTreeClassifier  100.000000\n3  RandomForestClassifier  100.000000"
     },
     "execution_count": 82,
     "metadata": {},
     "output_type": "execute_result"
    }
   ],
   "source": [
    "score_df = pd.DataFrame(data)\n",
    "score_df"
   ]
  },
  {
   "cell_type": "code",
   "execution_count": 83,
   "metadata": {},
   "outputs": [
    {
     "name": "stderr",
     "output_type": "stream",
     "text": [
      "/home/amit/projects/regstrtion_form/env/lib/python3.8/site-packages/seaborn/_decorators.py:36: FutureWarning: Pass the following variables as keyword args: x, y. From version 0.12, the only valid positional argument will be `data`, and passing other arguments without an explicit keyword will result in an error or misinterpretation.\n",
      "  warnings.warn(\n"
     ]
    },
    {
     "data": {
      "image/png": "[encoded data removed]",
      "text/plain": "<Figure size 432x288 with 1 Axes>"
     },
     "metadata": {
      "needs_background": "light"
     },
     "output_type": "display_data"
    }
   ],
   "source": [
    "g = sns.barplot(\"Score\", \"Model\", data=score_df, palette=\"Set3\", orient = \"h\")\n",
    "g = g.set_title(\"Cross validation scores\")"
   ]
  },
  {
   "cell_type": "code",
   "execution_count": null,
   "metadata": {},
   "outputs": [],
   "source": []
  }
 ],
 "metadata": {
  "kernelspec": {
   "display_name": "Python 3.8.5 64-bit ('env': venv)",
   "name": "python385jvsc74a57bd04a89485c9fa54da4c77b5cf4efc6cdf3655d80b063f8257e65d9a52a94defee6"
  },
  "language_info": {
   "codemirror_mode": {
    "name": "ipython",
    "version": 3
   },
   "file_extension": ".py",
   "mimetype": "text/x-python",
   "name": "python",
   "nbconvert_exporter": "python",
   "pygments_lexer": "ipython3",
   "version": "3.8.5"
  },
  "metadata": {
   "interpreter": {
    "hash": "4a89485c9fa54da4c77b5cf4efc6cdf3655d80b063f8257e65d9a52a94defee6"
   }
  },
  "orig_nbformat": 2
 },
 "nbformat": 4,
 "nbformat_minor": 2
}