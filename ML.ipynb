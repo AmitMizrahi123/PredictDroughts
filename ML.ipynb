{
 "cells": [
  {
   "cell_type": "code",
   "execution_count": 11,
   "metadata": {},
   "outputs": [],
   "source": [
    "import pandas as pd\n",
    "from sklearn.ensemble import RandomForestClassifier\n",
    "from sklearn.model_selection import train_test_split\n",
    "from sklearn.linear_model import LogisticRegression\n",
    "from sklearn.neighbors import KNeighborsClassifier\n",
    "from sklearn.tree import DecisionTreeClassifier\n",
    "from sklearn.svm import SVC\n",
    "\n",
    "base_url = r'/home/amit/DataScienceProject/PredictDroughts/'"
   ]
  },
  {
   "cell_type": "code",
   "execution_count": 12,
   "metadata": {},
   "outputs": [
    {
     "data": {
      "text/html": "<div>\n<style scoped>\n    .dataframe tbody tr th:only-of-type {\n        vertical-align: middle;\n    }\n\n    .dataframe tbody tr th {\n        vertical-align: top;\n    }\n\n    .dataframe thead th {\n        text-align: right;\n    }\n</style>\n<table border=\"1\" class=\"dataframe\">\n  <thead>\n    <tr style=\"text-align: right;\">\n      <th></th>\n      <th>Week</th>\n      <th>State</th>\n      <th>Postal Code</th>\n      <th>Fips</th>\n      <th>Longitude</th>\n      <th>Latitude</th>\n      <th>PRECTOT</th>\n      <th>WS10M_MIN</th>\n      <th>QV2M</th>\n      <th>T2M_RANGE</th>\n      <th>...</th>\n      <th>TS</th>\n      <th>WS50M_RANGE</th>\n      <th>WS50M_MAX</th>\n      <th>WS10M_MAX</th>\n      <th>WS10M_RANGE</th>\n      <th>PS</th>\n      <th>T2MDEW</th>\n      <th>T2M_MIN</th>\n      <th>T2MWET</th>\n      <th>LEVEL</th>\n    </tr>\n  </thead>\n  <tbody>\n    <tr>\n      <th>0</th>\n      <td>2000-01-04</td>\n      <td>Alabama</td>\n      <td>AL</td>\n      <td>1</td>\n      <td>-86.902298</td>\n      <td>32.318231</td>\n      <td>12.35</td>\n      <td>2.14</td>\n      <td>6.84</td>\n      <td>15.39</td>\n      <td>...</td>\n      <td>12.18</td>\n      <td>5.24</td>\n      <td>8.80</td>\n      <td>5.44</td>\n      <td>3.30</td>\n      <td>100.72</td>\n      <td>6.95</td>\n      <td>2.85</td>\n      <td>6.97</td>\n      <td>1</td>\n    </tr>\n    <tr>\n      <th>1</th>\n      <td>2000-01-11</td>\n      <td>Alabama</td>\n      <td>AL</td>\n      <td>1</td>\n      <td>-86.902298</td>\n      <td>32.318231</td>\n      <td>0.97</td>\n      <td>1.18</td>\n      <td>7.09</td>\n      <td>13.70</td>\n      <td>...</td>\n      <td>11.15</td>\n      <td>4.09</td>\n      <td>6.18</td>\n      <td>2.51</td>\n      <td>1.33</td>\n      <td>100.83</td>\n      <td>8.89</td>\n      <td>5.91</td>\n      <td>8.89</td>\n      <td>1</td>\n    </tr>\n    <tr>\n      <th>2</th>\n      <td>2000-01-18</td>\n      <td>Alabama</td>\n      <td>AL</td>\n      <td>1</td>\n      <td>-86.902298</td>\n      <td>32.318231</td>\n      <td>1.80</td>\n      <td>1.59</td>\n      <td>9.91</td>\n      <td>6.50</td>\n      <td>...</td>\n      <td>14.94</td>\n      <td>2.75</td>\n      <td>6.29</td>\n      <td>3.87</td>\n      <td>2.28</td>\n      <td>100.82</td>\n      <td>13.94</td>\n      <td>11.96</td>\n      <td>13.94</td>\n      <td>1</td>\n    </tr>\n    <tr>\n      <th>3</th>\n      <td>2000-01-25</td>\n      <td>Alabama</td>\n      <td>AL</td>\n      <td>1</td>\n      <td>-86.902298</td>\n      <td>32.318231</td>\n      <td>0.00</td>\n      <td>2.20</td>\n      <td>2.15</td>\n      <td>10.89</td>\n      <td>...</td>\n      <td>0.24</td>\n      <td>3.71</td>\n      <td>7.61</td>\n      <td>4.35</td>\n      <td>2.16</td>\n      <td>100.53</td>\n      <td>-7.34</td>\n      <td>-4.39</td>\n      <td>-7.14</td>\n      <td>1</td>\n    </tr>\n    <tr>\n      <th>4</th>\n      <td>2000-02-01</td>\n      <td>Alabama</td>\n      <td>AL</td>\n      <td>1</td>\n      <td>-86.902298</td>\n      <td>32.318231</td>\n      <td>0.01</td>\n      <td>0.73</td>\n      <td>3.38</td>\n      <td>15.38</td>\n      <td>...</td>\n      <td>2.15</td>\n      <td>5.12</td>\n      <td>6.04</td>\n      <td>2.41</td>\n      <td>1.69</td>\n      <td>101.43</td>\n      <td>-1.58</td>\n      <td>-3.99</td>\n      <td>-1.55</td>\n      <td>1</td>\n    </tr>\n    <tr>\n      <th>...</th>\n      <td>...</td>\n      <td>...</td>\n      <td>...</td>\n      <td>...</td>\n      <td>...</td>\n      <td>...</td>\n      <td>...</td>\n      <td>...</td>\n      <td>...</td>\n      <td>...</td>\n      <td>...</td>\n      <td>...</td>\n      <td>...</td>\n      <td>...</td>\n      <td>...</td>\n      <td>...</td>\n      <td>...</td>\n      <td>...</td>\n      <td>...</td>\n      <td>...</td>\n      <td>...</td>\n    </tr>\n    <tr>\n      <th>58235</th>\n      <td>2021-05-18</td>\n      <td>Wyoming</td>\n      <td>WY</td>\n      <td>56</td>\n      <td>-107.290284</td>\n      <td>43.075968</td>\n      <td>0.00</td>\n      <td>0.47</td>\n      <td>6.54</td>\n      <td>17.38</td>\n      <td>...</td>\n      <td>17.56</td>\n      <td>6.01</td>\n      <td>6.73</td>\n      <td>3.36</td>\n      <td>2.89</td>\n      <td>80.75</td>\n      <td>4.49</td>\n      <td>6.61</td>\n      <td>10.45</td>\n      <td>1</td>\n    </tr>\n    <tr>\n      <th>58236</th>\n      <td>2021-05-25</td>\n      <td>Wyoming</td>\n      <td>WY</td>\n      <td>56</td>\n      <td>-107.290284</td>\n      <td>43.075968</td>\n      <td>0.11</td>\n      <td>0.95</td>\n      <td>5.07</td>\n      <td>16.60</td>\n      <td>...</td>\n      <td>13.43</td>\n      <td>7.49</td>\n      <td>9.18</td>\n      <td>6.45</td>\n      <td>5.50</td>\n      <td>81.35</td>\n      <td>1.03</td>\n      <td>3.02</td>\n      <td>6.50</td>\n      <td>1</td>\n    </tr>\n    <tr>\n      <th>58237</th>\n      <td>2021-06-01</td>\n      <td>Wyoming</td>\n      <td>WY</td>\n      <td>56</td>\n      <td>-107.290284</td>\n      <td>43.075968</td>\n      <td>1.19</td>\n      <td>1.75</td>\n      <td>7.33</td>\n      <td>12.02</td>\n      <td>...</td>\n      <td>17.39</td>\n      <td>3.61</td>\n      <td>6.54</td>\n      <td>4.33</td>\n      <td>2.58</td>\n      <td>81.70</td>\n      <td>6.35</td>\n      <td>9.74</td>\n      <td>11.27</td>\n      <td>1</td>\n    </tr>\n    <tr>\n      <th>58238</th>\n      <td>2021-06-08</td>\n      <td>Wyoming</td>\n      <td>WY</td>\n      <td>56</td>\n      <td>-107.290284</td>\n      <td>43.075968</td>\n      <td>0.00</td>\n      <td>0.49</td>\n      <td>6.30</td>\n      <td>17.62</td>\n      <td>...</td>\n      <td>21.32</td>\n      <td>13.17</td>\n      <td>14.71</td>\n      <td>11.86</td>\n      <td>11.36</td>\n      <td>80.92</td>\n      <td>3.91</td>\n      <td>12.01</td>\n      <td>12.41</td>\n      <td>1</td>\n    </tr>\n    <tr>\n      <th>58239</th>\n      <td>2021-06-15</td>\n      <td>Wyoming</td>\n      <td>WY</td>\n      <td>56</td>\n      <td>-107.290284</td>\n      <td>43.075968</td>\n      <td>0.00</td>\n      <td>2.45</td>\n      <td>5.70</td>\n      <td>20.28</td>\n      <td>...</td>\n      <td>24.76</td>\n      <td>5.38</td>\n      <td>9.27</td>\n      <td>7.68</td>\n      <td>5.22</td>\n      <td>81.58</td>\n      <td>2.68</td>\n      <td>14.46</td>\n      <td>13.91</td>\n      <td>2</td>\n    </tr>\n  </tbody>\n</table>\n<p>58240 rows × 25 columns</p>\n</div>",
      "text/plain": "             Week    State Postal Code  Fips   Longitude   Latitude  PRECTOT  \\\n0      2000-01-04  Alabama          AL     1  -86.902298  32.318231    12.35   \n1      2000-01-11  Alabama          AL     1  -86.902298  32.318231     0.97   \n2      2000-01-18  Alabama          AL     1  -86.902298  32.318231     1.80   \n3      2000-01-25  Alabama          AL     1  -86.902298  32.318231     0.00   \n4      2000-02-01  Alabama          AL     1  -86.902298  32.318231     0.01   \n...           ...      ...         ...   ...         ...        ...      ...   \n58235  2021-05-18  Wyoming          WY    56 -107.290284  43.075968     0.00   \n58236  2021-05-25  Wyoming          WY    56 -107.290284  43.075968     0.11   \n58237  2021-06-01  Wyoming          WY    56 -107.290284  43.075968     1.19   \n58238  2021-06-08  Wyoming          WY    56 -107.290284  43.075968     0.00   \n58239  2021-06-15  Wyoming          WY    56 -107.290284  43.075968     0.00   \n\n       WS10M_MIN  QV2M  T2M_RANGE  ...     TS  WS50M_RANGE  WS50M_MAX  \\\n0           2.14  6.84      15.39  ...  12.18         5.24       8.80   \n1           1.18  7.09      13.70  ...  11.15         4.09       6.18   \n2           1.59  9.91       6.50  ...  14.94         2.75       6.29   \n3           2.20  2.15      10.89  ...   0.24         3.71       7.61   \n4           0.73  3.38      15.38  ...   2.15         5.12       6.04   \n...          ...   ...        ...  ...    ...          ...        ...   \n58235       0.47  6.54      17.38  ...  17.56         6.01       6.73   \n58236       0.95  5.07      16.60  ...  13.43         7.49       9.18   \n58237       1.75  7.33      12.02  ...  17.39         3.61       6.54   \n58238       0.49  6.30      17.62  ...  21.32        13.17      14.71   \n58239       2.45  5.70      20.28  ...  24.76         5.38       9.27   \n\n       WS10M_MAX  WS10M_RANGE      PS  T2MDEW  T2M_MIN  T2MWET  LEVEL  \n0           5.44         3.30  100.72    6.95     2.85    6.97      1  \n1           2.51         1.33  100.83    8.89     5.91    8.89      1  \n2           3.87         2.28  100.82   13.94    11.96   13.94      1  \n3           4.35         2.16  100.53   -7.34    -4.39   -7.14      1  \n4           2.41         1.69  101.43   -1.58    -3.99   -1.55      1  \n...          ...          ...     ...     ...      ...     ...    ...  \n58235       3.36         2.89   80.75    4.49     6.61   10.45      1  \n58236       6.45         5.50   81.35    1.03     3.02    6.50      1  \n58237       4.33         2.58   81.70    6.35     9.74   11.27      1  \n58238      11.86        11.36   80.92    3.91    12.01   12.41      1  \n58239       7.68         5.22   81.58    2.68    14.46   13.91      2  \n\n[58240 rows x 25 columns]"
     },
     "execution_count": 12,
     "metadata": {},
     "output_type": "execute_result"
    }
   ],
   "source": [
    "df = pd.read_csv(base_url + 'files/merge.csv', index_col=0)\n",
    "df"
   ]
  },
  {
   "cell_type": "code",
   "execution_count": 13,
   "metadata": {},
   "outputs": [
    {
     "data": {
      "text/html": "<div>\n<style scoped>\n    .dataframe tbody tr th:only-of-type {\n        vertical-align: middle;\n    }\n\n    .dataframe tbody tr th {\n        vertical-align: top;\n    }\n\n    .dataframe thead th {\n        text-align: right;\n    }\n</style>\n<table border=\"1\" class=\"dataframe\">\n  <thead>\n    <tr style=\"text-align: right;\">\n      <th></th>\n      <th>Year</th>\n      <th>Month</th>\n      <th>Day</th>\n      <th>State</th>\n      <th>Postal Code</th>\n      <th>Fips</th>\n      <th>Longitude</th>\n      <th>Latitude</th>\n      <th>PRECTOT</th>\n      <th>WS10M_MIN</th>\n      <th>...</th>\n      <th>TS</th>\n      <th>WS50M_RANGE</th>\n      <th>WS50M_MAX</th>\n      <th>WS10M_MAX</th>\n      <th>WS10M_RANGE</th>\n      <th>PS</th>\n      <th>T2MDEW</th>\n      <th>T2M_MIN</th>\n      <th>T2MWET</th>\n      <th>LEVEL</th>\n    </tr>\n  </thead>\n  <tbody>\n    <tr>\n      <th>0</th>\n      <td>2000</td>\n      <td>1</td>\n      <td>4</td>\n      <td>Alabama</td>\n      <td>AL</td>\n      <td>1</td>\n      <td>-86.902298</td>\n      <td>32.318231</td>\n      <td>12.35</td>\n      <td>2.14</td>\n      <td>...</td>\n      <td>12.18</td>\n      <td>5.24</td>\n      <td>8.80</td>\n      <td>5.44</td>\n      <td>3.30</td>\n      <td>100.72</td>\n      <td>6.95</td>\n      <td>2.85</td>\n      <td>6.97</td>\n      <td>1</td>\n    </tr>\n    <tr>\n      <th>1</th>\n      <td>2000</td>\n      <td>1</td>\n      <td>11</td>\n      <td>Alabama</td>\n      <td>AL</td>\n      <td>1</td>\n      <td>-86.902298</td>\n      <td>32.318231</td>\n      <td>0.97</td>\n      <td>1.18</td>\n      <td>...</td>\n      <td>11.15</td>\n      <td>4.09</td>\n      <td>6.18</td>\n      <td>2.51</td>\n      <td>1.33</td>\n      <td>100.83</td>\n      <td>8.89</td>\n      <td>5.91</td>\n      <td>8.89</td>\n      <td>1</td>\n    </tr>\n    <tr>\n      <th>2</th>\n      <td>2000</td>\n      <td>1</td>\n      <td>18</td>\n      <td>Alabama</td>\n      <td>AL</td>\n      <td>1</td>\n      <td>-86.902298</td>\n      <td>32.318231</td>\n      <td>1.80</td>\n      <td>1.59</td>\n      <td>...</td>\n      <td>14.94</td>\n      <td>2.75</td>\n      <td>6.29</td>\n      <td>3.87</td>\n      <td>2.28</td>\n      <td>100.82</td>\n      <td>13.94</td>\n      <td>11.96</td>\n      <td>13.94</td>\n      <td>1</td>\n    </tr>\n    <tr>\n      <th>3</th>\n      <td>2000</td>\n      <td>1</td>\n      <td>25</td>\n      <td>Alabama</td>\n      <td>AL</td>\n      <td>1</td>\n      <td>-86.902298</td>\n      <td>32.318231</td>\n      <td>0.00</td>\n      <td>2.20</td>\n      <td>...</td>\n      <td>0.24</td>\n      <td>3.71</td>\n      <td>7.61</td>\n      <td>4.35</td>\n      <td>2.16</td>\n      <td>100.53</td>\n      <td>-7.34</td>\n      <td>-4.39</td>\n      <td>-7.14</td>\n      <td>1</td>\n    </tr>\n    <tr>\n      <th>4</th>\n      <td>2000</td>\n      <td>2</td>\n      <td>1</td>\n      <td>Alabama</td>\n      <td>AL</td>\n      <td>1</td>\n      <td>-86.902298</td>\n      <td>32.318231</td>\n      <td>0.01</td>\n      <td>0.73</td>\n      <td>...</td>\n      <td>2.15</td>\n      <td>5.12</td>\n      <td>6.04</td>\n      <td>2.41</td>\n      <td>1.69</td>\n      <td>101.43</td>\n      <td>-1.58</td>\n      <td>-3.99</td>\n      <td>-1.55</td>\n      <td>1</td>\n    </tr>\n    <tr>\n      <th>...</th>\n      <td>...</td>\n      <td>...</td>\n      <td>...</td>\n      <td>...</td>\n      <td>...</td>\n      <td>...</td>\n      <td>...</td>\n      <td>...</td>\n      <td>...</td>\n      <td>...</td>\n      <td>...</td>\n      <td>...</td>\n      <td>...</td>\n      <td>...</td>\n      <td>...</td>\n      <td>...</td>\n      <td>...</td>\n      <td>...</td>\n      <td>...</td>\n      <td>...</td>\n      <td>...</td>\n    </tr>\n    <tr>\n      <th>58235</th>\n      <td>2021</td>\n      <td>5</td>\n      <td>18</td>\n      <td>Wyoming</td>\n      <td>WY</td>\n      <td>56</td>\n      <td>-107.290284</td>\n      <td>43.075968</td>\n      <td>0.00</td>\n      <td>0.47</td>\n      <td>...</td>\n      <td>17.56</td>\n      <td>6.01</td>\n      <td>6.73</td>\n      <td>3.36</td>\n      <td>2.89</td>\n      <td>80.75</td>\n      <td>4.49</td>\n      <td>6.61</td>\n      <td>10.45</td>\n      <td>1</td>\n    </tr>\n    <tr>\n      <th>58236</th>\n      <td>2021</td>\n      <td>5</td>\n      <td>25</td>\n      <td>Wyoming</td>\n      <td>WY</td>\n      <td>56</td>\n      <td>-107.290284</td>\n      <td>43.075968</td>\n      <td>0.11</td>\n      <td>0.95</td>\n      <td>...</td>\n      <td>13.43</td>\n      <td>7.49</td>\n      <td>9.18</td>\n      <td>6.45</td>\n      <td>5.50</td>\n      <td>81.35</td>\n      <td>1.03</td>\n      <td>3.02</td>\n      <td>6.50</td>\n      <td>1</td>\n    </tr>\n    <tr>\n      <th>58237</th>\n      <td>2021</td>\n      <td>6</td>\n      <td>1</td>\n      <td>Wyoming</td>\n      <td>WY</td>\n      <td>56</td>\n      <td>-107.290284</td>\n      <td>43.075968</td>\n      <td>1.19</td>\n      <td>1.75</td>\n      <td>...</td>\n      <td>17.39</td>\n      <td>3.61</td>\n      <td>6.54</td>\n      <td>4.33</td>\n      <td>2.58</td>\n      <td>81.70</td>\n      <td>6.35</td>\n      <td>9.74</td>\n      <td>11.27</td>\n      <td>1</td>\n    </tr>\n    <tr>\n      <th>58238</th>\n      <td>2021</td>\n      <td>6</td>\n      <td>8</td>\n      <td>Wyoming</td>\n      <td>WY</td>\n      <td>56</td>\n      <td>-107.290284</td>\n      <td>43.075968</td>\n      <td>0.00</td>\n      <td>0.49</td>\n      <td>...</td>\n      <td>21.32</td>\n      <td>13.17</td>\n      <td>14.71</td>\n      <td>11.86</td>\n      <td>11.36</td>\n      <td>80.92</td>\n      <td>3.91</td>\n      <td>12.01</td>\n      <td>12.41</td>\n      <td>1</td>\n    </tr>\n    <tr>\n      <th>58239</th>\n      <td>2021</td>\n      <td>6</td>\n      <td>15</td>\n      <td>Wyoming</td>\n      <td>WY</td>\n      <td>56</td>\n      <td>-107.290284</td>\n      <td>43.075968</td>\n      <td>0.00</td>\n      <td>2.45</td>\n      <td>...</td>\n      <td>24.76</td>\n      <td>5.38</td>\n      <td>9.27</td>\n      <td>7.68</td>\n      <td>5.22</td>\n      <td>81.58</td>\n      <td>2.68</td>\n      <td>14.46</td>\n      <td>13.91</td>\n      <td>2</td>\n    </tr>\n  </tbody>\n</table>\n<p>58240 rows × 27 columns</p>\n</div>",
      "text/plain": "       Year  Month  Day    State Postal Code  Fips   Longitude   Latitude  \\\n0      2000      1    4  Alabama          AL     1  -86.902298  32.318231   \n1      2000      1   11  Alabama          AL     1  -86.902298  32.318231   \n2      2000      1   18  Alabama          AL     1  -86.902298  32.318231   \n3      2000      1   25  Alabama          AL     1  -86.902298  32.318231   \n4      2000      2    1  Alabama          AL     1  -86.902298  32.318231   \n...     ...    ...  ...      ...         ...   ...         ...        ...   \n58235  2021      5   18  Wyoming          WY    56 -107.290284  43.075968   \n58236  2021      5   25  Wyoming          WY    56 -107.290284  43.075968   \n58237  2021      6    1  Wyoming          WY    56 -107.290284  43.075968   \n58238  2021      6    8  Wyoming          WY    56 -107.290284  43.075968   \n58239  2021      6   15  Wyoming          WY    56 -107.290284  43.075968   \n\n       PRECTOT  WS10M_MIN  ...     TS  WS50M_RANGE  WS50M_MAX  WS10M_MAX  \\\n0        12.35       2.14  ...  12.18         5.24       8.80       5.44   \n1         0.97       1.18  ...  11.15         4.09       6.18       2.51   \n2         1.80       1.59  ...  14.94         2.75       6.29       3.87   \n3         0.00       2.20  ...   0.24         3.71       7.61       4.35   \n4         0.01       0.73  ...   2.15         5.12       6.04       2.41   \n...        ...        ...  ...    ...          ...        ...        ...   \n58235     0.00       0.47  ...  17.56         6.01       6.73       3.36   \n58236     0.11       0.95  ...  13.43         7.49       9.18       6.45   \n58237     1.19       1.75  ...  17.39         3.61       6.54       4.33   \n58238     0.00       0.49  ...  21.32        13.17      14.71      11.86   \n58239     0.00       2.45  ...  24.76         5.38       9.27       7.68   \n\n       WS10M_RANGE      PS  T2MDEW  T2M_MIN  T2MWET  LEVEL  \n0             3.30  100.72    6.95     2.85    6.97      1  \n1             1.33  100.83    8.89     5.91    8.89      1  \n2             2.28  100.82   13.94    11.96   13.94      1  \n3             2.16  100.53   -7.34    -4.39   -7.14      1  \n4             1.69  101.43   -1.58    -3.99   -1.55      1  \n...            ...     ...     ...      ...     ...    ...  \n58235         2.89   80.75    4.49     6.61   10.45      1  \n58236         5.50   81.35    1.03     3.02    6.50      1  \n58237         2.58   81.70    6.35     9.74   11.27      1  \n58238        11.36   80.92    3.91    12.01   12.41      1  \n58239         5.22   81.58    2.68    14.46   13.91      2  \n\n[58240 rows x 27 columns]"
     },
     "execution_count": 13,
     "metadata": {},
     "output_type": "execute_result"
    }
   ],
   "source": [
    "df['Week'] = pd.to_datetime(df['Week'])\n",
    "set_year = df['Week'].dt.year.to_list()\n",
    "set_month = df['Week'].dt.month.to_list()\n",
    "set_day = df['Week'].dt.day.to_list()\n",
    "df.insert(0, \"Year\", set_year, None)\n",
    "df.insert(1, \"Month\", set_month, None)\n",
    "df.insert(2, \"Day\", set_day, None)\n",
    "df = df.drop(columns='Week', axis=1)\n",
    "df"
   ]
  },
  {
   "cell_type": "code",
   "execution_count": 14,
   "metadata": {},
   "outputs": [
    {
     "data": {
      "text/html": "<div>\n<style scoped>\n    .dataframe tbody tr th:only-of-type {\n        vertical-align: middle;\n    }\n\n    .dataframe tbody tr th {\n        vertical-align: top;\n    }\n\n    .dataframe thead th {\n        text-align: right;\n    }\n</style>\n<table border=\"1\" class=\"dataframe\">\n  <thead>\n    <tr style=\"text-align: right;\">\n      <th></th>\n      <th>Year</th>\n      <th>Month</th>\n      <th>Day</th>\n      <th>State</th>\n      <th>Postal Code</th>\n      <th>Fips</th>\n      <th>Longitude</th>\n      <th>Latitude</th>\n      <th>PRECTOT</th>\n      <th>WS10M_MIN</th>\n      <th>...</th>\n      <th>PS</th>\n      <th>T2MDEW</th>\n      <th>T2M_MIN</th>\n      <th>T2MWET</th>\n      <th>LEVEL</th>\n      <th>level_0</th>\n      <th>level_1</th>\n      <th>level_2</th>\n      <th>level_3</th>\n      <th>level_4</th>\n    </tr>\n  </thead>\n  <tbody>\n    <tr>\n      <th>0</th>\n      <td>2000</td>\n      <td>1</td>\n      <td>4</td>\n      <td>Alabama</td>\n      <td>AL</td>\n      <td>1</td>\n      <td>-86.902298</td>\n      <td>32.318231</td>\n      <td>12.35</td>\n      <td>2.14</td>\n      <td>...</td>\n      <td>100.72</td>\n      <td>6.95</td>\n      <td>2.85</td>\n      <td>6.97</td>\n      <td>1</td>\n      <td>0</td>\n      <td>1</td>\n      <td>0</td>\n      <td>0</td>\n      <td>0</td>\n    </tr>\n    <tr>\n      <th>1</th>\n      <td>2000</td>\n      <td>1</td>\n      <td>11</td>\n      <td>Alabama</td>\n      <td>AL</td>\n      <td>1</td>\n      <td>-86.902298</td>\n      <td>32.318231</td>\n      <td>0.97</td>\n      <td>1.18</td>\n      <td>...</td>\n      <td>100.83</td>\n      <td>8.89</td>\n      <td>5.91</td>\n      <td>8.89</td>\n      <td>1</td>\n      <td>0</td>\n      <td>1</td>\n      <td>0</td>\n      <td>0</td>\n      <td>0</td>\n    </tr>\n    <tr>\n      <th>2</th>\n      <td>2000</td>\n      <td>1</td>\n      <td>18</td>\n      <td>Alabama</td>\n      <td>AL</td>\n      <td>1</td>\n      <td>-86.902298</td>\n      <td>32.318231</td>\n      <td>1.80</td>\n      <td>1.59</td>\n      <td>...</td>\n      <td>100.82</td>\n      <td>13.94</td>\n      <td>11.96</td>\n      <td>13.94</td>\n      <td>1</td>\n      <td>0</td>\n      <td>1</td>\n      <td>0</td>\n      <td>0</td>\n      <td>0</td>\n    </tr>\n    <tr>\n      <th>3</th>\n      <td>2000</td>\n      <td>1</td>\n      <td>25</td>\n      <td>Alabama</td>\n      <td>AL</td>\n      <td>1</td>\n      <td>-86.902298</td>\n      <td>32.318231</td>\n      <td>0.00</td>\n      <td>2.20</td>\n      <td>...</td>\n      <td>100.53</td>\n      <td>-7.34</td>\n      <td>-4.39</td>\n      <td>-7.14</td>\n      <td>1</td>\n      <td>0</td>\n      <td>1</td>\n      <td>0</td>\n      <td>0</td>\n      <td>0</td>\n    </tr>\n    <tr>\n      <th>4</th>\n      <td>2000</td>\n      <td>2</td>\n      <td>1</td>\n      <td>Alabama</td>\n      <td>AL</td>\n      <td>1</td>\n      <td>-86.902298</td>\n      <td>32.318231</td>\n      <td>0.01</td>\n      <td>0.73</td>\n      <td>...</td>\n      <td>101.43</td>\n      <td>-1.58</td>\n      <td>-3.99</td>\n      <td>-1.55</td>\n      <td>1</td>\n      <td>0</td>\n      <td>1</td>\n      <td>0</td>\n      <td>0</td>\n      <td>0</td>\n    </tr>\n    <tr>\n      <th>...</th>\n      <td>...</td>\n      <td>...</td>\n      <td>...</td>\n      <td>...</td>\n      <td>...</td>\n      <td>...</td>\n      <td>...</td>\n      <td>...</td>\n      <td>...</td>\n      <td>...</td>\n      <td>...</td>\n      <td>...</td>\n      <td>...</td>\n      <td>...</td>\n      <td>...</td>\n      <td>...</td>\n      <td>...</td>\n      <td>...</td>\n      <td>...</td>\n      <td>...</td>\n      <td>...</td>\n    </tr>\n    <tr>\n      <th>58235</th>\n      <td>2021</td>\n      <td>5</td>\n      <td>18</td>\n      <td>Wyoming</td>\n      <td>WY</td>\n      <td>56</td>\n      <td>-107.290284</td>\n      <td>43.075968</td>\n      <td>0.00</td>\n      <td>0.47</td>\n      <td>...</td>\n      <td>80.75</td>\n      <td>4.49</td>\n      <td>6.61</td>\n      <td>10.45</td>\n      <td>1</td>\n      <td>0</td>\n      <td>1</td>\n      <td>0</td>\n      <td>0</td>\n      <td>0</td>\n    </tr>\n    <tr>\n      <th>58236</th>\n      <td>2021</td>\n      <td>5</td>\n      <td>25</td>\n      <td>Wyoming</td>\n      <td>WY</td>\n      <td>56</td>\n      <td>-107.290284</td>\n      <td>43.075968</td>\n      <td>0.11</td>\n      <td>0.95</td>\n      <td>...</td>\n      <td>81.35</td>\n      <td>1.03</td>\n      <td>3.02</td>\n      <td>6.50</td>\n      <td>1</td>\n      <td>0</td>\n      <td>1</td>\n      <td>0</td>\n      <td>0</td>\n      <td>0</td>\n    </tr>\n    <tr>\n      <th>58237</th>\n      <td>2021</td>\n      <td>6</td>\n      <td>1</td>\n      <td>Wyoming</td>\n      <td>WY</td>\n      <td>56</td>\n      <td>-107.290284</td>\n      <td>43.075968</td>\n      <td>1.19</td>\n      <td>1.75</td>\n      <td>...</td>\n      <td>81.70</td>\n      <td>6.35</td>\n      <td>9.74</td>\n      <td>11.27</td>\n      <td>1</td>\n      <td>0</td>\n      <td>1</td>\n      <td>0</td>\n      <td>0</td>\n      <td>0</td>\n    </tr>\n    <tr>\n      <th>58238</th>\n      <td>2021</td>\n      <td>6</td>\n      <td>8</td>\n      <td>Wyoming</td>\n      <td>WY</td>\n      <td>56</td>\n      <td>-107.290284</td>\n      <td>43.075968</td>\n      <td>0.00</td>\n      <td>0.49</td>\n      <td>...</td>\n      <td>80.92</td>\n      <td>3.91</td>\n      <td>12.01</td>\n      <td>12.41</td>\n      <td>1</td>\n      <td>0</td>\n      <td>1</td>\n      <td>0</td>\n      <td>0</td>\n      <td>0</td>\n    </tr>\n    <tr>\n      <th>58239</th>\n      <td>2021</td>\n      <td>6</td>\n      <td>15</td>\n      <td>Wyoming</td>\n      <td>WY</td>\n      <td>56</td>\n      <td>-107.290284</td>\n      <td>43.075968</td>\n      <td>0.00</td>\n      <td>2.45</td>\n      <td>...</td>\n      <td>81.58</td>\n      <td>2.68</td>\n      <td>14.46</td>\n      <td>13.91</td>\n      <td>2</td>\n      <td>0</td>\n      <td>0</td>\n      <td>1</td>\n      <td>0</td>\n      <td>0</td>\n    </tr>\n  </tbody>\n</table>\n<p>58240 rows × 32 columns</p>\n</div>",
      "text/plain": "       Year  Month  Day    State Postal Code  Fips   Longitude   Latitude  \\\n0      2000      1    4  Alabama          AL     1  -86.902298  32.318231   \n1      2000      1   11  Alabama          AL     1  -86.902298  32.318231   \n2      2000      1   18  Alabama          AL     1  -86.902298  32.318231   \n3      2000      1   25  Alabama          AL     1  -86.902298  32.318231   \n4      2000      2    1  Alabama          AL     1  -86.902298  32.318231   \n...     ...    ...  ...      ...         ...   ...         ...        ...   \n58235  2021      5   18  Wyoming          WY    56 -107.290284  43.075968   \n58236  2021      5   25  Wyoming          WY    56 -107.290284  43.075968   \n58237  2021      6    1  Wyoming          WY    56 -107.290284  43.075968   \n58238  2021      6    8  Wyoming          WY    56 -107.290284  43.075968   \n58239  2021      6   15  Wyoming          WY    56 -107.290284  43.075968   \n\n       PRECTOT  WS10M_MIN  ...      PS  T2MDEW  T2M_MIN  T2MWET  LEVEL  \\\n0        12.35       2.14  ...  100.72    6.95     2.85    6.97      1   \n1         0.97       1.18  ...  100.83    8.89     5.91    8.89      1   \n2         1.80       1.59  ...  100.82   13.94    11.96   13.94      1   \n3         0.00       2.20  ...  100.53   -7.34    -4.39   -7.14      1   \n4         0.01       0.73  ...  101.43   -1.58    -3.99   -1.55      1   \n...        ...        ...  ...     ...     ...      ...     ...    ...   \n58235     0.00       0.47  ...   80.75    4.49     6.61   10.45      1   \n58236     0.11       0.95  ...   81.35    1.03     3.02    6.50      1   \n58237     1.19       1.75  ...   81.70    6.35     9.74   11.27      1   \n58238     0.00       0.49  ...   80.92    3.91    12.01   12.41      1   \n58239     0.00       2.45  ...   81.58    2.68    14.46   13.91      2   \n\n       level_0  level_1  level_2  level_3  level_4  \n0            0        1        0        0        0  \n1            0        1        0        0        0  \n2            0        1        0        0        0  \n3            0        1        0        0        0  \n4            0        1        0        0        0  \n...        ...      ...      ...      ...      ...  \n58235        0        1        0        0        0  \n58236        0        1        0        0        0  \n58237        0        1        0        0        0  \n58238        0        1        0        0        0  \n58239        0        0        1        0        0  \n\n[58240 rows x 32 columns]"
     },
     "execution_count": 14,
     "metadata": {},
     "output_type": "execute_result"
    }
   ],
   "source": [
    "encoding_columns = pd.get_dummies(df['LEVEL'], prefix=\"level\")\n",
    "df = df.join(encoding_columns)\n",
    "df"
   ]
  },
  {
   "cell_type": "code",
   "execution_count": 15,
   "metadata": {},
   "outputs": [
    {
     "data": {
      "text/html": "<div>\n<style scoped>\n    .dataframe tbody tr th:only-of-type {\n        vertical-align: middle;\n    }\n\n    .dataframe tbody tr th {\n        vertical-align: top;\n    }\n\n    .dataframe thead th {\n        text-align: right;\n    }\n</style>\n<table border=\"1\" class=\"dataframe\">\n  <thead>\n    <tr style=\"text-align: right;\">\n      <th></th>\n      <th>Year</th>\n      <th>Month</th>\n      <th>Day</th>\n      <th>Fips</th>\n      <th>Longitude</th>\n      <th>Latitude</th>\n      <th>PRECTOT</th>\n      <th>WS10M_MIN</th>\n      <th>QV2M</th>\n      <th>T2M_RANGE</th>\n      <th>...</th>\n      <th>WS10M_RANGE</th>\n      <th>PS</th>\n      <th>T2MDEW</th>\n      <th>T2M_MIN</th>\n      <th>T2MWET</th>\n      <th>level_0</th>\n      <th>level_1</th>\n      <th>level_2</th>\n      <th>level_3</th>\n      <th>level_4</th>\n    </tr>\n  </thead>\n  <tbody>\n    <tr>\n      <th>0</th>\n      <td>2000</td>\n      <td>1</td>\n      <td>4</td>\n      <td>1</td>\n      <td>-86.902298</td>\n      <td>32.318231</td>\n      <td>12.35</td>\n      <td>2.14</td>\n      <td>6.84</td>\n      <td>15.39</td>\n      <td>...</td>\n      <td>3.30</td>\n      <td>100.72</td>\n      <td>6.95</td>\n      <td>2.85</td>\n      <td>6.97</td>\n      <td>0</td>\n      <td>1</td>\n      <td>0</td>\n      <td>0</td>\n      <td>0</td>\n    </tr>\n    <tr>\n      <th>1</th>\n      <td>2000</td>\n      <td>1</td>\n      <td>11</td>\n      <td>1</td>\n      <td>-86.902298</td>\n      <td>32.318231</td>\n      <td>0.97</td>\n      <td>1.18</td>\n      <td>7.09</td>\n      <td>13.70</td>\n      <td>...</td>\n      <td>1.33</td>\n      <td>100.83</td>\n      <td>8.89</td>\n      <td>5.91</td>\n      <td>8.89</td>\n      <td>0</td>\n      <td>1</td>\n      <td>0</td>\n      <td>0</td>\n      <td>0</td>\n    </tr>\n    <tr>\n      <th>2</th>\n      <td>2000</td>\n      <td>1</td>\n      <td>18</td>\n      <td>1</td>\n      <td>-86.902298</td>\n      <td>32.318231</td>\n      <td>1.80</td>\n      <td>1.59</td>\n      <td>9.91</td>\n      <td>6.50</td>\n      <td>...</td>\n      <td>2.28</td>\n      <td>100.82</td>\n      <td>13.94</td>\n      <td>11.96</td>\n      <td>13.94</td>\n      <td>0</td>\n      <td>1</td>\n      <td>0</td>\n      <td>0</td>\n      <td>0</td>\n    </tr>\n    <tr>\n      <th>3</th>\n      <td>2000</td>\n      <td>1</td>\n      <td>25</td>\n      <td>1</td>\n      <td>-86.902298</td>\n      <td>32.318231</td>\n      <td>0.00</td>\n      <td>2.20</td>\n      <td>2.15</td>\n      <td>10.89</td>\n      <td>...</td>\n      <td>2.16</td>\n      <td>100.53</td>\n      <td>-7.34</td>\n      <td>-4.39</td>\n      <td>-7.14</td>\n      <td>0</td>\n      <td>1</td>\n      <td>0</td>\n      <td>0</td>\n      <td>0</td>\n    </tr>\n    <tr>\n      <th>4</th>\n      <td>2000</td>\n      <td>2</td>\n      <td>1</td>\n      <td>1</td>\n      <td>-86.902298</td>\n      <td>32.318231</td>\n      <td>0.01</td>\n      <td>0.73</td>\n      <td>3.38</td>\n      <td>15.38</td>\n      <td>...</td>\n      <td>1.69</td>\n      <td>101.43</td>\n      <td>-1.58</td>\n      <td>-3.99</td>\n      <td>-1.55</td>\n      <td>0</td>\n      <td>1</td>\n      <td>0</td>\n      <td>0</td>\n      <td>0</td>\n    </tr>\n    <tr>\n      <th>...</th>\n      <td>...</td>\n      <td>...</td>\n      <td>...</td>\n      <td>...</td>\n      <td>...</td>\n      <td>...</td>\n      <td>...</td>\n      <td>...</td>\n      <td>...</td>\n      <td>...</td>\n      <td>...</td>\n      <td>...</td>\n      <td>...</td>\n      <td>...</td>\n      <td>...</td>\n      <td>...</td>\n      <td>...</td>\n      <td>...</td>\n      <td>...</td>\n      <td>...</td>\n      <td>...</td>\n    </tr>\n    <tr>\n      <th>58235</th>\n      <td>2021</td>\n      <td>5</td>\n      <td>18</td>\n      <td>56</td>\n      <td>-107.290284</td>\n      <td>43.075968</td>\n      <td>0.00</td>\n      <td>0.47</td>\n      <td>6.54</td>\n      <td>17.38</td>\n      <td>...</td>\n      <td>2.89</td>\n      <td>80.75</td>\n      <td>4.49</td>\n      <td>6.61</td>\n      <td>10.45</td>\n      <td>0</td>\n      <td>1</td>\n      <td>0</td>\n      <td>0</td>\n      <td>0</td>\n    </tr>\n    <tr>\n      <th>58236</th>\n      <td>2021</td>\n      <td>5</td>\n      <td>25</td>\n      <td>56</td>\n      <td>-107.290284</td>\n      <td>43.075968</td>\n      <td>0.11</td>\n      <td>0.95</td>\n      <td>5.07</td>\n      <td>16.60</td>\n      <td>...</td>\n      <td>5.50</td>\n      <td>81.35</td>\n      <td>1.03</td>\n      <td>3.02</td>\n      <td>6.50</td>\n      <td>0</td>\n      <td>1</td>\n      <td>0</td>\n      <td>0</td>\n      <td>0</td>\n    </tr>\n    <tr>\n      <th>58237</th>\n      <td>2021</td>\n      <td>6</td>\n      <td>1</td>\n      <td>56</td>\n      <td>-107.290284</td>\n      <td>43.075968</td>\n      <td>1.19</td>\n      <td>1.75</td>\n      <td>7.33</td>\n      <td>12.02</td>\n      <td>...</td>\n      <td>2.58</td>\n      <td>81.70</td>\n      <td>6.35</td>\n      <td>9.74</td>\n      <td>11.27</td>\n      <td>0</td>\n      <td>1</td>\n      <td>0</td>\n      <td>0</td>\n      <td>0</td>\n    </tr>\n    <tr>\n      <th>58238</th>\n      <td>2021</td>\n      <td>6</td>\n      <td>8</td>\n      <td>56</td>\n      <td>-107.290284</td>\n      <td>43.075968</td>\n      <td>0.00</td>\n      <td>0.49</td>\n      <td>6.30</td>\n      <td>17.62</td>\n      <td>...</td>\n      <td>11.36</td>\n      <td>80.92</td>\n      <td>3.91</td>\n      <td>12.01</td>\n      <td>12.41</td>\n      <td>0</td>\n      <td>1</td>\n      <td>0</td>\n      <td>0</td>\n      <td>0</td>\n    </tr>\n    <tr>\n      <th>58239</th>\n      <td>2021</td>\n      <td>6</td>\n      <td>15</td>\n      <td>56</td>\n      <td>-107.290284</td>\n      <td>43.075968</td>\n      <td>0.00</td>\n      <td>2.45</td>\n      <td>5.70</td>\n      <td>20.28</td>\n      <td>...</td>\n      <td>5.22</td>\n      <td>81.58</td>\n      <td>2.68</td>\n      <td>14.46</td>\n      <td>13.91</td>\n      <td>0</td>\n      <td>0</td>\n      <td>1</td>\n      <td>0</td>\n      <td>0</td>\n    </tr>\n  </tbody>\n</table>\n<p>58240 rows × 29 columns</p>\n</div>",
      "text/plain": "       Year  Month  Day  Fips   Longitude   Latitude  PRECTOT  WS10M_MIN  \\\n0      2000      1    4     1  -86.902298  32.318231    12.35       2.14   \n1      2000      1   11     1  -86.902298  32.318231     0.97       1.18   \n2      2000      1   18     1  -86.902298  32.318231     1.80       1.59   \n3      2000      1   25     1  -86.902298  32.318231     0.00       2.20   \n4      2000      2    1     1  -86.902298  32.318231     0.01       0.73   \n...     ...    ...  ...   ...         ...        ...      ...        ...   \n58235  2021      5   18    56 -107.290284  43.075968     0.00       0.47   \n58236  2021      5   25    56 -107.290284  43.075968     0.11       0.95   \n58237  2021      6    1    56 -107.290284  43.075968     1.19       1.75   \n58238  2021      6    8    56 -107.290284  43.075968     0.00       0.49   \n58239  2021      6   15    56 -107.290284  43.075968     0.00       2.45   \n\n       QV2M  T2M_RANGE  ...  WS10M_RANGE      PS  T2MDEW  T2M_MIN  T2MWET  \\\n0      6.84      15.39  ...         3.30  100.72    6.95     2.85    6.97   \n1      7.09      13.70  ...         1.33  100.83    8.89     5.91    8.89   \n2      9.91       6.50  ...         2.28  100.82   13.94    11.96   13.94   \n3      2.15      10.89  ...         2.16  100.53   -7.34    -4.39   -7.14   \n4      3.38      15.38  ...         1.69  101.43   -1.58    -3.99   -1.55   \n...     ...        ...  ...          ...     ...     ...      ...     ...   \n58235  6.54      17.38  ...         2.89   80.75    4.49     6.61   10.45   \n58236  5.07      16.60  ...         5.50   81.35    1.03     3.02    6.50   \n58237  7.33      12.02  ...         2.58   81.70    6.35     9.74   11.27   \n58238  6.30      17.62  ...        11.36   80.92    3.91    12.01   12.41   \n58239  5.70      20.28  ...         5.22   81.58    2.68    14.46   13.91   \n\n       level_0  level_1  level_2  level_3  level_4  \n0            0        1        0        0        0  \n1            0        1        0        0        0  \n2            0        1        0        0        0  \n3            0        1        0        0        0  \n4            0        1        0        0        0  \n...        ...      ...      ...      ...      ...  \n58235        0        1        0        0        0  \n58236        0        1        0        0        0  \n58237        0        1        0        0        0  \n58238        0        1        0        0        0  \n58239        0        0        1        0        0  \n\n[58240 rows x 29 columns]"
     },
     "execution_count": 15,
     "metadata": {},
     "output_type": "execute_result"
    }
   ],
   "source": [
    "X = df[df.columns[(df.columns != 'LEVEL') & (df.columns != 'State') & (df.columns != 'Postal Code')]]\n",
    "X"
   ]
  },
  {
   "cell_type": "code",
   "execution_count": 16,
   "metadata": {},
   "outputs": [
    {
     "data": {
      "text/html": "<div>\n<style scoped>\n    .dataframe tbody tr th:only-of-type {\n        vertical-align: middle;\n    }\n\n    .dataframe tbody tr th {\n        vertical-align: top;\n    }\n\n    .dataframe thead th {\n        text-align: right;\n    }\n</style>\n<table border=\"1\" class=\"dataframe\">\n  <thead>\n    <tr style=\"text-align: right;\">\n      <th></th>\n      <th>LEVEL</th>\n    </tr>\n  </thead>\n  <tbody>\n    <tr>\n      <th>0</th>\n      <td>1</td>\n    </tr>\n    <tr>\n      <th>1</th>\n      <td>1</td>\n    </tr>\n    <tr>\n      <th>2</th>\n      <td>1</td>\n    </tr>\n    <tr>\n      <th>3</th>\n      <td>1</td>\n    </tr>\n    <tr>\n      <th>4</th>\n      <td>1</td>\n    </tr>\n    <tr>\n      <th>...</th>\n      <td>...</td>\n    </tr>\n    <tr>\n      <th>58235</th>\n      <td>1</td>\n    </tr>\n    <tr>\n      <th>58236</th>\n      <td>1</td>\n    </tr>\n    <tr>\n      <th>58237</th>\n      <td>1</td>\n    </tr>\n    <tr>\n      <th>58238</th>\n      <td>1</td>\n    </tr>\n    <tr>\n      <th>58239</th>\n      <td>2</td>\n    </tr>\n  </tbody>\n</table>\n<p>58240 rows × 1 columns</p>\n</div>",
      "text/plain": "       LEVEL\n0          1\n1          1\n2          1\n3          1\n4          1\n...      ...\n58235      1\n58236      1\n58237      1\n58238      1\n58239      2\n\n[58240 rows x 1 columns]"
     },
     "execution_count": 16,
     "metadata": {},
     "output_type": "execute_result"
    }
   ],
   "source": [
    "y = df[['LEVEL']]\n",
    "y"
   ]
  },
  {
   "cell_type": "code",
   "execution_count": 17,
   "metadata": {},
   "outputs": [],
   "source": [
    "X_train, X_test, y_train, y_test = train_test_split(X, y, test_size=0.3)"
   ]
  },
  {
   "cell_type": "code",
   "execution_count": 18,
   "metadata": {},
   "outputs": [],
   "source": [
    "def ML_Algo(model):\n",
    "    model.fit(X_train, y_train)\n",
    "    score = model.score(X_test, y_test) * 100\n",
    "    return score"
   ]
  },
  {
   "cell_type": "code",
   "execution_count": 19,
   "metadata": {},
   "outputs": [],
   "source": [
    "score_list = []\n",
    "models = [\"LogisticRegression\", \"KNeighborsClassifier\", \"DecisionTreeClassifier\", \"RandomForestClassifier\", \"SVC\"]"
   ]
  },
  {
   "cell_type": "code",
   "execution_count": 20,
   "metadata": {},
   "outputs": [
    {
     "name": "stderr",
     "output_type": "stream",
     "text": [
      "/home/amit/projects/regstrtion_form/env/lib/python3.8/site-packages/sklearn/utils/validation.py:73: DataConversionWarning: A column-vector y was passed when a 1d array was expected. Please change the shape of y to (n_samples, ), for example using ravel().\n",
      "  return f(**kwargs)\n",
      "/home/amit/projects/regstrtion_form/env/lib/python3.8/site-packages/sklearn/linear_model/_logistic.py:762: ConvergenceWarning: lbfgs failed to converge (status=1):\n",
      "STOP: TOTAL NO. of ITERATIONS REACHED LIMIT.\n",
      "\n",
      "Increase the number of iterations (max_iter) or scale the data as shown in:\n",
      "    https://scikit-learn.org/stable/modules/preprocessing.html\n",
      "Please also refer to the documentation for alternative solver options:\n",
      "    https://scikit-learn.org/stable/modules/linear_model.html#logistic-regression\n",
      "  n_iter_i = _check_optimize_result(\n"
     ]
    }
   ],
   "source": [
    "lg = LogisticRegression()\n",
    "lg_score = ML_Algo(lg)\n",
    "score_list.append(lg_score)"
   ]
  },
  {
   "cell_type": "code",
   "execution_count": 21,
   "metadata": {},
   "outputs": [
    {
     "name": "stderr",
     "output_type": "stream",
     "text": [
      "<ipython-input-18-cfba63d19b1a>:2: DataConversionWarning: A column-vector y was passed when a 1d array was expected. Please change the shape of y to (n_samples, ), for example using ravel().\n",
      "  model.fit(X_train, y_train)\n"
     ]
    }
   ],
   "source": [
    "knn = KNeighborsClassifier(n_neighbors=5)\n",
    "knn_score = ML_Algo(knn)\n",
    "score_list.append(knn_score)"
   ]
  },
  {
   "cell_type": "code",
   "execution_count": 22,
   "metadata": {},
   "outputs": [],
   "source": [
    "dtc = DecisionTreeClassifier()\n",
    "dtc_score = ML_Algo(dtc) \n",
    "score_list.append(dtc_score)"
   ]
  },
  {
   "cell_type": "code",
   "execution_count": 23,
   "metadata": {},
   "outputs": [
    {
     "name": "stderr",
     "output_type": "stream",
     "text": [
      "<ipython-input-18-cfba63d19b1a>:2: DataConversionWarning: A column-vector y was passed when a 1d array was expected. Please change the shape of y to (n_samples,), for example using ravel().\n",
      "  model.fit(X_train, y_train)\n"
     ]
    }
   ],
   "source": [
    "rfc = RandomForestClassifier()\n",
    "rfc_score = ML_Algo(rfc)\n",
    "score_list.append(rfc_score)"
   ]
  },
  {
   "cell_type": "code",
   "execution_count": 24,
   "metadata": {},
   "outputs": [
    {
     "name": "stderr",
     "output_type": "stream",
     "text": [
      "/home/amit/projects/regstrtion_form/env/lib/python3.8/site-packages/sklearn/utils/validation.py:73: DataConversionWarning: A column-vector y was passed when a 1d array was expected. Please change the shape of y to (n_samples, ), for example using ravel().\n",
      "  return f(**kwargs)\n"
     ]
    }
   ],
   "source": [
    "svc = SVC()\n",
    "svc_score = ML_Algo(svc)\n",
    "score_list.append(svc_score)"
   ]
  },
  {
   "cell_type": "code",
   "execution_count": 25,
   "metadata": {},
   "outputs": [],
   "source": [
    "data = {\n",
    "    \"Model\": models,\n",
    "    \"Score\": score_list\n",
    "}"
   ]
  },
  {
   "cell_type": "code",
   "execution_count": 26,
   "metadata": {},
   "outputs": [
    {
     "data": {
      "text/html": "<div>\n<style scoped>\n    .dataframe tbody tr th:only-of-type {\n        vertical-align: middle;\n    }\n\n    .dataframe tbody tr th {\n        vertical-align: top;\n    }\n\n    .dataframe thead th {\n        text-align: right;\n    }\n</style>\n<table border=\"1\" class=\"dataframe\">\n  <thead>\n    <tr style=\"text-align: right;\">\n      <th></th>\n      <th>Model</th>\n      <th>Score</th>\n    </tr>\n  </thead>\n  <tbody>\n    <tr>\n      <th>0</th>\n      <td>LogisticRegression</td>\n      <td>70.890568</td>\n    </tr>\n    <tr>\n      <th>1</th>\n      <td>KNeighborsClassifier</td>\n      <td>71.096612</td>\n    </tr>\n    <tr>\n      <th>2</th>\n      <td>DecisionTreeClassifier</td>\n      <td>100.000000</td>\n    </tr>\n    <tr>\n      <th>3</th>\n      <td>RandomForestClassifier</td>\n      <td>100.000000</td>\n    </tr>\n    <tr>\n      <th>4</th>\n      <td>SVC</td>\n      <td>71.440018</td>\n    </tr>\n  </tbody>\n</table>\n</div>",
      "text/plain": "                    Model       Score\n0      LogisticRegression   70.890568\n1    KNeighborsClassifier   71.096612\n2  DecisionTreeClassifier  100.000000\n3  RandomForestClassifier  100.000000\n4                     SVC   71.440018"
     },
     "execution_count": 26,
     "metadata": {},
     "output_type": "execute_result"
    }
   ],
   "source": [
    "score_df = pd.DataFrame(data)\n",
    "score_df"
   ]
  },
  {
   "cell_type": "code",
   "execution_count": null,
   "metadata": {},
   "outputs": [],
   "source": []
  }
 ],
 "metadata": {
  "kernelspec": {
   "display_name": "Python 3.8.5 64-bit ('env': venv)",
   "name": "python385jvsc74a57bd04a89485c9fa54da4c77b5cf4efc6cdf3655d80b063f8257e65d9a52a94defee6"
  },
  "language_info": {
   "codemirror_mode": {
    "name": "ipython",
    "version": 3
   },
   "file_extension": ".py",
   "mimetype": "text/x-python",
   "name": "python",
   "nbconvert_exporter": "python",
   "pygments_lexer": "ipython3",
   "version": "3.8.5"
  },
  "metadata": {
   "interpreter": {
    "hash": "4a89485c9fa54da4c77b5cf4efc6cdf3655d80b063f8257e65d9a52a94defee6"
   }
  },
  "orig_nbformat": 2
 },
 "nbformat": 4,
 "nbformat_minor": 2
}