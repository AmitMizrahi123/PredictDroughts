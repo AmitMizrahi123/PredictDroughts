{
 "cells": [
  {
   "cell_type": "code",
   "execution_count": 22,
   "metadata": {},
   "outputs": [],
   "source": [
    "import pandas as pd\n",
    "import matplotlib.pyplot as plt\n",
    "from matplotlib.cm import ScalarMappable\n",
    "from mpl_toolkits.basemap import Basemap\n",
    "from matplotlib.animation import FuncAnimation\n",
    "\n",
    "base_url = r'/home/amit/DataScienceProject/PredictDroughts/'"
   ]
  },
  {
   "cell_type": "code",
   "execution_count": 23,
   "metadata": {},
   "outputs": [
    {
     "data": {
      "text/html": "<div>\n<style scoped>\n    .dataframe tbody tr th:only-of-type {\n        vertical-align: middle;\n    }\n\n    .dataframe tbody tr th {\n        vertical-align: top;\n    }\n\n    .dataframe thead th {\n        text-align: right;\n    }\n</style>\n<table border=\"1\" class=\"dataframe\">\n  <thead>\n    <tr style=\"text-align: right;\">\n      <th></th>\n      <th>Week</th>\n      <th>State</th>\n      <th>Postal Code</th>\n      <th>Fips</th>\n      <th>Longitude</th>\n      <th>Latitude</th>\n      <th>PRECTOT</th>\n      <th>WS10M_MIN</th>\n      <th>QV2M</th>\n      <th>T2M_RANGE</th>\n      <th>...</th>\n      <th>TS</th>\n      <th>WS50M_RANGE</th>\n      <th>WS50M_MAX</th>\n      <th>WS10M_MAX</th>\n      <th>WS10M_RANGE</th>\n      <th>PS</th>\n      <th>T2MDEW</th>\n      <th>T2M_MIN</th>\n      <th>T2MWET</th>\n      <th>LEVEL</th>\n    </tr>\n  </thead>\n  <tbody>\n    <tr>\n      <th>0</th>\n      <td>2000-01-04</td>\n      <td>Alabama</td>\n      <td>AL</td>\n      <td>1</td>\n      <td>-86.902298</td>\n      <td>32.318231</td>\n      <td>12.35</td>\n      <td>2.14</td>\n      <td>6.84</td>\n      <td>15.39</td>\n      <td>...</td>\n      <td>12.18</td>\n      <td>5.24</td>\n      <td>8.80</td>\n      <td>5.44</td>\n      <td>3.30</td>\n      <td>100.72</td>\n      <td>6.95</td>\n      <td>2.85</td>\n      <td>6.97</td>\n      <td>1</td>\n    </tr>\n    <tr>\n      <th>1</th>\n      <td>2000-01-11</td>\n      <td>Alabama</td>\n      <td>AL</td>\n      <td>1</td>\n      <td>-86.902298</td>\n      <td>32.318231</td>\n      <td>0.97</td>\n      <td>1.18</td>\n      <td>7.09</td>\n      <td>13.70</td>\n      <td>...</td>\n      <td>11.15</td>\n      <td>4.09</td>\n      <td>6.18</td>\n      <td>2.51</td>\n      <td>1.33</td>\n      <td>100.83</td>\n      <td>8.89</td>\n      <td>5.91</td>\n      <td>8.89</td>\n      <td>1</td>\n    </tr>\n    <tr>\n      <th>2</th>\n      <td>2000-01-18</td>\n      <td>Alabama</td>\n      <td>AL</td>\n      <td>1</td>\n      <td>-86.902298</td>\n      <td>32.318231</td>\n      <td>1.80</td>\n      <td>1.59</td>\n      <td>9.91</td>\n      <td>6.50</td>\n      <td>...</td>\n      <td>14.94</td>\n      <td>2.75</td>\n      <td>6.29</td>\n      <td>3.87</td>\n      <td>2.28</td>\n      <td>100.82</td>\n      <td>13.94</td>\n      <td>11.96</td>\n      <td>13.94</td>\n      <td>1</td>\n    </tr>\n    <tr>\n      <th>3</th>\n      <td>2000-01-25</td>\n      <td>Alabama</td>\n      <td>AL</td>\n      <td>1</td>\n      <td>-86.902298</td>\n      <td>32.318231</td>\n      <td>0.00</td>\n      <td>2.20</td>\n      <td>2.15</td>\n      <td>10.89</td>\n      <td>...</td>\n      <td>0.24</td>\n      <td>3.71</td>\n      <td>7.61</td>\n      <td>4.35</td>\n      <td>2.16</td>\n      <td>100.53</td>\n      <td>-7.34</td>\n      <td>-4.39</td>\n      <td>-7.14</td>\n      <td>1</td>\n    </tr>\n    <tr>\n      <th>4</th>\n      <td>2000-02-01</td>\n      <td>Alabama</td>\n      <td>AL</td>\n      <td>1</td>\n      <td>-86.902298</td>\n      <td>32.318231</td>\n      <td>0.01</td>\n      <td>0.73</td>\n      <td>3.38</td>\n      <td>15.38</td>\n      <td>...</td>\n      <td>2.15</td>\n      <td>5.12</td>\n      <td>6.04</td>\n      <td>2.41</td>\n      <td>1.69</td>\n      <td>101.43</td>\n      <td>-1.58</td>\n      <td>-3.99</td>\n      <td>-1.55</td>\n      <td>1</td>\n    </tr>\n    <tr>\n      <th>...</th>\n      <td>...</td>\n      <td>...</td>\n      <td>...</td>\n      <td>...</td>\n      <td>...</td>\n      <td>...</td>\n      <td>...</td>\n      <td>...</td>\n      <td>...</td>\n      <td>...</td>\n      <td>...</td>\n      <td>...</td>\n      <td>...</td>\n      <td>...</td>\n      <td>...</td>\n      <td>...</td>\n      <td>...</td>\n      <td>...</td>\n      <td>...</td>\n      <td>...</td>\n      <td>...</td>\n    </tr>\n    <tr>\n      <th>58235</th>\n      <td>2021-05-18</td>\n      <td>Wyoming</td>\n      <td>WY</td>\n      <td>56</td>\n      <td>-107.290284</td>\n      <td>43.075968</td>\n      <td>0.00</td>\n      <td>0.47</td>\n      <td>6.54</td>\n      <td>17.38</td>\n      <td>...</td>\n      <td>17.56</td>\n      <td>6.01</td>\n      <td>6.73</td>\n      <td>3.36</td>\n      <td>2.89</td>\n      <td>80.75</td>\n      <td>4.49</td>\n      <td>6.61</td>\n      <td>10.45</td>\n      <td>1</td>\n    </tr>\n    <tr>\n      <th>58236</th>\n      <td>2021-05-25</td>\n      <td>Wyoming</td>\n      <td>WY</td>\n      <td>56</td>\n      <td>-107.290284</td>\n      <td>43.075968</td>\n      <td>0.11</td>\n      <td>0.95</td>\n      <td>5.07</td>\n      <td>16.60</td>\n      <td>...</td>\n      <td>13.43</td>\n      <td>7.49</td>\n      <td>9.18</td>\n      <td>6.45</td>\n      <td>5.50</td>\n      <td>81.35</td>\n      <td>1.03</td>\n      <td>3.02</td>\n      <td>6.50</td>\n      <td>1</td>\n    </tr>\n    <tr>\n      <th>58237</th>\n      <td>2021-06-01</td>\n      <td>Wyoming</td>\n      <td>WY</td>\n      <td>56</td>\n      <td>-107.290284</td>\n      <td>43.075968</td>\n      <td>1.19</td>\n      <td>1.75</td>\n      <td>7.33</td>\n      <td>12.02</td>\n      <td>...</td>\n      <td>17.39</td>\n      <td>3.61</td>\n      <td>6.54</td>\n      <td>4.33</td>\n      <td>2.58</td>\n      <td>81.70</td>\n      <td>6.35</td>\n      <td>9.74</td>\n      <td>11.27</td>\n      <td>1</td>\n    </tr>\n    <tr>\n      <th>58238</th>\n      <td>2021-06-08</td>\n      <td>Wyoming</td>\n      <td>WY</td>\n      <td>56</td>\n      <td>-107.290284</td>\n      <td>43.075968</td>\n      <td>0.00</td>\n      <td>0.49</td>\n      <td>6.30</td>\n      <td>17.62</td>\n      <td>...</td>\n      <td>21.32</td>\n      <td>13.17</td>\n      <td>14.71</td>\n      <td>11.86</td>\n      <td>11.36</td>\n      <td>80.92</td>\n      <td>3.91</td>\n      <td>12.01</td>\n      <td>12.41</td>\n      <td>1</td>\n    </tr>\n    <tr>\n      <th>58239</th>\n      <td>2021-06-15</td>\n      <td>Wyoming</td>\n      <td>WY</td>\n      <td>56</td>\n      <td>-107.290284</td>\n      <td>43.075968</td>\n      <td>0.00</td>\n      <td>2.45</td>\n      <td>5.70</td>\n      <td>20.28</td>\n      <td>...</td>\n      <td>24.76</td>\n      <td>5.38</td>\n      <td>9.27</td>\n      <td>7.68</td>\n      <td>5.22</td>\n      <td>81.58</td>\n      <td>2.68</td>\n      <td>14.46</td>\n      <td>13.91</td>\n      <td>2</td>\n    </tr>\n  </tbody>\n</table>\n<p>58240 rows × 25 columns</p>\n</div>",
      "text/plain": "             Week    State Postal Code  Fips   Longitude   Latitude  PRECTOT  \\\n0      2000-01-04  Alabama          AL     1  -86.902298  32.318231    12.35   \n1      2000-01-11  Alabama          AL     1  -86.902298  32.318231     0.97   \n2      2000-01-18  Alabama          AL     1  -86.902298  32.318231     1.80   \n3      2000-01-25  Alabama          AL     1  -86.902298  32.318231     0.00   \n4      2000-02-01  Alabama          AL     1  -86.902298  32.318231     0.01   \n...           ...      ...         ...   ...         ...        ...      ...   \n58235  2021-05-18  Wyoming          WY    56 -107.290284  43.075968     0.00   \n58236  2021-05-25  Wyoming          WY    56 -107.290284  43.075968     0.11   \n58237  2021-06-01  Wyoming          WY    56 -107.290284  43.075968     1.19   \n58238  2021-06-08  Wyoming          WY    56 -107.290284  43.075968     0.00   \n58239  2021-06-15  Wyoming          WY    56 -107.290284  43.075968     0.00   \n\n       WS10M_MIN  QV2M  T2M_RANGE  ...     TS  WS50M_RANGE  WS50M_MAX  \\\n0           2.14  6.84      15.39  ...  12.18         5.24       8.80   \n1           1.18  7.09      13.70  ...  11.15         4.09       6.18   \n2           1.59  9.91       6.50  ...  14.94         2.75       6.29   \n3           2.20  2.15      10.89  ...   0.24         3.71       7.61   \n4           0.73  3.38      15.38  ...   2.15         5.12       6.04   \n...          ...   ...        ...  ...    ...          ...        ...   \n58235       0.47  6.54      17.38  ...  17.56         6.01       6.73   \n58236       0.95  5.07      16.60  ...  13.43         7.49       9.18   \n58237       1.75  7.33      12.02  ...  17.39         3.61       6.54   \n58238       0.49  6.30      17.62  ...  21.32        13.17      14.71   \n58239       2.45  5.70      20.28  ...  24.76         5.38       9.27   \n\n       WS10M_MAX  WS10M_RANGE      PS  T2MDEW  T2M_MIN  T2MWET  LEVEL  \n0           5.44         3.30  100.72    6.95     2.85    6.97      1  \n1           2.51         1.33  100.83    8.89     5.91    8.89      1  \n2           3.87         2.28  100.82   13.94    11.96   13.94      1  \n3           4.35         2.16  100.53   -7.34    -4.39   -7.14      1  \n4           2.41         1.69  101.43   -1.58    -3.99   -1.55      1  \n...          ...          ...     ...     ...      ...     ...    ...  \n58235       3.36         2.89   80.75    4.49     6.61   10.45      1  \n58236       6.45         5.50   81.35    1.03     3.02    6.50      1  \n58237       4.33         2.58   81.70    6.35     9.74   11.27      1  \n58238      11.86        11.36   80.92    3.91    12.01   12.41      1  \n58239       7.68         5.22   81.58    2.68    14.46   13.91      2  \n\n[58240 rows x 25 columns]"
     },
     "execution_count": 23,
     "metadata": {},
     "output_type": "execute_result"
    }
   ],
   "source": [
    "df = pd.read_csv(base_url + 'files/merge.csv', index_col=0, encoding=\"ISO-8859-1\")\n",
    "df"
   ]
  },
  {
   "cell_type": "code",
   "execution_count": 24,
   "metadata": {},
   "outputs": [
    {
     "data": {
      "text/html": "<div>\n<style scoped>\n    .dataframe tbody tr th:only-of-type {\n        vertical-align: middle;\n    }\n\n    .dataframe tbody tr th {\n        vertical-align: top;\n    }\n\n    .dataframe thead th {\n        text-align: right;\n    }\n</style>\n<table border=\"1\" class=\"dataframe\">\n  <thead>\n    <tr style=\"text-align: right;\">\n      <th></th>\n      <th>Fips</th>\n      <th>Longitude</th>\n      <th>Latitude</th>\n    </tr>\n  </thead>\n  <tbody>\n    <tr>\n      <th>0</th>\n      <td>1</td>\n      <td>-86.902298</td>\n      <td>32.318231</td>\n    </tr>\n    <tr>\n      <th>1</th>\n      <td>1</td>\n      <td>-86.902298</td>\n      <td>32.318231</td>\n    </tr>\n    <tr>\n      <th>2</th>\n      <td>1</td>\n      <td>-86.902298</td>\n      <td>32.318231</td>\n    </tr>\n    <tr>\n      <th>3</th>\n      <td>1</td>\n      <td>-86.902298</td>\n      <td>32.318231</td>\n    </tr>\n    <tr>\n      <th>4</th>\n      <td>1</td>\n      <td>-86.902298</td>\n      <td>32.318231</td>\n    </tr>\n    <tr>\n      <th>...</th>\n      <td>...</td>\n      <td>...</td>\n      <td>...</td>\n    </tr>\n    <tr>\n      <th>58235</th>\n      <td>56</td>\n      <td>-107.290284</td>\n      <td>43.075968</td>\n    </tr>\n    <tr>\n      <th>58236</th>\n      <td>56</td>\n      <td>-107.290284</td>\n      <td>43.075968</td>\n    </tr>\n    <tr>\n      <th>58237</th>\n      <td>56</td>\n      <td>-107.290284</td>\n      <td>43.075968</td>\n    </tr>\n    <tr>\n      <th>58238</th>\n      <td>56</td>\n      <td>-107.290284</td>\n      <td>43.075968</td>\n    </tr>\n    <tr>\n      <th>58239</th>\n      <td>56</td>\n      <td>-107.290284</td>\n      <td>43.075968</td>\n    </tr>\n  </tbody>\n</table>\n<p>58240 rows × 3 columns</p>\n</div>",
      "text/plain": "       Fips   Longitude   Latitude\n0         1  -86.902298  32.318231\n1         1  -86.902298  32.318231\n2         1  -86.902298  32.318231\n3         1  -86.902298  32.318231\n4         1  -86.902298  32.318231\n...     ...         ...        ...\n58235    56 -107.290284  43.075968\n58236    56 -107.290284  43.075968\n58237    56 -107.290284  43.075968\n58238    56 -107.290284  43.075968\n58239    56 -107.290284  43.075968\n\n[58240 rows x 3 columns]"
     },
     "execution_count": 24,
     "metadata": {},
     "output_type": "execute_result"
    }
   ],
   "source": [
    "df_state = df.copy()\n",
    "df_state = df_state[['Fips', 'Longitude', 'Latitude']]\n",
    "df_state"
   ]
  },
  {
   "cell_type": "code",
   "execution_count": 25,
   "metadata": {},
   "outputs": [
    {
     "data": {
      "text/html": "<div>\n<style scoped>\n    .dataframe tbody tr th:only-of-type {\n        vertical-align: middle;\n    }\n\n    .dataframe tbody tr th {\n        vertical-align: top;\n    }\n\n    .dataframe thead th {\n        text-align: right;\n    }\n</style>\n<table border=\"1\" class=\"dataframe\">\n  <thead>\n    <tr style=\"text-align: right;\">\n      <th></th>\n      <th>Week</th>\n      <th>Fips</th>\n      <th>None</th>\n      <th>D0-D4</th>\n      <th>D1-D4</th>\n      <th>D2-D4</th>\n      <th>D3-D4</th>\n      <th>D4</th>\n      <th>DSCI</th>\n      <th>LEVEL</th>\n    </tr>\n  </thead>\n  <tbody>\n    <tr>\n      <th>1</th>\n      <td>2000-01-31</td>\n      <td>1.0</td>\n      <td>0.000000</td>\n      <td>100.000000</td>\n      <td>69.060000</td>\n      <td>7.4050</td>\n      <td>0.000</td>\n      <td>0.0</td>\n      <td>176.250000</td>\n      <td>1.0</td>\n    </tr>\n    <tr>\n      <th>1</th>\n      <td>2000-02-29</td>\n      <td>1.0</td>\n      <td>0.000000</td>\n      <td>100.000000</td>\n      <td>50.822000</td>\n      <td>2.4000</td>\n      <td>0.000</td>\n      <td>0.0</td>\n      <td>153.400000</td>\n      <td>1.0</td>\n    </tr>\n    <tr>\n      <th>1</th>\n      <td>2000-03-31</td>\n      <td>1.0</td>\n      <td>0.000000</td>\n      <td>100.000000</td>\n      <td>58.447500</td>\n      <td>17.8975</td>\n      <td>0.000</td>\n      <td>0.0</td>\n      <td>176.250000</td>\n      <td>1.0</td>\n    </tr>\n    <tr>\n      <th>1</th>\n      <td>2000-04-30</td>\n      <td>1.0</td>\n      <td>26.450000</td>\n      <td>73.550000</td>\n      <td>41.185000</td>\n      <td>9.4475</td>\n      <td>0.000</td>\n      <td>0.0</td>\n      <td>124.250000</td>\n      <td>1.0</td>\n    </tr>\n    <tr>\n      <th>1</th>\n      <td>2000-05-31</td>\n      <td>1.0</td>\n      <td>16.558000</td>\n      <td>83.442000</td>\n      <td>64.236000</td>\n      <td>36.0860</td>\n      <td>8.512</td>\n      <td>0.0</td>\n      <td>192.200000</td>\n      <td>1.6</td>\n    </tr>\n    <tr>\n      <th>...</th>\n      <td>...</td>\n      <td>...</td>\n      <td>...</td>\n      <td>...</td>\n      <td>...</td>\n      <td>...</td>\n      <td>...</td>\n      <td>...</td>\n      <td>...</td>\n      <td>...</td>\n    </tr>\n    <tr>\n      <th>72</th>\n      <td>2021-02-28</td>\n      <td>72.0</td>\n      <td>74.687500</td>\n      <td>25.312500</td>\n      <td>10.140000</td>\n      <td>0.0000</td>\n      <td>0.000</td>\n      <td>0.0</td>\n      <td>35.250000</td>\n      <td>0.0</td>\n    </tr>\n    <tr>\n      <th>72</th>\n      <td>2021-03-31</td>\n      <td>72.0</td>\n      <td>65.312000</td>\n      <td>34.688000</td>\n      <td>12.712000</td>\n      <td>0.0000</td>\n      <td>0.000</td>\n      <td>0.0</td>\n      <td>47.600000</td>\n      <td>0.0</td>\n    </tr>\n    <tr>\n      <th>72</th>\n      <td>2021-04-30</td>\n      <td>72.0</td>\n      <td>61.897500</td>\n      <td>38.102500</td>\n      <td>6.150000</td>\n      <td>0.0000</td>\n      <td>0.000</td>\n      <td>0.0</td>\n      <td>44.250000</td>\n      <td>0.0</td>\n    </tr>\n    <tr>\n      <th>72</th>\n      <td>2021-05-31</td>\n      <td>72.0</td>\n      <td>28.895000</td>\n      <td>71.105000</td>\n      <td>18.197500</td>\n      <td>0.0000</td>\n      <td>0.000</td>\n      <td>0.0</td>\n      <td>89.250000</td>\n      <td>0.0</td>\n    </tr>\n    <tr>\n      <th>72</th>\n      <td>2021-06-30</td>\n      <td>72.0</td>\n      <td>38.453333</td>\n      <td>61.546667</td>\n      <td>15.603333</td>\n      <td>0.0000</td>\n      <td>0.000</td>\n      <td>0.0</td>\n      <td>77.333333</td>\n      <td>0.0</td>\n    </tr>\n  </tbody>\n</table>\n<p>13416 rows × 10 columns</p>\n</div>",
      "text/plain": "         Week  Fips       None       D0-D4      D1-D4    D2-D4  D3-D4   D4  \\\n1  2000-01-31   1.0   0.000000  100.000000  69.060000   7.4050  0.000  0.0   \n1  2000-02-29   1.0   0.000000  100.000000  50.822000   2.4000  0.000  0.0   \n1  2000-03-31   1.0   0.000000  100.000000  58.447500  17.8975  0.000  0.0   \n1  2000-04-30   1.0  26.450000   73.550000  41.185000   9.4475  0.000  0.0   \n1  2000-05-31   1.0  16.558000   83.442000  64.236000  36.0860  8.512  0.0   \n..        ...   ...        ...         ...        ...      ...    ...  ...   \n72 2021-02-28  72.0  74.687500   25.312500  10.140000   0.0000  0.000  0.0   \n72 2021-03-31  72.0  65.312000   34.688000  12.712000   0.0000  0.000  0.0   \n72 2021-04-30  72.0  61.897500   38.102500   6.150000   0.0000  0.000  0.0   \n72 2021-05-31  72.0  28.895000   71.105000  18.197500   0.0000  0.000  0.0   \n72 2021-06-30  72.0  38.453333   61.546667  15.603333   0.0000  0.000  0.0   \n\n          DSCI  LEVEL  \n1   176.250000    1.0  \n1   153.400000    1.0  \n1   176.250000    1.0  \n1   124.250000    1.0  \n1   192.200000    1.6  \n..         ...    ...  \n72   35.250000    0.0  \n72   47.600000    0.0  \n72   44.250000    0.0  \n72   89.250000    0.0  \n72   77.333333    0.0  \n\n[13416 rows x 10 columns]"
     },
     "execution_count": 25,
     "metadata": {},
     "output_type": "execute_result"
    }
   ],
   "source": [
    "df_drought = pd.read_csv(base_url + 'files/drought.csv', index_col=0)\n",
    "df_drought['Week'] = pd.to_datetime(df_drought['Week'], format='%Y-%m-%d')\n",
    "df_drought.drop(columns=['State'], axis=1, inplace=True)\n",
    "df_drought = df_drought.set_index('Week').groupby(['Fips']).resample('M').mean().reset_index(level=1)\n",
    "df_drought = df_drought.rename_axis(None)\n",
    "df_drought"
   ]
  },
  {
   "cell_type": "code",
   "execution_count": 26,
   "metadata": {},
   "outputs": [],
   "source": [
    "dr_final = pd.merge(df_drought, df_state, left_on='Fips', right_on='Fips', how='inner', sort='False')\n",
    "dr_final = dr_final[['Fips', 'Week', 'LEVEL', 'Longitude', 'Latitude']]\n",
    "dr_final = dr_final.sort_values('Week').reset_index(drop=True)\n",
    "dr_final = dr_final.groupby('Fips')"
   ]
  },
  {
   "cell_type": "code",
   "execution_count": 27,
   "metadata": {},
   "outputs": [
    {
     "ename": "AttributeError",
     "evalue": "module '_geoslib' has no attribute 'Polygon'",
     "output_type": "error",
     "traceback": [
      "\u001b[0;31m---------------------------------------------------------------------------\u001b[0m",
      "\u001b[0;31mAttributeError\u001b[0m                            Traceback (most recent call last)",
      "\u001b[0;32m<ipython-input-27-5c75fdb5986c>\u001b[0m in \u001b[0;36m<module>\u001b[0;34m\u001b[0m\n\u001b[0;32m----> 1\u001b[0;31m \u001b[0mm\u001b[0m \u001b[0;34m=\u001b[0m \u001b[0mBasemap\u001b[0m\u001b[0;34m(\u001b[0m\u001b[0mllcrnrlon\u001b[0m\u001b[0;34m=\u001b[0m\u001b[0;34m-\u001b[0m\u001b[0;36m119\u001b[0m\u001b[0;34m,\u001b[0m \u001b[0mllcrnrlat\u001b[0m\u001b[0;34m=\u001b[0m\u001b[0;36m22\u001b[0m\u001b[0;34m,\u001b[0m \u001b[0murcrnrlon\u001b[0m\u001b[0;34m=\u001b[0m\u001b[0;34m-\u001b[0m\u001b[0;36m64\u001b[0m\u001b[0;34m,\u001b[0m \u001b[0murcrnrlat\u001b[0m\u001b[0;34m=\u001b[0m\u001b[0;36m49\u001b[0m\u001b[0;34m,\u001b[0m \u001b[0mprojection\u001b[0m\u001b[0;34m=\u001b[0m\u001b[0;34m'lcc'\u001b[0m\u001b[0;34m,\u001b[0m \u001b[0mlat_1\u001b[0m\u001b[0;34m=\u001b[0m\u001b[0;36m33\u001b[0m\u001b[0;34m,\u001b[0m \u001b[0mlat_2\u001b[0m\u001b[0;34m=\u001b[0m\u001b[0;36m45\u001b[0m\u001b[0;34m,\u001b[0m \u001b[0mlon_0\u001b[0m\u001b[0;34m=\u001b[0m\u001b[0;34m-\u001b[0m\u001b[0;36m95\u001b[0m\u001b[0;34m)\u001b[0m\u001b[0;34m\u001b[0m\u001b[0;34m\u001b[0m\u001b[0m\n\u001b[0m\u001b[1;32m      2\u001b[0m \u001b[0mm\u001b[0m\u001b[0;34m.\u001b[0m\u001b[0mdrawcoastlines\u001b[0m\u001b[0;34m(\u001b[0m\u001b[0;34m)\u001b[0m\u001b[0;34m\u001b[0m\u001b[0;34m\u001b[0m\u001b[0m\n\u001b[1;32m      3\u001b[0m \u001b[0mm\u001b[0m\u001b[0;34m.\u001b[0m\u001b[0mdrawmapboundary\u001b[0m\u001b[0;34m(\u001b[0m\u001b[0mzorder\u001b[0m\u001b[0;34m=\u001b[0m\u001b[0;36m0\u001b[0m\u001b[0;34m)\u001b[0m\u001b[0;34m\u001b[0m\u001b[0;34m\u001b[0m\u001b[0m\n\u001b[1;32m      4\u001b[0m \u001b[0mm\u001b[0m\u001b[0;34m.\u001b[0m\u001b[0mfillcontinents\u001b[0m\u001b[0;34m(\u001b[0m\u001b[0mcolor\u001b[0m\u001b[0;34m=\u001b[0m\u001b[0;34m'#ffffff'\u001b[0m\u001b[0;34m,\u001b[0m\u001b[0mzorder\u001b[0m\u001b[0;34m=\u001b[0m\u001b[0;36m1\u001b[0m\u001b[0;34m)\u001b[0m\u001b[0;34m\u001b[0m\u001b[0;34m\u001b[0m\u001b[0m\n\u001b[1;32m      5\u001b[0m \u001b[0mm\u001b[0m\u001b[0;34m.\u001b[0m\u001b[0mdrawcountries\u001b[0m\u001b[0;34m(\u001b[0m\u001b[0mlinewidth\u001b[0m\u001b[0;34m=\u001b[0m\u001b[0;36m1\u001b[0m\u001b[0;34m)\u001b[0m\u001b[0;34m\u001b[0m\u001b[0;34m\u001b[0m\u001b[0m\n",
      "\u001b[0;32m~/projects/regstrtion_form/env/lib/python3.8/site-packages/mpl_toolkits/basemap/__init__.py\u001b[0m in \u001b[0;36m__init__\u001b[0;34m(self, llcrnrlon, llcrnrlat, urcrnrlon, urcrnrlat, llcrnrx, llcrnry, urcrnrx, urcrnry, width, height, projection, resolution, area_thresh, rsphere, ellps, lat_ts, lat_1, lat_2, lat_0, lon_0, lon_1, lon_2, o_lon_p, o_lat_p, k_0, no_rot, suppress_ticks, satellite_height, boundinglat, fix_aspect, anchor, celestial, round, epsg, ax)\u001b[0m\n\u001b[1;32m   1077\u001b[0m         \u001b[0mself\u001b[0m\u001b[0;34m.\u001b[0m\u001b[0marea_thresh\u001b[0m \u001b[0;34m=\u001b[0m \u001b[0marea_thresh\u001b[0m\u001b[0;34m\u001b[0m\u001b[0;34m\u001b[0m\u001b[0m\n\u001b[1;32m   1078\u001b[0m         \u001b[0;31m# define map boundary polygon (in lat/lon coordinates)\u001b[0m\u001b[0;34m\u001b[0m\u001b[0;34m\u001b[0m\u001b[0;34m\u001b[0m\u001b[0m\n\u001b[0;32m-> 1079\u001b[0;31m         \u001b[0mblons\u001b[0m\u001b[0;34m,\u001b[0m \u001b[0mblats\u001b[0m\u001b[0;34m,\u001b[0m \u001b[0mself\u001b[0m\u001b[0;34m.\u001b[0m\u001b[0m_boundarypolyll\u001b[0m\u001b[0;34m,\u001b[0m \u001b[0mself\u001b[0m\u001b[0;34m.\u001b[0m\u001b[0m_boundarypolyxy\u001b[0m \u001b[0;34m=\u001b[0m \u001b[0mself\u001b[0m\u001b[0;34m.\u001b[0m\u001b[0m_getmapboundary\u001b[0m\u001b[0;34m(\u001b[0m\u001b[0;34m)\u001b[0m\u001b[0;34m\u001b[0m\u001b[0;34m\u001b[0m\u001b[0m\n\u001b[0m\u001b[1;32m   1080\u001b[0m         \u001b[0mself\u001b[0m\u001b[0;34m.\u001b[0m\u001b[0mboundarylats\u001b[0m \u001b[0;34m=\u001b[0m \u001b[0mblats\u001b[0m\u001b[0;34m\u001b[0m\u001b[0;34m\u001b[0m\u001b[0m\n\u001b[1;32m   1081\u001b[0m         \u001b[0mself\u001b[0m\u001b[0;34m.\u001b[0m\u001b[0mboundarylons\u001b[0m \u001b[0;34m=\u001b[0m \u001b[0mblons\u001b[0m\u001b[0;34m\u001b[0m\u001b[0;34m\u001b[0m\u001b[0m\n",
      "\u001b[0;32m~/projects/regstrtion_form/env/lib/python3.8/site-packages/mpl_toolkits/basemap/__init__.py\u001b[0m in \u001b[0;36m_getmapboundary\u001b[0;34m(self)\u001b[0m\n\u001b[1;32m   1593\u001b[0m             \u001b[0mb\u001b[0m\u001b[0;34m[\u001b[0m\u001b[0;34m:\u001b[0m\u001b[0;34m,\u001b[0m\u001b[0;36m0\u001b[0m\u001b[0;34m]\u001b[0m\u001b[0;34m=\u001b[0m\u001b[0;34m[\u001b[0m\u001b[0mself\u001b[0m\u001b[0;34m.\u001b[0m\u001b[0mxmin\u001b[0m\u001b[0;34m,\u001b[0m\u001b[0mself\u001b[0m\u001b[0;34m.\u001b[0m\u001b[0mxmin\u001b[0m\u001b[0;34m,\u001b[0m\u001b[0mself\u001b[0m\u001b[0;34m.\u001b[0m\u001b[0mxmax\u001b[0m\u001b[0;34m,\u001b[0m\u001b[0mself\u001b[0m\u001b[0;34m.\u001b[0m\u001b[0mxmax\u001b[0m\u001b[0;34m]\u001b[0m\u001b[0;34m\u001b[0m\u001b[0;34m\u001b[0m\u001b[0m\n\u001b[1;32m   1594\u001b[0m             \u001b[0mb\u001b[0m\u001b[0;34m[\u001b[0m\u001b[0;34m:\u001b[0m\u001b[0;34m,\u001b[0m\u001b[0;36m1\u001b[0m\u001b[0;34m]\u001b[0m\u001b[0;34m=\u001b[0m\u001b[0;34m[\u001b[0m\u001b[0mself\u001b[0m\u001b[0;34m.\u001b[0m\u001b[0mymin\u001b[0m\u001b[0;34m,\u001b[0m\u001b[0mself\u001b[0m\u001b[0;34m.\u001b[0m\u001b[0mymax\u001b[0m\u001b[0;34m,\u001b[0m\u001b[0mself\u001b[0m\u001b[0;34m.\u001b[0m\u001b[0mymax\u001b[0m\u001b[0;34m,\u001b[0m\u001b[0mself\u001b[0m\u001b[0;34m.\u001b[0m\u001b[0mymin\u001b[0m\u001b[0;34m]\u001b[0m\u001b[0;34m\u001b[0m\u001b[0;34m\u001b[0m\u001b[0m\n\u001b[0;32m-> 1595\u001b[0;31m             \u001b[0mboundaryxy\u001b[0m \u001b[0;34m=\u001b[0m \u001b[0m_geoslib\u001b[0m\u001b[0;34m.\u001b[0m\u001b[0mPolygon\u001b[0m\u001b[0;34m(\u001b[0m\u001b[0mb\u001b[0m\u001b[0;34m)\u001b[0m\u001b[0;34m\u001b[0m\u001b[0;34m\u001b[0m\u001b[0m\n\u001b[0m\u001b[1;32m   1596\u001b[0m         \u001b[0;32mif\u001b[0m \u001b[0mself\u001b[0m\u001b[0;34m.\u001b[0m\u001b[0mprojection\u001b[0m \u001b[0;32min\u001b[0m \u001b[0m_cylproj\u001b[0m\u001b[0;34m:\u001b[0m\u001b[0;34m\u001b[0m\u001b[0;34m\u001b[0m\u001b[0m\n\u001b[1;32m   1597\u001b[0m             \u001b[0;31m# make sure map boundary doesn't quite include pole.\u001b[0m\u001b[0;34m\u001b[0m\u001b[0;34m\u001b[0m\u001b[0;34m\u001b[0m\u001b[0m\n",
      "\u001b[0;31mAttributeError\u001b[0m: module '_geoslib' has no attribute 'Polygon'"
     ]
    }
   ],
   "source": [
    "m = Basemap(llcrnrlon=-119, llcrnrlat=22, urcrnrlon=-64, urcrnrlat=49, projection='lcc', lat_1=33, lat_2=45, lon_0=-95)\n",
    "m.drawcoastlines()\n",
    "m.drawmapboundary(zorder=0)\n",
    "m.fillcontinents(color='#ffffff',zorder=1)\n",
    "m.drawcountries(linewidth=1)\n",
    "m.drawstates()"
   ]
  },
  {
   "cell_type": "code",
   "execution_count": null,
   "metadata": {},
   "outputs": [],
   "source": []
  }
 ],
 "metadata": {
  "kernelspec": {
   "display_name": "Python 3.8.5 64-bit ('env': venv)",
   "name": "python385jvsc74a57bd04a89485c9fa54da4c77b5cf4efc6cdf3655d80b063f8257e65d9a52a94defee6"
  },
  "language_info": {
   "codemirror_mode": {
    "name": "ipython",
    "version": 3
   },
   "file_extension": ".py",
   "mimetype": "text/x-python",
   "name": "python",
   "nbconvert_exporter": "python",
   "pygments_lexer": "ipython3",
   "version": "3.8.5"
  },
  "metadata": {
   "interpreter": {
    "hash": "4a89485c9fa54da4c77b5cf4efc6cdf3655d80b063f8257e65d9a52a94defee6"
   }
  },
  "orig_nbformat": 2
 },
 "nbformat": 4,
 "nbformat_minor": 2
}