{
 "cells": [
  {
   "cell_type": "code",
   "execution_count": 8,
   "metadata": {},
   "outputs": [],
   "source": [
    "import pandas as pd\n",
    "import matplotlib.pyplot as plt\n",
    "from matplotlib.cm import ScalarMappable\n",
    "from mpl_toolkits.basemap import Basemap\n",
    "import matplotlib.animation as animation\n",
    "animation.writers.list()\n",
    "\n",
    "base_url = r'/home/amit/DataScienceProject/PredictDroughts/'"
   ]
  },
  {
   "cell_type": "code",
   "execution_count": 9,
   "metadata": {},
   "outputs": [
    {
     "data": {
      "text/html": "<div>\n<style scoped>\n    .dataframe tbody tr th:only-of-type {\n        vertical-align: middle;\n    }\n\n    .dataframe tbody tr th {\n        vertical-align: top;\n    }\n\n    .dataframe thead th {\n        text-align: right;\n    }\n</style>\n<table border=\"1\" class=\"dataframe\">\n  <thead>\n    <tr style=\"text-align: right;\">\n      <th></th>\n      <th>Week</th>\n      <th>State</th>\n      <th>Postal Code</th>\n      <th>Fips</th>\n      <th>Longitude</th>\n      <th>Latitude</th>\n      <th>PRECTOT</th>\n      <th>WS10M_MIN</th>\n      <th>QV2M</th>\n      <th>T2M_RANGE</th>\n      <th>...</th>\n      <th>WS50M_RANGE</th>\n      <th>WS50M_MAX</th>\n      <th>WS10M_MAX</th>\n      <th>WS10M_RANGE</th>\n      <th>PS</th>\n      <th>T2MDEW</th>\n      <th>T2M_MIN</th>\n      <th>T2MWET</th>\n      <th>Aland_SQMI</th>\n      <th>LEVEL</th>\n    </tr>\n  </thead>\n  <tbody>\n    <tr>\n      <th>0</th>\n      <td>2000-01-04</td>\n      <td>Alabama</td>\n      <td>AL</td>\n      <td>1</td>\n      <td>-86.902298</td>\n      <td>32.318231</td>\n      <td>12.35</td>\n      <td>2.14</td>\n      <td>6.84</td>\n      <td>15.39</td>\n      <td>...</td>\n      <td>5.24</td>\n      <td>8.80</td>\n      <td>5.44</td>\n      <td>3.30</td>\n      <td>100.72</td>\n      <td>6.95</td>\n      <td>2.85</td>\n      <td>6.97</td>\n      <td>31400.1046</td>\n      <td>1</td>\n    </tr>\n    <tr>\n      <th>1</th>\n      <td>2000-01-11</td>\n      <td>Alabama</td>\n      <td>AL</td>\n      <td>1</td>\n      <td>-86.902298</td>\n      <td>32.318231</td>\n      <td>0.97</td>\n      <td>1.18</td>\n      <td>7.09</td>\n      <td>13.70</td>\n      <td>...</td>\n      <td>4.09</td>\n      <td>6.18</td>\n      <td>2.51</td>\n      <td>1.33</td>\n      <td>100.83</td>\n      <td>8.89</td>\n      <td>5.91</td>\n      <td>8.89</td>\n      <td>31400.1046</td>\n      <td>1</td>\n    </tr>\n    <tr>\n      <th>2</th>\n      <td>2000-01-18</td>\n      <td>Alabama</td>\n      <td>AL</td>\n      <td>1</td>\n      <td>-86.902298</td>\n      <td>32.318231</td>\n      <td>1.80</td>\n      <td>1.59</td>\n      <td>9.91</td>\n      <td>6.50</td>\n      <td>...</td>\n      <td>2.75</td>\n      <td>6.29</td>\n      <td>3.87</td>\n      <td>2.28</td>\n      <td>100.82</td>\n      <td>13.94</td>\n      <td>11.96</td>\n      <td>13.94</td>\n      <td>31400.1046</td>\n      <td>1</td>\n    </tr>\n    <tr>\n      <th>3</th>\n      <td>2000-01-25</td>\n      <td>Alabama</td>\n      <td>AL</td>\n      <td>1</td>\n      <td>-86.902298</td>\n      <td>32.318231</td>\n      <td>0.00</td>\n      <td>2.20</td>\n      <td>2.15</td>\n      <td>10.89</td>\n      <td>...</td>\n      <td>3.71</td>\n      <td>7.61</td>\n      <td>4.35</td>\n      <td>2.16</td>\n      <td>100.53</td>\n      <td>-7.34</td>\n      <td>-4.39</td>\n      <td>-7.14</td>\n      <td>31400.1046</td>\n      <td>1</td>\n    </tr>\n    <tr>\n      <th>4</th>\n      <td>2000-02-01</td>\n      <td>Alabama</td>\n      <td>AL</td>\n      <td>1</td>\n      <td>-86.902298</td>\n      <td>32.318231</td>\n      <td>0.01</td>\n      <td>0.73</td>\n      <td>3.38</td>\n      <td>15.38</td>\n      <td>...</td>\n      <td>5.12</td>\n      <td>6.04</td>\n      <td>2.41</td>\n      <td>1.69</td>\n      <td>101.43</td>\n      <td>-1.58</td>\n      <td>-3.99</td>\n      <td>-1.55</td>\n      <td>31400.1046</td>\n      <td>1</td>\n    </tr>\n    <tr>\n      <th>...</th>\n      <td>...</td>\n      <td>...</td>\n      <td>...</td>\n      <td>...</td>\n      <td>...</td>\n      <td>...</td>\n      <td>...</td>\n      <td>...</td>\n      <td>...</td>\n      <td>...</td>\n      <td>...</td>\n      <td>...</td>\n      <td>...</td>\n      <td>...</td>\n      <td>...</td>\n      <td>...</td>\n      <td>...</td>\n      <td>...</td>\n      <td>...</td>\n      <td>...</td>\n      <td>...</td>\n    </tr>\n    <tr>\n      <th>56787</th>\n      <td>2021-05-11</td>\n      <td>Wyoming</td>\n      <td>WY</td>\n      <td>56</td>\n      <td>-107.290284</td>\n      <td>43.075968</td>\n      <td>0.70</td>\n      <td>2.00</td>\n      <td>3.90</td>\n      <td>10.46</td>\n      <td>...</td>\n      <td>4.09</td>\n      <td>7.08</td>\n      <td>6.11</td>\n      <td>4.11</td>\n      <td>81.57</td>\n      <td>-2.45</td>\n      <td>-2.92</td>\n      <td>0.02</td>\n      <td>60197.7468</td>\n      <td>2</td>\n    </tr>\n    <tr>\n      <th>56788</th>\n      <td>2021-05-18</td>\n      <td>Wyoming</td>\n      <td>WY</td>\n      <td>56</td>\n      <td>-107.290284</td>\n      <td>43.075968</td>\n      <td>0.00</td>\n      <td>0.47</td>\n      <td>6.54</td>\n      <td>17.38</td>\n      <td>...</td>\n      <td>6.01</td>\n      <td>6.73</td>\n      <td>3.36</td>\n      <td>2.89</td>\n      <td>80.75</td>\n      <td>4.49</td>\n      <td>6.61</td>\n      <td>10.45</td>\n      <td>60197.7468</td>\n      <td>1</td>\n    </tr>\n    <tr>\n      <th>56789</th>\n      <td>2021-05-25</td>\n      <td>Wyoming</td>\n      <td>WY</td>\n      <td>56</td>\n      <td>-107.290284</td>\n      <td>43.075968</td>\n      <td>0.11</td>\n      <td>0.95</td>\n      <td>5.07</td>\n      <td>16.60</td>\n      <td>...</td>\n      <td>7.49</td>\n      <td>9.18</td>\n      <td>6.45</td>\n      <td>5.50</td>\n      <td>81.35</td>\n      <td>1.03</td>\n      <td>3.02</td>\n      <td>6.50</td>\n      <td>60197.7468</td>\n      <td>1</td>\n    </tr>\n    <tr>\n      <th>56790</th>\n      <td>2021-06-01</td>\n      <td>Wyoming</td>\n      <td>WY</td>\n      <td>56</td>\n      <td>-107.290284</td>\n      <td>43.075968</td>\n      <td>1.19</td>\n      <td>1.75</td>\n      <td>7.33</td>\n      <td>12.02</td>\n      <td>...</td>\n      <td>3.61</td>\n      <td>6.54</td>\n      <td>4.33</td>\n      <td>2.58</td>\n      <td>81.70</td>\n      <td>6.35</td>\n      <td>9.74</td>\n      <td>11.27</td>\n      <td>60197.7468</td>\n      <td>1</td>\n    </tr>\n    <tr>\n      <th>56791</th>\n      <td>2021-06-15</td>\n      <td>Wyoming</td>\n      <td>WY</td>\n      <td>56</td>\n      <td>-107.290284</td>\n      <td>43.075968</td>\n      <td>0.00</td>\n      <td>2.45</td>\n      <td>5.70</td>\n      <td>20.28</td>\n      <td>...</td>\n      <td>5.38</td>\n      <td>9.27</td>\n      <td>7.68</td>\n      <td>5.22</td>\n      <td>81.58</td>\n      <td>2.68</td>\n      <td>14.46</td>\n      <td>13.91</td>\n      <td>60197.7468</td>\n      <td>2</td>\n    </tr>\n  </tbody>\n</table>\n<p>56792 rows × 26 columns</p>\n</div>",
      "text/plain": "             Week    State Postal Code  Fips   Longitude   Latitude  PRECTOT  \\\n0      2000-01-04  Alabama          AL     1  -86.902298  32.318231    12.35   \n1      2000-01-11  Alabama          AL     1  -86.902298  32.318231     0.97   \n2      2000-01-18  Alabama          AL     1  -86.902298  32.318231     1.80   \n3      2000-01-25  Alabama          AL     1  -86.902298  32.318231     0.00   \n4      2000-02-01  Alabama          AL     1  -86.902298  32.318231     0.01   \n...           ...      ...         ...   ...         ...        ...      ...   \n56787  2021-05-11  Wyoming          WY    56 -107.290284  43.075968     0.70   \n56788  2021-05-18  Wyoming          WY    56 -107.290284  43.075968     0.00   \n56789  2021-05-25  Wyoming          WY    56 -107.290284  43.075968     0.11   \n56790  2021-06-01  Wyoming          WY    56 -107.290284  43.075968     1.19   \n56791  2021-06-15  Wyoming          WY    56 -107.290284  43.075968     0.00   \n\n       WS10M_MIN  QV2M  T2M_RANGE  ...  WS50M_RANGE  WS50M_MAX  WS10M_MAX  \\\n0           2.14  6.84      15.39  ...         5.24       8.80       5.44   \n1           1.18  7.09      13.70  ...         4.09       6.18       2.51   \n2           1.59  9.91       6.50  ...         2.75       6.29       3.87   \n3           2.20  2.15      10.89  ...         3.71       7.61       4.35   \n4           0.73  3.38      15.38  ...         5.12       6.04       2.41   \n...          ...   ...        ...  ...          ...        ...        ...   \n56787       2.00  3.90      10.46  ...         4.09       7.08       6.11   \n56788       0.47  6.54      17.38  ...         6.01       6.73       3.36   \n56789       0.95  5.07      16.60  ...         7.49       9.18       6.45   \n56790       1.75  7.33      12.02  ...         3.61       6.54       4.33   \n56791       2.45  5.70      20.28  ...         5.38       9.27       7.68   \n\n       WS10M_RANGE      PS  T2MDEW  T2M_MIN  T2MWET  Aland_SQMI  LEVEL  \n0             3.30  100.72    6.95     2.85    6.97  31400.1046      1  \n1             1.33  100.83    8.89     5.91    8.89  31400.1046      1  \n2             2.28  100.82   13.94    11.96   13.94  31400.1046      1  \n3             2.16  100.53   -7.34    -4.39   -7.14  31400.1046      1  \n4             1.69  101.43   -1.58    -3.99   -1.55  31400.1046      1  \n...            ...     ...     ...      ...     ...         ...    ...  \n56787         4.11   81.57   -2.45    -2.92    0.02  60197.7468      2  \n56788         2.89   80.75    4.49     6.61   10.45  60197.7468      1  \n56789         5.50   81.35    1.03     3.02    6.50  60197.7468      1  \n56790         2.58   81.70    6.35     9.74   11.27  60197.7468      1  \n56791         5.22   81.58    2.68    14.46   13.91  60197.7468      2  \n\n[56792 rows x 26 columns]"
     },
     "execution_count": 9,
     "metadata": {},
     "output_type": "execute_result"
    }
   ],
   "source": [
    "df = pd.read_csv(base_url + 'files/merge.csv', index_col=0, encoding=\"ISO-8859-1\")\n",
    "df"
   ]
  },
  {
   "cell_type": "code",
   "execution_count": 10,
   "metadata": {},
   "outputs": [],
   "source": [
    "df_state = df.copy()\n",
    "df_state = df_state[['Fips', 'Aland_SQMI', 'Longitude', 'Latitude']]\n",
    "df_state"
   ]
  },
  {
   "cell_type": "code",
   "execution_count": 1,
   "metadata": {},
   "outputs": [
    {
     "ename": "NameError",
     "evalue": "name 'pd' is not defined",
     "output_type": "error",
     "traceback": [
      "\u001b[0;31m---------------------------------------------------------------------------\u001b[0m",
      "\u001b[0;31mNameError\u001b[0m                                 Traceback (most recent call last)",
      "\u001b[0;32m<ipython-input-1-9757115792e0>\u001b[0m in \u001b[0;36m<module>\u001b[0;34m\u001b[0m\n\u001b[0;32m----> 1\u001b[0;31m \u001b[0mdf_drought\u001b[0m \u001b[0;34m=\u001b[0m \u001b[0mpd\u001b[0m\u001b[0;34m.\u001b[0m\u001b[0mread_csv\u001b[0m\u001b[0;34m(\u001b[0m\u001b[0mbase_url\u001b[0m \u001b[0;34m+\u001b[0m \u001b[0;34m'files/drought.csv'\u001b[0m\u001b[0;34m,\u001b[0m \u001b[0mindex_col\u001b[0m\u001b[0;34m=\u001b[0m\u001b[0;36m0\u001b[0m\u001b[0;34m)\u001b[0m\u001b[0;34m\u001b[0m\u001b[0;34m\u001b[0m\u001b[0m\n\u001b[0m\u001b[1;32m      2\u001b[0m \u001b[0mdf_drought\u001b[0m\u001b[0;34m[\u001b[0m\u001b[0;34m'Week'\u001b[0m\u001b[0;34m]\u001b[0m \u001b[0;34m=\u001b[0m \u001b[0mpd\u001b[0m\u001b[0;34m.\u001b[0m\u001b[0mto_datetime\u001b[0m\u001b[0;34m(\u001b[0m\u001b[0mdf_drought\u001b[0m\u001b[0;34m[\u001b[0m\u001b[0;34m'Week'\u001b[0m\u001b[0;34m]\u001b[0m\u001b[0;34m,\u001b[0m \u001b[0mformat\u001b[0m\u001b[0;34m=\u001b[0m\u001b[0;34m'%Y-%m-%d'\u001b[0m\u001b[0;34m)\u001b[0m\u001b[0;34m\u001b[0m\u001b[0;34m\u001b[0m\u001b[0m\n\u001b[1;32m      3\u001b[0m \u001b[0mdf_drought\u001b[0m\u001b[0;34m.\u001b[0m\u001b[0mdrop\u001b[0m\u001b[0;34m(\u001b[0m\u001b[0mcolumns\u001b[0m\u001b[0;34m=\u001b[0m\u001b[0;34m[\u001b[0m\u001b[0;34m'State'\u001b[0m\u001b[0;34m]\u001b[0m\u001b[0;34m,\u001b[0m \u001b[0maxis\u001b[0m\u001b[0;34m=\u001b[0m\u001b[0;36m1\u001b[0m\u001b[0;34m,\u001b[0m \u001b[0minplace\u001b[0m\u001b[0;34m=\u001b[0m\u001b[0;32mTrue\u001b[0m\u001b[0;34m)\u001b[0m\u001b[0;34m\u001b[0m\u001b[0;34m\u001b[0m\u001b[0m\n\u001b[1;32m      4\u001b[0m \u001b[0mdf_drought\u001b[0m \u001b[0;34m=\u001b[0m \u001b[0mdf_drought\u001b[0m\u001b[0;34m.\u001b[0m\u001b[0mset_index\u001b[0m\u001b[0;34m(\u001b[0m\u001b[0;34m'Week'\u001b[0m\u001b[0;34m)\u001b[0m\u001b[0;34m.\u001b[0m\u001b[0mgroupby\u001b[0m\u001b[0;34m(\u001b[0m\u001b[0;34m[\u001b[0m\u001b[0;34m'Fips'\u001b[0m\u001b[0;34m]\u001b[0m\u001b[0;34m)\u001b[0m\u001b[0;34m.\u001b[0m\u001b[0mresample\u001b[0m\u001b[0;34m(\u001b[0m\u001b[0;34m'M'\u001b[0m\u001b[0;34m)\u001b[0m\u001b[0;34m.\u001b[0m\u001b[0mmean\u001b[0m\u001b[0;34m(\u001b[0m\u001b[0;34m)\u001b[0m\u001b[0;34m.\u001b[0m\u001b[0mreset_index\u001b[0m\u001b[0;34m(\u001b[0m\u001b[0mlevel\u001b[0m\u001b[0;34m=\u001b[0m\u001b[0;36m1\u001b[0m\u001b[0;34m)\u001b[0m\u001b[0;34m\u001b[0m\u001b[0;34m\u001b[0m\u001b[0m\n\u001b[1;32m      5\u001b[0m \u001b[0mdf_drought\u001b[0m \u001b[0;34m=\u001b[0m \u001b[0mdf_drought\u001b[0m\u001b[0;34m.\u001b[0m\u001b[0mrename_axis\u001b[0m\u001b[0;34m(\u001b[0m\u001b[0;32mNone\u001b[0m\u001b[0;34m)\u001b[0m\u001b[0;34m\u001b[0m\u001b[0;34m\u001b[0m\u001b[0m\n",
      "\u001b[0;31mNameError\u001b[0m: name 'pd' is not defined"
     ]
    }
   ],
   "source": [
    "df_drought = pd.read_csv(base_url + 'files/drought.csv', index_col=0)\n",
    "df_drought['Week'] = pd.to_datetime(df_drought['Week'], format='%Y-%m-%d')\n",
    "df_drought.drop(columns=['State'], axis=1, inplace=True)\n",
    "df_drought = df_drought.set_index('Week').groupby(['Fips']).resample('M').mean().reset_index(level=1)\n",
    "df_drought = df_drought.rename_axis(None)\n",
    "df_drought"
   ]
  },
  {
   "cell_type": "code",
   "execution_count": 2,
   "metadata": {},
   "outputs": [
    {
     "ename": "NameError",
     "evalue": "name 'pd' is not defined",
     "output_type": "error",
     "traceback": [
      "\u001b[0;31m---------------------------------------------------------------------------\u001b[0m",
      "\u001b[0;31mNameError\u001b[0m                                 Traceback (most recent call last)",
      "\u001b[0;32m<ipython-input-2-53a459607e71>\u001b[0m in \u001b[0;36m<module>\u001b[0;34m\u001b[0m\n\u001b[0;32m----> 1\u001b[0;31m \u001b[0mdr_final\u001b[0m \u001b[0;34m=\u001b[0m \u001b[0mpd\u001b[0m\u001b[0;34m.\u001b[0m\u001b[0mmerge\u001b[0m\u001b[0;34m(\u001b[0m\u001b[0mdf_drought\u001b[0m\u001b[0;34m,\u001b[0m \u001b[0mdf_state\u001b[0m\u001b[0;34m,\u001b[0m \u001b[0mleft_on\u001b[0m\u001b[0;34m=\u001b[0m\u001b[0;34m'Fips'\u001b[0m\u001b[0;34m,\u001b[0m \u001b[0mright_on\u001b[0m\u001b[0;34m=\u001b[0m\u001b[0;34m'Fips'\u001b[0m\u001b[0;34m,\u001b[0m \u001b[0mhow\u001b[0m\u001b[0;34m=\u001b[0m\u001b[0;34m'inner'\u001b[0m\u001b[0;34m,\u001b[0m \u001b[0msort\u001b[0m\u001b[0;34m=\u001b[0m\u001b[0;34m'False'\u001b[0m\u001b[0;34m)\u001b[0m\u001b[0;34m\u001b[0m\u001b[0;34m\u001b[0m\u001b[0m\n\u001b[0m\u001b[1;32m      2\u001b[0m \u001b[0mdr_final\u001b[0m \u001b[0;34m=\u001b[0m \u001b[0mdr_final\u001b[0m\u001b[0;34m[\u001b[0m\u001b[0;34m[\u001b[0m\u001b[0;34m'Fips'\u001b[0m\u001b[0;34m,\u001b[0m \u001b[0;34m'Week'\u001b[0m\u001b[0;34m,\u001b[0m \u001b[0;34m'Aland_SQMI'\u001b[0m\u001b[0;34m,\u001b[0m \u001b[0;34m'LEVEL'\u001b[0m\u001b[0;34m,\u001b[0m \u001b[0;34m'Longitude'\u001b[0m\u001b[0;34m,\u001b[0m \u001b[0;34m'Latitude'\u001b[0m\u001b[0;34m]\u001b[0m\u001b[0;34m]\u001b[0m\u001b[0;34m\u001b[0m\u001b[0;34m\u001b[0m\u001b[0m\n\u001b[1;32m      3\u001b[0m \u001b[0mdr_final\u001b[0m \u001b[0;34m=\u001b[0m \u001b[0mdr_final\u001b[0m\u001b[0;34m.\u001b[0m\u001b[0msort_values\u001b[0m\u001b[0;34m(\u001b[0m\u001b[0;34m'Week'\u001b[0m\u001b[0;34m)\u001b[0m\u001b[0;34m.\u001b[0m\u001b[0mreset_index\u001b[0m\u001b[0;34m(\u001b[0m\u001b[0mdrop\u001b[0m\u001b[0;34m=\u001b[0m\u001b[0;32mTrue\u001b[0m\u001b[0;34m)\u001b[0m\u001b[0;34m\u001b[0m\u001b[0;34m\u001b[0m\u001b[0m\n\u001b[1;32m      4\u001b[0m \u001b[0mdr_final\u001b[0m \u001b[0;34m=\u001b[0m \u001b[0mdr_final\u001b[0m\u001b[0;34m.\u001b[0m\u001b[0mgroupby\u001b[0m\u001b[0;34m(\u001b[0m\u001b[0;34m'Fips'\u001b[0m\u001b[0;34m)\u001b[0m\u001b[0;34m\u001b[0m\u001b[0;34m\u001b[0m\u001b[0m\n\u001b[1;32m      5\u001b[0m \u001b[0mdr_final\u001b[0m\u001b[0;34m\u001b[0m\u001b[0;34m\u001b[0m\u001b[0m\n",
      "\u001b[0;31mNameError\u001b[0m: name 'pd' is not defined"
     ]
    }
   ],
   "source": [
    "dr_final = pd.merge(df_drought, df_state, left_on='Fips', right_on='Fips', how='inner', sort='False')\n",
    "dr_final = dr_final[['Fips', 'Week', 'Aland_SQMI', 'LEVEL', 'Longitude', 'Latitude']]\n",
    "dr_final = dr_final.sort_values('Week').reset_index(drop=True)\n",
    "dr_final = dr_final.groupby('Fips')\n",
    "dr_final"
   ]
  },
  {
   "cell_type": "code",
   "execution_count": 13,
   "metadata": {},
   "outputs": [],
   "source": [
    "\n",
    "fig = plt.figure(figsize=(16,8))\n",
    "ax = fig.add_subplot(111)\n",
    "m = Basemap(llcrnrlon=-119, llcrnrlat=22, urcrnrlon=-64, urcrnrlat=49, projection='lcc', lat_1=33, lat_2=45, lon_0=-95)\n",
    "m.drawcoastlines()\n",
    "m.drawmapboundary(zorder=0)\n",
    "m.fillcontinents(color='#ffffff',zorder=1)\n",
    "m.drawcountries(linewidth=1)\n",
    "m.drawstates()\n",
    "\n",
    "x, y = m(dr_final.nth(0).Longitude.tolist(), dr_final.nth(0).Latitude.tolist())\n",
    "colors = (dr_final.nth(0).LEVEL).tolist()\n",
    "sizes = (dr_final.nth(0).Aland_SQMI / 7.5).tolist()\n",
    "cmap = plt.cm.YlOrRd\n",
    "sm = ScalarMappable(cmap=cmap)\n",
    "plt.title('US Drought Level (Year-Month): ' + dr_final.nth(0).Week.iloc[0].strftime('%Y-%m'))\n",
    "\n",
    "scatter = ax.scatter(x,y,s=sizes,c=colors,cmap=cmap,alpha=1,edgecolors='face',marker='H',vmax=5,vmin=0,zorder=1.5)\n",
    "plt.colorbar(scatter)\n",
    "\n",
    "def update(ii):\n",
    "    colors = (dr_final.nth(ii).LEVEL).tolist()\n",
    "    scatter.set_color(sm.to_rgba(colors))\n",
    "    plt.title('US Drought Level (Year-Month): ' + dr_final.nth(ii).Week.iloc[0].strftime('%Y-%m'))\n",
    "    return scatter, \n",
    "\n",
    "writergif = animation.FFMpegWriter(fps=30) \n",
    "anim = animation.FuncAnimation(plt.gcf(), update, interval=200, repeat=False, frames=203, blit=True, save_count=1500)\n",
    "anim.save('Heatmap_animation_US_Drought.mp4', writer=writergif) "
   ]
  }
 ],
 "metadata": {
  "kernelspec": {
   "display_name": "Python 3.8.5 64-bit ('env': venv)",
   "name": "python385jvsc74a57bd04a89485c9fa54da4c77b5cf4efc6cdf3655d80b063f8257e65d9a52a94defee6"
  },
  "language_info": {
   "codemirror_mode": {
    "name": "ipython",
    "version": 3
   },
   "file_extension": ".py",
   "mimetype": "text/x-python",
   "name": "python",
   "nbconvert_exporter": "python",
   "pygments_lexer": "ipython3",
   "version": "3.8.5"
  },
  "metadata": {
   "interpreter": {
    "hash": "4a89485c9fa54da4c77b5cf4efc6cdf3655d80b063f8257e65d9a52a94defee6"
   }
  },
  "orig_nbformat": 2
 },
 "nbformat": 4,
 "nbformat_minor": 2
}