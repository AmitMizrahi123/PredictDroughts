{
 "cells": [
  {
   "cell_type": "code",
   "execution_count": 1,
   "metadata": {},
   "outputs": [],
   "source": [
    "import json, requests\n",
    "import pandas as pd\n",
    "from bs4 import BeautifulSoup\n",
    "\n",
    "base_url = r'/home/amit/DataScienceProject/PredictDroughts/'"
   ]
  },
  {
   "cell_type": "code",
   "execution_count": 2,
   "metadata": {},
   "outputs": [
    {
     "data": {
      "text/plain": "'20210615'"
     },
     "execution_count": 2,
     "metadata": {},
     "output_type": "execute_result"
    }
   ],
   "source": [
    "def returnLastWeekDate():\n",
    "    df = pd.read_csv(base_url + 'files/drought.csv')\n",
    "    weekLines = len(df.loc[df['State'] == 'Alabama'])\n",
    "    return df['Week'][weekLines - 1]\n",
    "\n",
    "lastWeekDate = returnLastWeekDate()\n",
    "lastWeekDate = lastWeekDate.replace('-', '')\n",
    "lastWeekDate"
   ]
  },
  {
   "cell_type": "code",
   "execution_count": 3,
   "metadata": {},
   "outputs": [],
   "source": [
    "def getLonAndLat():\n",
    "    url = r'https://developers.google.com/public-data/docs/canonical/states_csv'\n",
    "    response = requests.get(url)\n",
    "    soup = BeautifulSoup(response.content, 'html.parser')\n",
    "    div = soup.find('table')\n",
    "    table = pd.read_html(str(div))[0]\n",
    "    table.sort_values('name', ascending=True, inplace=True)\n",
    "    lon = table['longitude'].to_list()\n",
    "    lat = table['latitude'].to_list()\n",
    "    return lon, lat\n",
    "\n",
    "lon, lat = getLonAndLat()\n",
    "locations = list(zip(lat, lon))"
   ]
  },
  {
   "cell_type": "code",
   "execution_count": 4,
   "metadata": {},
   "outputs": [],
   "source": [
    "URL = r\"https://power.larc.nasa.gov/cgi-bin/v1/DataAccess.py?request=execute&identifier=SinglePoint&tempAverage=DAILY&parameters=WS10M_MIN,QV2M,T2M_RANGE,WS10M,T2M,WS50M_MIN,T2M_MAX,WS50M,TS,WS50M_RANGE,WS50M_MAX,WS10M_MAX,WS10M_RANGE,PS,T2MDEW,T2M_MIN,T2MWET,PRECTOT&startDate=20000104&endDate={lastWeekDate}&lat={latitude}&lon={longitude}&outputList={output}&userCommunity=SSE\"\n",
    "\n",
    "dfList = []\n",
    "\n",
    "for latitude, longitude in locations:\n",
    "    TIME = []\n",
    "    LON = []\n",
    "    LAT = []\n",
    "    WS10M_MIN = []\n",
    "    QV2M = []\n",
    "    T2M_RANGE = []\n",
    "    WS10M = []\n",
    "    T2M = []\n",
    "    WS50M_MIN = []\n",
    "    T2M_MAX = []\n",
    "    WS50M = []\n",
    "    TS = []\n",
    "    WS50M_RANGE = []\n",
    "    WS50M_MAX = []\n",
    "    WS10M_MAX = []\n",
    "    WS10M_RANGE = []\n",
    "    PS = []\n",
    "    T2MDEW = []\n",
    "    T2M_MIN = []\n",
    "    T2MWET = []\n",
    "    PRECTOT = []\n",
    "\n",
    "    api_request_url = URL.format(lastWeekDate=lastWeekDate, longitude=longitude, latitude=latitude, output=\"JSON\")\n",
    "    json_response = json.loads(requests.get(api_request_url).content)\n",
    "    params = json_response['features'][0]['properties']['parameter']\n",
    "\n",
    "    for index, date in enumerate(params['PRECTOT'].keys()):\n",
    "        date = str(date)\n",
    "        if index % 7 == 0:\n",
    "            TIME.append(date)\n",
    "            LON.append(longitude)\n",
    "            LAT.append(latitude)\n",
    "            PRECTOT.append(params['PRECTOT'][date])\n",
    "            WS10M_MIN.append(params['WS10M_MIN'][date])\n",
    "            QV2M.append(params['QV2M'][date])\n",
    "            T2M_RANGE.append(params['T2M_RANGE'][date])\n",
    "            WS10M.append(params['WS10M'][date])\n",
    "            T2M.append(params['T2M'][date])\n",
    "            WS50M_MIN.append(params['WS50M_MIN'][date])\n",
    "            T2M_MAX.append(params['T2M_MAX'][date])\n",
    "            WS50M.append(params['WS50M'][date])\n",
    "            TS.append(params['TS'][date])\n",
    "            WS50M_RANGE.append(params['WS50M_RANGE'][date])\n",
    "            WS50M_MAX.append(params['WS50M_MAX'][date])\n",
    "            WS10M_MAX.append(params['WS10M_MAX'][date])\n",
    "            WS10M_RANGE.append(params['WS10M_RANGE'][date])\n",
    "            PS.append(params['PS'][date])\n",
    "            T2MDEW.append(params['T2MDEW'][date])\n",
    "            T2M_MIN.append(params['T2M_MIN'][date])\n",
    "            T2MWET.append(params['T2MWET'][date])\n",
    "            \n",
    "        if date == lastWeekDate:\n",
    "            index = 0\n",
    "\n",
    "    data = {\n",
    "        'week': TIME,\n",
    "        'Longitude': LON,\n",
    "        'Latitude': LAT,\n",
    "        'PRECTOT': PRECTOT,\n",
    "        'WS10M_MIN': WS10M_MIN,\n",
    "        'QV2M': QV2M,\n",
    "        'T2M_RANGE': T2M_RANGE,\n",
    "        'WS10M': WS10M,\n",
    "        'T2M': T2M,\n",
    "        'WS50M_MIN': WS50M_MIN,\n",
    "        'T2M_MAX': T2M_MAX,\n",
    "        'WS50M': WS50M,\n",
    "        'TS': TS,\n",
    "        'WS50M_RANGE': WS50M_RANGE,\n",
    "        'WS50M_MAX': WS50M_MAX,\n",
    "        'WS10M_MAX': WS10M_MAX,\n",
    "        'WS10M_RANGE': WS10M_RANGE,\n",
    "        'PS': PS,\n",
    "        'T2MDEW': T2MDEW,\n",
    "        'T2M_MIN': T2M_MIN,\n",
    "        'T2MWET': T2MWET\n",
    "    }\n",
    "\n",
    "    df = pd.DataFrame(data)\n",
    "    dfList.append(df)"
   ]
  },
  {
   "cell_type": "code",
   "execution_count": 5,
   "metadata": {},
   "outputs": [
    {
     "data": {
      "text/html": "<div>\n<style scoped>\n    .dataframe tbody tr th:only-of-type {\n        vertical-align: middle;\n    }\n\n    .dataframe tbody tr th {\n        vertical-align: top;\n    }\n\n    .dataframe thead th {\n        text-align: right;\n    }\n</style>\n<table border=\"1\" class=\"dataframe\">\n  <thead>\n    <tr style=\"text-align: right;\">\n      <th></th>\n      <th>week</th>\n      <th>Longitude</th>\n      <th>Latitude</th>\n      <th>PRECTOT</th>\n      <th>WS10M_MIN</th>\n      <th>QV2M</th>\n      <th>T2M_RANGE</th>\n      <th>WS10M</th>\n      <th>T2M</th>\n      <th>WS50M_MIN</th>\n      <th>...</th>\n      <th>WS50M</th>\n      <th>TS</th>\n      <th>WS50M_RANGE</th>\n      <th>WS50M_MAX</th>\n      <th>WS10M_MAX</th>\n      <th>WS10M_RANGE</th>\n      <th>PS</th>\n      <th>T2MDEW</th>\n      <th>T2M_MIN</th>\n      <th>T2MWET</th>\n    </tr>\n  </thead>\n  <tbody>\n    <tr>\n      <th>0</th>\n      <td>20000104</td>\n      <td>-86.902298</td>\n      <td>32.318231</td>\n      <td>12.35</td>\n      <td>2.14</td>\n      <td>6.84</td>\n      <td>15.39</td>\n      <td>3.80</td>\n      <td>12.27</td>\n      <td>3.55</td>\n      <td>...</td>\n      <td>6.75</td>\n      <td>12.18</td>\n      <td>5.24</td>\n      <td>8.80</td>\n      <td>5.44</td>\n      <td>3.30</td>\n      <td>100.72</td>\n      <td>6.95</td>\n      <td>2.85</td>\n      <td>6.97</td>\n    </tr>\n    <tr>\n      <th>1</th>\n      <td>20000111</td>\n      <td>-86.902298</td>\n      <td>32.318231</td>\n      <td>0.97</td>\n      <td>1.18</td>\n      <td>7.09</td>\n      <td>13.70</td>\n      <td>1.92</td>\n      <td>11.76</td>\n      <td>2.08</td>\n      <td>...</td>\n      <td>4.03</td>\n      <td>11.15</td>\n      <td>4.09</td>\n      <td>6.18</td>\n      <td>2.51</td>\n      <td>1.33</td>\n      <td>100.83</td>\n      <td>8.89</td>\n      <td>5.91</td>\n      <td>8.89</td>\n    </tr>\n    <tr>\n      <th>2</th>\n      <td>20000118</td>\n      <td>-86.902298</td>\n      <td>32.318231</td>\n      <td>1.80</td>\n      <td>1.59</td>\n      <td>9.91</td>\n      <td>6.50</td>\n      <td>2.54</td>\n      <td>15.00</td>\n      <td>3.54</td>\n      <td>...</td>\n      <td>5.14</td>\n      <td>14.94</td>\n      <td>2.75</td>\n      <td>6.29</td>\n      <td>3.87</td>\n      <td>2.28</td>\n      <td>100.82</td>\n      <td>13.94</td>\n      <td>11.96</td>\n      <td>13.94</td>\n    </tr>\n    <tr>\n      <th>3</th>\n      <td>20000125</td>\n      <td>-86.902298</td>\n      <td>32.318231</td>\n      <td>0.00</td>\n      <td>2.20</td>\n      <td>2.15</td>\n      <td>10.89</td>\n      <td>3.18</td>\n      <td>0.11</td>\n      <td>3.89</td>\n      <td>...</td>\n      <td>5.58</td>\n      <td>0.24</td>\n      <td>3.71</td>\n      <td>7.61</td>\n      <td>4.35</td>\n      <td>2.16</td>\n      <td>100.53</td>\n      <td>-7.34</td>\n      <td>-4.39</td>\n      <td>-7.14</td>\n    </tr>\n    <tr>\n      <th>4</th>\n      <td>20000201</td>\n      <td>-86.902298</td>\n      <td>32.318231</td>\n      <td>0.01</td>\n      <td>0.73</td>\n      <td>3.38</td>\n      <td>15.38</td>\n      <td>1.89</td>\n      <td>2.35</td>\n      <td>0.92</td>\n      <td>...</td>\n      <td>3.91</td>\n      <td>2.15</td>\n      <td>5.12</td>\n      <td>6.04</td>\n      <td>2.41</td>\n      <td>1.69</td>\n      <td>101.43</td>\n      <td>-1.58</td>\n      <td>-3.99</td>\n      <td>-1.55</td>\n    </tr>\n    <tr>\n      <th>...</th>\n      <td>...</td>\n      <td>...</td>\n      <td>...</td>\n      <td>...</td>\n      <td>...</td>\n      <td>...</td>\n      <td>...</td>\n      <td>...</td>\n      <td>...</td>\n      <td>...</td>\n      <td>...</td>\n      <td>...</td>\n      <td>...</td>\n      <td>...</td>\n      <td>...</td>\n      <td>...</td>\n      <td>...</td>\n      <td>...</td>\n      <td>...</td>\n      <td>...</td>\n      <td>...</td>\n    </tr>\n    <tr>\n      <th>58235</th>\n      <td>20210518</td>\n      <td>-107.290284</td>\n      <td>43.075968</td>\n      <td>0.00</td>\n      <td>0.47</td>\n      <td>6.54</td>\n      <td>17.38</td>\n      <td>2.39</td>\n      <td>16.42</td>\n      <td>0.72</td>\n      <td>...</td>\n      <td>3.57</td>\n      <td>17.56</td>\n      <td>6.01</td>\n      <td>6.73</td>\n      <td>3.36</td>\n      <td>2.89</td>\n      <td>80.75</td>\n      <td>4.49</td>\n      <td>6.61</td>\n      <td>10.45</td>\n    </tr>\n    <tr>\n      <th>58236</th>\n      <td>20210525</td>\n      <td>-107.290284</td>\n      <td>43.075968</td>\n      <td>0.11</td>\n      <td>0.95</td>\n      <td>5.07</td>\n      <td>16.60</td>\n      <td>4.37</td>\n      <td>11.96</td>\n      <td>1.69</td>\n      <td>...</td>\n      <td>5.89</td>\n      <td>13.43</td>\n      <td>7.49</td>\n      <td>9.18</td>\n      <td>6.45</td>\n      <td>5.50</td>\n      <td>81.35</td>\n      <td>1.03</td>\n      <td>3.02</td>\n      <td>6.50</td>\n    </tr>\n    <tr>\n      <th>58237</th>\n      <td>20210601</td>\n      <td>-107.290284</td>\n      <td>43.075968</td>\n      <td>1.19</td>\n      <td>1.75</td>\n      <td>7.33</td>\n      <td>12.02</td>\n      <td>3.18</td>\n      <td>16.19</td>\n      <td>2.93</td>\n      <td>...</td>\n      <td>4.55</td>\n      <td>17.39</td>\n      <td>3.61</td>\n      <td>6.54</td>\n      <td>4.33</td>\n      <td>2.58</td>\n      <td>81.70</td>\n      <td>6.35</td>\n      <td>9.74</td>\n      <td>11.27</td>\n    </tr>\n    <tr>\n      <th>58238</th>\n      <td>20210608</td>\n      <td>-107.290284</td>\n      <td>43.075968</td>\n      <td>0.00</td>\n      <td>0.49</td>\n      <td>6.30</td>\n      <td>17.62</td>\n      <td>4.97</td>\n      <td>20.90</td>\n      <td>1.54</td>\n      <td>...</td>\n      <td>6.99</td>\n      <td>21.32</td>\n      <td>13.17</td>\n      <td>14.71</td>\n      <td>11.86</td>\n      <td>11.36</td>\n      <td>80.92</td>\n      <td>3.91</td>\n      <td>12.01</td>\n      <td>12.41</td>\n    </tr>\n    <tr>\n      <th>58239</th>\n      <td>20210615</td>\n      <td>-107.290284</td>\n      <td>43.075968</td>\n      <td>0.00</td>\n      <td>2.45</td>\n      <td>5.70</td>\n      <td>20.28</td>\n      <td>4.39</td>\n      <td>25.14</td>\n      <td>3.89</td>\n      <td>...</td>\n      <td>6.24</td>\n      <td>24.76</td>\n      <td>5.38</td>\n      <td>9.27</td>\n      <td>7.68</td>\n      <td>5.22</td>\n      <td>81.58</td>\n      <td>2.68</td>\n      <td>14.46</td>\n      <td>13.91</td>\n    </tr>\n  </tbody>\n</table>\n<p>58240 rows × 21 columns</p>\n</div>",
      "text/plain": "           week   Longitude   Latitude  PRECTOT  WS10M_MIN  QV2M  T2M_RANGE  \\\n0      20000104  -86.902298  32.318231    12.35       2.14  6.84      15.39   \n1      20000111  -86.902298  32.318231     0.97       1.18  7.09      13.70   \n2      20000118  -86.902298  32.318231     1.80       1.59  9.91       6.50   \n3      20000125  -86.902298  32.318231     0.00       2.20  2.15      10.89   \n4      20000201  -86.902298  32.318231     0.01       0.73  3.38      15.38   \n...         ...         ...        ...      ...        ...   ...        ...   \n58235  20210518 -107.290284  43.075968     0.00       0.47  6.54      17.38   \n58236  20210525 -107.290284  43.075968     0.11       0.95  5.07      16.60   \n58237  20210601 -107.290284  43.075968     1.19       1.75  7.33      12.02   \n58238  20210608 -107.290284  43.075968     0.00       0.49  6.30      17.62   \n58239  20210615 -107.290284  43.075968     0.00       2.45  5.70      20.28   \n\n       WS10M    T2M  WS50M_MIN  ...  WS50M     TS  WS50M_RANGE  WS50M_MAX  \\\n0       3.80  12.27       3.55  ...   6.75  12.18         5.24       8.80   \n1       1.92  11.76       2.08  ...   4.03  11.15         4.09       6.18   \n2       2.54  15.00       3.54  ...   5.14  14.94         2.75       6.29   \n3       3.18   0.11       3.89  ...   5.58   0.24         3.71       7.61   \n4       1.89   2.35       0.92  ...   3.91   2.15         5.12       6.04   \n...      ...    ...        ...  ...    ...    ...          ...        ...   \n58235   2.39  16.42       0.72  ...   3.57  17.56         6.01       6.73   \n58236   4.37  11.96       1.69  ...   5.89  13.43         7.49       9.18   \n58237   3.18  16.19       2.93  ...   4.55  17.39         3.61       6.54   \n58238   4.97  20.90       1.54  ...   6.99  21.32        13.17      14.71   \n58239   4.39  25.14       3.89  ...   6.24  24.76         5.38       9.27   \n\n       WS10M_MAX  WS10M_RANGE      PS  T2MDEW  T2M_MIN  T2MWET  \n0           5.44         3.30  100.72    6.95     2.85    6.97  \n1           2.51         1.33  100.83    8.89     5.91    8.89  \n2           3.87         2.28  100.82   13.94    11.96   13.94  \n3           4.35         2.16  100.53   -7.34    -4.39   -7.14  \n4           2.41         1.69  101.43   -1.58    -3.99   -1.55  \n...          ...          ...     ...     ...      ...     ...  \n58235       3.36         2.89   80.75    4.49     6.61   10.45  \n58236       6.45         5.50   81.35    1.03     3.02    6.50  \n58237       4.33         2.58   81.70    6.35     9.74   11.27  \n58238      11.86        11.36   80.92    3.91    12.01   12.41  \n58239       7.68         5.22   81.58    2.68    14.46   13.91  \n\n[58240 rows x 21 columns]"
     },
     "execution_count": 5,
     "metadata": {},
     "output_type": "execute_result"
    }
   ],
   "source": [
    "dataframe = pd.DataFrame()\n",
    "for df in dfList:\n",
    "    dataframe = dataframe.append(df)\n",
    "dataframe.reset_index(drop=True, inplace=True)\n",
    "dataframe"
   ]
  },
  {
   "cell_type": "code",
   "execution_count": 6,
   "metadata": {},
   "outputs": [],
   "source": [
    "dataframe.to_csv(base_url + 'files/meteorological.csv')"
   ]
  },
  {
   "cell_type": "code",
   "execution_count": null,
   "metadata": {},
   "outputs": [],
   "source": []
  }
 ],
 "metadata": {
  "kernelspec": {
   "display_name": "Python 3.8.5 64-bit ('env': venv)",
   "name": "python385jvsc74a57bd04a89485c9fa54da4c77b5cf4efc6cdf3655d80b063f8257e65d9a52a94defee6"
  },
  "language_info": {
   "codemirror_mode": {
    "name": "ipython",
    "version": 3
   },
   "file_extension": ".py",
   "mimetype": "text/x-python",
   "name": "python",
   "nbconvert_exporter": "python",
   "pygments_lexer": "ipython3",
   "version": "3.8.5"
  },
  "metadata": {
   "interpreter": {
    "hash": "4a89485c9fa54da4c77b5cf4efc6cdf3655d80b063f8257e65d9a52a94defee6"
   }
  },
  "orig_nbformat": 2
 },
 "nbformat": 4,
 "nbformat_minor": 2
}