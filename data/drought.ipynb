{
 "cells": [
  {
   "cell_type": "code",
   "execution_count": 23,
   "metadata": {},
   "outputs": [],
   "source": [
    "import pandas as pd\n",
    "from selenium import webdriver\n",
    "import time\n",
    "from bs4 import BeautifulSoup\n",
    "\n",
    "base_url = r'/home/amit/DataScienceProject/PredictDroughts/'"
   ]
  },
  {
   "cell_type": "code",
   "execution_count": 24,
   "metadata": {},
   "outputs": [],
   "source": [
    "class Droughts:\n",
    "    states = None\n",
    "    url = None\n",
    "    iterState = None\n",
    "\n",
    "    def __init__(self, url):\n",
    "        self.url = url\n",
    "        self.setUp(self.url)\n",
    "\n",
    "    def __del__(self):\n",
    "        self.driver.quit()\n",
    "\n",
    "    def setUp(self, url):\n",
    "        self.driver = webdriver.Firefox(executable_path=base_url + \"geckodriver\")\n",
    "        self.driver.get(self.url)\n",
    "        self.driver.maximize_window()\n",
    "        self.driver.implicitly_wait(10)\n",
    "        time.sleep(1)\n",
    "        self.driver.find_element_by_id(\"atype_chosen\").click()\n",
    "        self.driver.find_element_by_xpath(\"//li[@class='active-result' and text()='State']\").click()\n",
    "        self.driver.find_element_by_name(\"datatabl_length\").click()\n",
    "        self.driver.find_element_by_xpath(\"//select[@name='datatabl_length']/option[text()='All']\").click()\n",
    "        self.driver.find_element_by_xpath(\"//th[text()='Week']\").click()\n",
    "        selectElement = self.driver.find_element_by_id(\"asel\")\n",
    "        self.states = [elem.get_attribute(\"textContent\") for elem in selectElement.find_elements_by_tag_name(\"option\")]\n",
    "    \n",
    "    def changeState(self):\n",
    "        dropDownSelect = self.driver.find_element_by_id(\"asel_chosen\")\n",
    "        dropDownSelect.click()\n",
    "        dropDownUl = dropDownSelect.find_element_by_class_name(\"chosen-results\")\n",
    "        dropDownLis = dropDownUl.find_elements_by_class_name('active-result')\n",
    "        dropDownLis[self.iterState].click()\n",
    "\n",
    "    def getData(self):\n",
    "        self.iterState = 0\n",
    "        data = []\n",
    "        fipsDf = pd.read_csv(base_url + r'files/fips.csv')\n",
    "        for state in self.states:\n",
    "            self.changeState()\n",
    "            data.append(self.getDataForState(fipsDf))\n",
    "            self.iterState += 1\n",
    "        return data\n",
    "\n",
    "    def getDataForState(self, fipsDf):\n",
    "        html = self.driver.page_source\n",
    "        soup = BeautifulSoup(html, 'html.parser')\n",
    "        div = soup.select_one(\"#datatabl\")\n",
    "        table = pd.read_html(str(div))[0]\n",
    "        table.insert(0, 'State', self.states[self.iterState], True)\n",
    "        table.insert(1, 'Postal code', fipsDf['postal code'][self.iterState], True)\n",
    "        table.insert(2, 'Fips', fipsDf['fips'][self.iterState], True)\n",
    "        return table"
   ]
  },
  {
   "cell_type": "code",
   "execution_count": 25,
   "metadata": {},
   "outputs": [
    {
     "data": {
      "text/plain": "<__main__.Droughts at 0x7f402a28d1f0>"
     },
     "execution_count": 25,
     "metadata": {},
     "output_type": "execute_result"
    }
   ],
   "source": [
    "droughts = Droughts(r'https://droughtmonitor.unl.edu/DmData/DataTables.aspx')\n",
    "droughts"
   ]
  },
  {
   "cell_type": "code",
   "execution_count": 26,
   "metadata": {},
   "outputs": [
    {
     "data": {
      "text/html": "<div>\n<style scoped>\n    .dataframe tbody tr th:only-of-type {\n        vertical-align: middle;\n    }\n\n    .dataframe tbody tr th {\n        vertical-align: top;\n    }\n\n    .dataframe thead th {\n        text-align: right;\n    }\n</style>\n<table border=\"1\" class=\"dataframe\">\n  <thead>\n    <tr style=\"text-align: right;\">\n      <th></th>\n      <th>State</th>\n      <th>Postal code</th>\n      <th>Fips</th>\n      <th>Week</th>\n      <th>None</th>\n      <th>D0-D4</th>\n      <th>D1-D4</th>\n      <th>D2-D4</th>\n      <th>D3-D4</th>\n      <th>D4</th>\n      <th>DSCI</th>\n    </tr>\n  </thead>\n  <tbody>\n    <tr>\n      <th>0</th>\n      <td>Alabama</td>\n      <td>AL</td>\n      <td>1</td>\n      <td>2000-01-04</td>\n      <td>0.00</td>\n      <td>100.00</td>\n      <td>47.98</td>\n      <td>16.35</td>\n      <td>0.00</td>\n      <td>0.0</td>\n      <td>164</td>\n    </tr>\n    <tr>\n      <th>1</th>\n      <td>Alabama</td>\n      <td>AL</td>\n      <td>1</td>\n      <td>2000-01-11</td>\n      <td>0.00</td>\n      <td>100.00</td>\n      <td>76.88</td>\n      <td>4.24</td>\n      <td>0.00</td>\n      <td>0.0</td>\n      <td>181</td>\n    </tr>\n    <tr>\n      <th>2</th>\n      <td>Alabama</td>\n      <td>AL</td>\n      <td>1</td>\n      <td>2000-01-18</td>\n      <td>0.00</td>\n      <td>100.00</td>\n      <td>75.71</td>\n      <td>4.24</td>\n      <td>0.00</td>\n      <td>0.0</td>\n      <td>180</td>\n    </tr>\n    <tr>\n      <th>3</th>\n      <td>Alabama</td>\n      <td>AL</td>\n      <td>1</td>\n      <td>2000-01-25</td>\n      <td>0.00</td>\n      <td>100.00</td>\n      <td>75.67</td>\n      <td>4.79</td>\n      <td>0.00</td>\n      <td>0.0</td>\n      <td>180</td>\n    </tr>\n    <tr>\n      <th>4</th>\n      <td>Alabama</td>\n      <td>AL</td>\n      <td>1</td>\n      <td>2000-02-01</td>\n      <td>0.00</td>\n      <td>100.00</td>\n      <td>50.07</td>\n      <td>0.17</td>\n      <td>0.00</td>\n      <td>0.0</td>\n      <td>150</td>\n    </tr>\n    <tr>\n      <th>...</th>\n      <td>...</td>\n      <td>...</td>\n      <td>...</td>\n      <td>...</td>\n      <td>...</td>\n      <td>...</td>\n      <td>...</td>\n      <td>...</td>\n      <td>...</td>\n      <td>...</td>\n      <td>...</td>\n    </tr>\n    <tr>\n      <th>58235</th>\n      <td>Wyoming</td>\n      <td>WY</td>\n      <td>56</td>\n      <td>2021-05-18</td>\n      <td>10.89</td>\n      <td>89.11</td>\n      <td>70.75</td>\n      <td>27.15</td>\n      <td>2.01</td>\n      <td>0.0</td>\n      <td>189</td>\n    </tr>\n    <tr>\n      <th>58236</th>\n      <td>Wyoming</td>\n      <td>WY</td>\n      <td>56</td>\n      <td>2021-05-25</td>\n      <td>10.89</td>\n      <td>89.11</td>\n      <td>66.56</td>\n      <td>24.87</td>\n      <td>1.98</td>\n      <td>0.0</td>\n      <td>183</td>\n    </tr>\n    <tr>\n      <th>58237</th>\n      <td>Wyoming</td>\n      <td>WY</td>\n      <td>56</td>\n      <td>2021-06-01</td>\n      <td>10.89</td>\n      <td>89.11</td>\n      <td>68.06</td>\n      <td>24.28</td>\n      <td>1.98</td>\n      <td>0.0</td>\n      <td>183</td>\n    </tr>\n    <tr>\n      <th>58238</th>\n      <td>Wyoming</td>\n      <td>WY</td>\n      <td>56</td>\n      <td>2021-06-08</td>\n      <td>9.76</td>\n      <td>90.24</td>\n      <td>72.28</td>\n      <td>27.12</td>\n      <td>6.32</td>\n      <td>0.0</td>\n      <td>196</td>\n    </tr>\n    <tr>\n      <th>58239</th>\n      <td>Wyoming</td>\n      <td>WY</td>\n      <td>56</td>\n      <td>2021-06-15</td>\n      <td>7.91</td>\n      <td>92.09</td>\n      <td>72.94</td>\n      <td>31.29</td>\n      <td>6.32</td>\n      <td>0.0</td>\n      <td>203</td>\n    </tr>\n  </tbody>\n</table>\n<p>58240 rows × 11 columns</p>\n</div>",
      "text/plain": "         State Postal code  Fips        Week   None   D0-D4  D1-D4  D2-D4  \\\n0      Alabama          AL     1  2000-01-04   0.00  100.00  47.98  16.35   \n1      Alabama          AL     1  2000-01-11   0.00  100.00  76.88   4.24   \n2      Alabama          AL     1  2000-01-18   0.00  100.00  75.71   4.24   \n3      Alabama          AL     1  2000-01-25   0.00  100.00  75.67   4.79   \n4      Alabama          AL     1  2000-02-01   0.00  100.00  50.07   0.17   \n...        ...         ...   ...         ...    ...     ...    ...    ...   \n58235  Wyoming          WY    56  2021-05-18  10.89   89.11  70.75  27.15   \n58236  Wyoming          WY    56  2021-05-25  10.89   89.11  66.56  24.87   \n58237  Wyoming          WY    56  2021-06-01  10.89   89.11  68.06  24.28   \n58238  Wyoming          WY    56  2021-06-08   9.76   90.24  72.28  27.12   \n58239  Wyoming          WY    56  2021-06-15   7.91   92.09  72.94  31.29   \n\n       D3-D4   D4  DSCI  \n0       0.00  0.0   164  \n1       0.00  0.0   181  \n2       0.00  0.0   180  \n3       0.00  0.0   180  \n4       0.00  0.0   150  \n...      ...  ...   ...  \n58235   2.01  0.0   189  \n58236   1.98  0.0   183  \n58237   1.98  0.0   183  \n58238   6.32  0.0   196  \n58239   6.32  0.0   203  \n\n[58240 rows x 11 columns]"
     },
     "execution_count": 26,
     "metadata": {},
     "output_type": "execute_result"
    }
   ],
   "source": [
    "dataframe = pd.DataFrame()\n",
    "dfList = droughts.getData()\n",
    "for df in dfList:\n",
    "    dataframe = dataframe.append(df)\n",
    "dataframe.reset_index(drop=True, inplace=True)\n",
    "dataframe"
   ]
  },
  {
   "cell_type": "code",
   "execution_count": 27,
   "metadata": {},
   "outputs": [
    {
     "data": {
      "text/html": "<div>\n<style scoped>\n    .dataframe tbody tr th:only-of-type {\n        vertical-align: middle;\n    }\n\n    .dataframe tbody tr th {\n        vertical-align: top;\n    }\n\n    .dataframe thead th {\n        text-align: right;\n    }\n</style>\n<table border=\"1\" class=\"dataframe\">\n  <thead>\n    <tr style=\"text-align: right;\">\n      <th></th>\n      <th>State</th>\n      <th>Postal code</th>\n      <th>Fips</th>\n      <th>Week</th>\n      <th>None</th>\n      <th>D0-D4</th>\n      <th>D1-D4</th>\n      <th>D2-D4</th>\n      <th>D3-D4</th>\n      <th>D4</th>\n      <th>DSCI</th>\n      <th>LEVEL</th>\n    </tr>\n  </thead>\n  <tbody>\n    <tr>\n      <th>0</th>\n      <td>Alabama</td>\n      <td>AL</td>\n      <td>1</td>\n      <td>2000-01-04</td>\n      <td>0.00</td>\n      <td>100.00</td>\n      <td>47.98</td>\n      <td>16.35</td>\n      <td>0.00</td>\n      <td>0.0</td>\n      <td>164</td>\n      <td>1</td>\n    </tr>\n    <tr>\n      <th>1</th>\n      <td>Alabama</td>\n      <td>AL</td>\n      <td>1</td>\n      <td>2000-01-11</td>\n      <td>0.00</td>\n      <td>100.00</td>\n      <td>76.88</td>\n      <td>4.24</td>\n      <td>0.00</td>\n      <td>0.0</td>\n      <td>181</td>\n      <td>1</td>\n    </tr>\n    <tr>\n      <th>2</th>\n      <td>Alabama</td>\n      <td>AL</td>\n      <td>1</td>\n      <td>2000-01-18</td>\n      <td>0.00</td>\n      <td>100.00</td>\n      <td>75.71</td>\n      <td>4.24</td>\n      <td>0.00</td>\n      <td>0.0</td>\n      <td>180</td>\n      <td>1</td>\n    </tr>\n    <tr>\n      <th>3</th>\n      <td>Alabama</td>\n      <td>AL</td>\n      <td>1</td>\n      <td>2000-01-25</td>\n      <td>0.00</td>\n      <td>100.00</td>\n      <td>75.67</td>\n      <td>4.79</td>\n      <td>0.00</td>\n      <td>0.0</td>\n      <td>180</td>\n      <td>1</td>\n    </tr>\n    <tr>\n      <th>4</th>\n      <td>Alabama</td>\n      <td>AL</td>\n      <td>1</td>\n      <td>2000-02-01</td>\n      <td>0.00</td>\n      <td>100.00</td>\n      <td>50.07</td>\n      <td>0.17</td>\n      <td>0.00</td>\n      <td>0.0</td>\n      <td>150</td>\n      <td>1</td>\n    </tr>\n    <tr>\n      <th>...</th>\n      <td>...</td>\n      <td>...</td>\n      <td>...</td>\n      <td>...</td>\n      <td>...</td>\n      <td>...</td>\n      <td>...</td>\n      <td>...</td>\n      <td>...</td>\n      <td>...</td>\n      <td>...</td>\n      <td>...</td>\n    </tr>\n    <tr>\n      <th>58235</th>\n      <td>Wyoming</td>\n      <td>WY</td>\n      <td>56</td>\n      <td>2021-05-18</td>\n      <td>10.89</td>\n      <td>89.11</td>\n      <td>70.75</td>\n      <td>27.15</td>\n      <td>2.01</td>\n      <td>0.0</td>\n      <td>189</td>\n      <td>1</td>\n    </tr>\n    <tr>\n      <th>58236</th>\n      <td>Wyoming</td>\n      <td>WY</td>\n      <td>56</td>\n      <td>2021-05-25</td>\n      <td>10.89</td>\n      <td>89.11</td>\n      <td>66.56</td>\n      <td>24.87</td>\n      <td>1.98</td>\n      <td>0.0</td>\n      <td>183</td>\n      <td>1</td>\n    </tr>\n    <tr>\n      <th>58237</th>\n      <td>Wyoming</td>\n      <td>WY</td>\n      <td>56</td>\n      <td>2021-06-01</td>\n      <td>10.89</td>\n      <td>89.11</td>\n      <td>68.06</td>\n      <td>24.28</td>\n      <td>1.98</td>\n      <td>0.0</td>\n      <td>183</td>\n      <td>1</td>\n    </tr>\n    <tr>\n      <th>58238</th>\n      <td>Wyoming</td>\n      <td>WY</td>\n      <td>56</td>\n      <td>2021-06-08</td>\n      <td>9.76</td>\n      <td>90.24</td>\n      <td>72.28</td>\n      <td>27.12</td>\n      <td>6.32</td>\n      <td>0.0</td>\n      <td>196</td>\n      <td>1</td>\n    </tr>\n    <tr>\n      <th>58239</th>\n      <td>Wyoming</td>\n      <td>WY</td>\n      <td>56</td>\n      <td>2021-06-15</td>\n      <td>7.91</td>\n      <td>92.09</td>\n      <td>72.94</td>\n      <td>31.29</td>\n      <td>6.32</td>\n      <td>0.0</td>\n      <td>203</td>\n      <td>2</td>\n    </tr>\n  </tbody>\n</table>\n<p>58240 rows × 12 columns</p>\n</div>",
      "text/plain": "         State Postal code  Fips        Week   None   D0-D4  D1-D4  D2-D4  \\\n0      Alabama          AL     1  2000-01-04   0.00  100.00  47.98  16.35   \n1      Alabama          AL     1  2000-01-11   0.00  100.00  76.88   4.24   \n2      Alabama          AL     1  2000-01-18   0.00  100.00  75.71   4.24   \n3      Alabama          AL     1  2000-01-25   0.00  100.00  75.67   4.79   \n4      Alabama          AL     1  2000-02-01   0.00  100.00  50.07   0.17   \n...        ...         ...   ...         ...    ...     ...    ...    ...   \n58235  Wyoming          WY    56  2021-05-18  10.89   89.11  70.75  27.15   \n58236  Wyoming          WY    56  2021-05-25  10.89   89.11  66.56  24.87   \n58237  Wyoming          WY    56  2021-06-01  10.89   89.11  68.06  24.28   \n58238  Wyoming          WY    56  2021-06-08   9.76   90.24  72.28  27.12   \n58239  Wyoming          WY    56  2021-06-15   7.91   92.09  72.94  31.29   \n\n       D3-D4   D4  DSCI  LEVEL  \n0       0.00  0.0   164      1  \n1       0.00  0.0   181      1  \n2       0.00  0.0   180      1  \n3       0.00  0.0   180      1  \n4       0.00  0.0   150      1  \n...      ...  ...   ...    ...  \n58235   2.01  0.0   189      1  \n58236   1.98  0.0   183      1  \n58237   1.98  0.0   183      1  \n58238   6.32  0.0   196      1  \n58239   6.32  0.0   203      2  \n\n[58240 rows x 12 columns]"
     },
     "execution_count": 27,
     "metadata": {},
     "output_type": "execute_result"
    }
   ],
   "source": [
    "dataframe['LEVEL'] = dataframe['DSCI'] // 100\n",
    "dataframe"
   ]
  },
  {
   "cell_type": "code",
   "execution_count": 28,
   "metadata": {},
   "outputs": [],
   "source": [
    "dataframe.to_csv(base_url + r'files/drought.csv')"
   ]
  }
 ],
 "metadata": {
  "language_info": {
   "name": "python",
   "nbconvert_exporter": "python"
  },
  "orig_nbformat": 2
 },
 "nbformat": 4,
 "nbformat_minor": 2
}